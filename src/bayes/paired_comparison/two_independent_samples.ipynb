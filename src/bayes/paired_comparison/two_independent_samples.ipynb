{
 "cells": [
  {
   "cell_type": "markdown",
   "metadata": {},
   "source": [
    "# Two Independent Samples\n",
    "Alternative of t-test for two independent samples"
   ]
  },
  {
   "cell_type": "code",
   "execution_count": null,
   "metadata": {},
   "outputs": [],
   "source": [
    "# Enable the commands below when running this program on Google Colab.\n",
    "# !pip install arviz==0.7\n",
    "# !pip install pymc3==3.8\n",
    "# !pip install Theano==1.0.4\n",
    "\n",
    "import numpy as np\n",
    "import pandas as pd\n",
    "from scipy import stats\n",
    "import matplotlib.pyplot as plt\n",
    "import seaborn as sns\n",
    "\n",
    "import pymc3 as pm\n",
    "\n",
    "plt.style.use('seaborn-darkgrid')\n",
    "np.set_printoptions(precision=3)\n",
    "pd.set_option('display.precision', 3)"
   ]
  },
  {
   "cell_type": "code",
   "execution_count": null,
   "metadata": {},
   "outputs": [],
   "source": [
    "# Math test scores of each student in different class.\n",
    "# Class A: Experimental group\n",
    "# Class B: Control group\n",
    "CLASS_A = [49, 66, 69, 55, 54, 72, 51, 76, 40, 62, 66, 51, 59, 68, 66, 57, 53, 66, 58, 57]\n",
    "CLASS_B = [41, 55, 21, 49, 53, 50, 52, 67, 54, 69, 57, 48, 31, 52, 56, 50, 46, 38, 62, 59]"
   ]
  },
  {
   "cell_type": "code",
   "execution_count": null,
   "metadata": {},
   "outputs": [],
   "source": [
    "# Vsualize the data\n",
    "plt.boxplot([CLASS_A, CLASS_B], labels=['Class A', 'CLASS B'])\n",
    "plt.ylabel('Score')\n",
    "plt.show()"
   ]
  },
  {
   "cell_type": "markdown",
   "metadata": {},
   "source": [
    "## 標準偏差が同一な正規分布モデル（SAME）"
   ]
  },
  {
   "cell_type": "code",
   "execution_count": null,
   "metadata": {},
   "outputs": [],
   "source": [
    "with pm.Model() as model_same:\n",
    "    # Prior distribution\n",
    "    mu_1 = pm.Uniform('mu1', 0, 100)\n",
    "    mu_2 = pm.Uniform('mu2', 0, 100)\n",
    "    sigma = pm.Uniform('sigma', 0, 50)\n",
    "\n",
    "    # Likelihood\n",
    "    x_1 = pm.Normal('x1', mu=mu_1, sd=sigma, observed=CLASS_A)\n",
    "    x_2 = pm.Normal('x2', mu=mu_2, sd=sigma, observed=CLASS_B)\n",
    "\n",
    "    # Difference of average values\n",
    "    diff_mu = pm.Deterministic('mu1 - mu2', mu_1 - mu_2)\n",
    "\n",
    "    trace_same = pm.sample(21000, chains=5)"
   ]
  },
  {
   "cell_type": "code",
   "execution_count": null,
   "metadata": {},
   "outputs": [],
   "source": [
    "chain_same = trace_same[1000:]\n",
    "# arviz.plot_trace(chain_same)\n",
    "pm.traceplot(chain_same)\n",
    "plt.show()"
   ]
  },
  {
   "cell_type": "code",
   "execution_count": null,
   "metadata": {},
   "outputs": [],
   "source": [
    "pm.summary(chain_same)"
   ]
  },
  {
   "cell_type": "markdown",
   "metadata": {},
   "source": [
    "### RQ1: クラスAの平均値がクラスBの平均値より大きい確率"
   ]
  },
  {
   "cell_type": "code",
   "execution_count": null,
   "metadata": {},
   "outputs": [],
   "source": [
    "print('p(mu1 - mu2 > 0) = {:.3f}'.format((chain_same['mu1'] - chain_same['mu2'] > 0).mean()))\n",
    "# print(≈'p(mu1 - mu2 > 0) = {:.3f}'.format((chain_same['mu1 - mu2'] > 0).mean()))"
   ]
  },
  {
   "cell_type": "markdown",
   "metadata": {},
   "source": [
    "### RQ2: クラスAとクラスBの平均値の差の点推定と区間推定（２つのクラスの平均的成績差は素点でどれほどか、またその差はどの程度の幅で確信できるのか）"
   ]
  },
  {
   "cell_type": "code",
   "execution_count": null,
   "metadata": {},
   "outputs": [],
   "source": [
    "pm.plot_posterior(chain_same['mu1 - mu2'], credible_interval=0.95, point_estimate='mode')\n",
    "plt.xlabel(r'$\\mu$1 - $\\mu$2')\n",
    "plt.show()"
   ]
  },
  {
   "cell_type": "code",
   "execution_count": null,
   "metadata": {},
   "outputs": [],
   "source": [
    "print('Point estimation (difference of population mean): {:.3f}'.format(chain_same['mu1 - mu2'].mean()))\n",
    "hpd_0025 = np.quantile(chain_same['mu1 - mu2'], 0.025)\n",
    "hpd_0975 = np.quantile(chain_same['mu1 - mu2'], 0.975)\n",
    "print('Credible Interval (95%): ({:.3f}, {:.3f})'.format(hpd_0975, hpd_0025))"
   ]
  },
  {
   "cell_type": "markdown",
   "metadata": {},
   "source": [
    "### RQ3: 平均値の差の片側区間推定の下限・上限（平均的な成績の上昇はどれだけ見込めるか？また、どの程度の成績の上昇しか高々見込めないのか？）"
   ]
  },
  {
   "cell_type": "code",
   "execution_count": null,
   "metadata": {},
   "outputs": [],
   "source": [
    "hpd_005 = np.quantile(chain_same['mu1 - mu2'], 0.05)\n",
    "hpd_0950 = np.quantile(chain_same['mu1 - mu2'], 0.95)\n",
    "print('At most (95%): {:.3f}'.format(hpd_0950))\n",
    "print('At least (95%): {:.3f}'.format(hpd_005))"
   ]
  },
  {
   "cell_type": "markdown",
   "metadata": {},
   "source": [
    "### RQ4: 平均値の差が基準点cより大きい確率（平均点の差が少ししか無いのであればメリットは少なく導入は難しい。5点より大きい成績上昇が導入の条件で、その確率が70%より大きいならば採用する。採用すべきか、見送るべきか？）"
   ]
  },
  {
   "cell_type": "code",
   "execution_count": null,
   "metadata": {},
   "outputs": [],
   "source": [
    "print('p(mu1 - mu2 > 3) = {:.3f}'.format((chain_same['mu1'] - chain_same['mu2'] > 3).mean()))\n",
    "print('p(mu1 - mu2 > 5) = {:.3f}'.format((chain_same['mu1'] - chain_same['mu2'] > 5).mean()))\n",
    "print('p(mu1 - mu2 > 10) = {:.3f}'.format((chain_same['mu1'] - chain_same['mu2'] > 10).mean()))"
   ]
  },
  {
   "cell_type": "markdown",
   "metadata": {},
   "source": [
    "## 標準偏差が異なる正規分布モデル（DIFF）"
   ]
  },
  {
   "cell_type": "code",
   "execution_count": null,
   "metadata": {},
   "outputs": [],
   "source": [
    "with pm.Model() as model_diff:\n",
    "    # Prior distribution\n",
    "    mu_1 = pm.Uniform('mu1', 0, 100)\n",
    "    mu_2 = pm.Uniform('mu2', 0, 100)\n",
    "    sigma_1 = pm.Uniform('sigma1', 0, 50)\n",
    "    sigma_2 = pm.Uniform('sigma2', 0, 50)\n",
    "    \n",
    "    # Likelihood\n",
    "    x_1 = pm.Normal('x1', mu=mu_1, sd=sigma_1, observed=CLASS_A)\n",
    "    x_2 = pm.Normal('x2', mu=mu_2, sd=sigma_2, observed=CLASS_B)\n",
    "\n",
    "    # Difference of average values\n",
    "    diff_mu = pm.Deterministic('mu1 - mu2', mu_1 - mu_2)\n",
    "\n",
    "    trace_diff = pm.sample(21000, chains=5)"
   ]
  },
  {
   "cell_type": "code",
   "execution_count": null,
   "metadata": {},
   "outputs": [],
   "source": [
    "chain_diff = trace_diff[1000:]\n",
    "pm.traceplot(chain_diff)\n",
    "plt.show()"
   ]
  },
  {
   "cell_type": "code",
   "execution_count": null,
   "metadata": {},
   "outputs": [],
   "source": [
    "pm.summary(chain_diff)"
   ]
  },
  {
   "cell_type": "code",
   "execution_count": null,
   "metadata": {},
   "outputs": [],
   "source": [
    "pm.plot_posterior(chain_diff['mu1 - mu2'], credible_interval=0.95, point_estimate='mode')\n",
    "plt.xlabel(r'$\\mu$1 - $\\mu$2')\n",
    "plt.show()"
   ]
  },
  {
   "cell_type": "markdown",
   "metadata": {},
   "source": [
    "### RQ1: クラスAの平均値がクラスBの平均値より大きい確率"
   ]
  },
  {
   "cell_type": "code",
   "execution_count": null,
   "metadata": {},
   "outputs": [],
   "source": [
    "print('p(mu1 - mu2 > 0) = {:.3f}'.format((chain_diff['mu1'] - chain_diff['mu2'] > 0).mean()))"
   ]
  },
  {
   "cell_type": "markdown",
   "metadata": {},
   "source": [
    "### RQ2: クラスAとクラスBの平均値の差の点推定と区間推定（２つのクラスの平均的成績差は素点でどれほどか、またその差はどの程度の幅で確信できるのか）"
   ]
  },
  {
   "cell_type": "code",
   "execution_count": null,
   "metadata": {},
   "outputs": [],
   "source": [
    "print('Point estimation (difference of population mean): {:.3f}'.format(chain_same['mu1 - mu2'].mean()))\n",
    "hpd_0025 = np.quantile(chain_same['mu1 - mu2'], 0.025)\n",
    "hpd_0975 = np.quantile(chain_same['mu1 - mu2'], 0.975)\n",
    "print('Credible Interval (95%): ({:.3f}, {:.3f})'.format(hpd_0025, hpd_0975))"
   ]
  },
  {
   "cell_type": "markdown",
   "metadata": {},
   "source": [
    "### RQ3: 平均値の差の片側区間推定の下限・上限（平均的な成績の上昇はどれだけ見込めるか？また、どの程度の成績の上昇しか高々見込めないのか？）"
   ]
  },
  {
   "cell_type": "code",
   "execution_count": null,
   "metadata": {},
   "outputs": [],
   "source": [
    "hpd_005 = np.quantile(chain_diff['mu1 - mu2'], 0.05)\n",
    "hpd_0950 = np.quantile(chain_diff['mu1 - mu2'], 0.95)\n",
    "print('At most (95%): {:.3f}'.format(hpd_0950))\n",
    "print('At least (95%): {:.3f}'.format(hpd_005))"
   ]
  },
  {
   "cell_type": "markdown",
   "metadata": {},
   "source": [
    "### RQ4: 平均値の差が基準点cより大きい確率（平均点の差が少ししか無いのであればメリットは少なく導入は難しい。5点より大きい成績上昇が導入の条件で、その確率が70%より大きいならば採用する。採用すべきか、見送るべきか？）"
   ]
  },
  {
   "cell_type": "code",
   "execution_count": null,
   "metadata": {},
   "outputs": [],
   "source": [
    "print('p(mu1 - mu2 > 3) = {:.3f}'.format((chain_diff['mu1'] - chain_diff['mu2'] > 3).mean()))\n",
    "print('p(mu1 - mu2 > 5) = {:.3f}'.format((chain_diff['mu1'] - chain_diff['mu2'] > 5).mean()))\n",
    "print('p(mu1 - mu2 > 10) = {:.3f}'.format((chain_diff['mu1'] - chain_diff['mu2'] > 10).mean()))"
   ]
  },
  {
   "cell_type": "markdown",
   "metadata": {},
   "source": [
    "## 2つのモデルの出力結果を比較"
   ]
  },
  {
   "cell_type": "code",
   "execution_count": null,
   "metadata": {},
   "outputs": [],
   "source": [
    "data = {\n",
    "    'SAME': [\n",
    "        chain_same['mu1'].mean(),\n",
    "        chain_same['mu2'].mean(),\n",
    "        chain_same['sigma'].mean(),\n",
    "        chain_same['sigma'].mean(),\n",
    "        chain_same['mu1 - mu2'].mean()\n",
    "    ],\n",
    "    'DIFF': [\n",
    "        chain_diff['mu1'].mean(),\n",
    "        chain_diff['mu2'].mean(),\n",
    "        chain_diff['sigma1'].mean(),\n",
    "        chain_diff['sigma2'].mean(),\n",
    "        chain_diff['mu1 - mu2'].mean()\n",
    "    ]\n",
    "}\n",
    "\n",
    "df = pd.DataFrame(data, index=['mu1', 'mu2', 'sigma1', 'sigma2', 'mu1-mu2'])\n",
    "\n",
    "display(df)"
   ]
  },
  {
   "cell_type": "code",
   "execution_count": null,
   "metadata": {},
   "outputs": [],
   "source": []
  }
 ],
 "metadata": {
  "kernelspec": {
   "display_name": "Python 3.8.1 64-bit ('ex_design_analysis': pipenv)",
   "metadata": {
    "interpreter": {
     "hash": "d93d3809a412eeca67f3d81705e284a9fa16a5e112e379b94b99b867ad05122c"
    }
   },
   "name": "python3"
  },
  "language_info": {
   "codemirror_mode": {
    "name": "ipython",
    "version": 3
   },
   "file_extension": ".py",
   "mimetype": "text/x-python",
   "name": "python",
   "nbconvert_exporter": "python",
   "pygments_lexer": "ipython3",
   "version": "3.8.1-final"
  }
 },
 "nbformat": 4,
 "nbformat_minor": 2
}
