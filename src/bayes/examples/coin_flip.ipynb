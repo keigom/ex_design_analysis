{
 "cells": [
  {
   "cell_type": "markdown",
   "metadata": {},
   "source": [
    "# Coin-flip problem"
   ]
  },
  {
   "cell_type": "code",
   "execution_count": null,
   "metadata": {},
   "outputs": [],
   "source": [
    "# Enable the commands below when running this program on Google Colab.\n",
    "# !pip install arviz==0.7\n",
    "# !pip install pymc3==3.8\n",
    "# !pip install Theano==1.0.4\n",
    "\n",
    "import numpy as np\n",
    "import pandas as pd\n",
    "from scipy import stats\n",
    "import matplotlib.pyplot as plt\n",
    "import seaborn as sns\n",
    "\n",
    "import pymc3 as pm\n",
    "import theano.tensor as tt\n",
    "\n",
    "import statistics\n",
    "import math\n",
    "\n",
    "plt.style.use('seaborn-darkgrid')\n",
    "np.set_printoptions(precision=3)\n",
    "pd.set_option('display.precision', 3)"
   ]
  },
  {
   "cell_type": "code",
   "execution_count": null,
   "metadata": {},
   "outputs": [],
   "source": [
    "# 表が出る確率が0.35のコインを4回投げる\n",
    "# 1が表、0が裏\n",
    "np.random.seed(123)\n",
    "n_experiments = 4\n",
    "theta_real = 0.35\n",
    "data = stats.bernoulli.rvs(p=theta_real, size=n_experiments)  # Random Value Sampling\n",
    "print(data)"
   ]
  },
  {
   "cell_type": "markdown",
   "metadata": {},
   "source": [
    "## Bayesian analysis"
   ]
  },
  {
   "cell_type": "code",
   "execution_count": null,
   "metadata": {},
   "outputs": [],
   "source": [
    "with pm.Model() as our_first_model:\n",
    "    # Prior distribution\n",
    "    theta = pm.Uniform('theta', 0, 1)\n",
    "\n",
    "    # Likelihood\n",
    "    y = pm.Bernoulli('y', p=theta, observed=data)\n",
    "\n",
    "    trace = pm.sample(21000, chains=5)"
   ]
  },
  {
   "cell_type": "code",
   "execution_count": null,
   "metadata": {},
   "outputs": [],
   "source": [
    "chain = trace[1000:]\n",
    "pm.traceplot(chain)\n",
    "plt.show()"
   ]
  },
  {
   "cell_type": "code",
   "execution_count": null,
   "metadata": {},
   "outputs": [],
   "source": [
    "pm.summary(chain, hdi_prob=0.95)"
   ]
  },
  {
   "cell_type": "code",
   "execution_count": null,
   "metadata": {},
   "outputs": [],
   "source": [
    "pm.plot_posterior(chain, hdi_prob=0.95)\n",
    "plt.show()"
   ]
  },
  {
   "cell_type": "code",
   "execution_count": null,
   "metadata": {},
   "outputs": [],
   "source": []
  }
 ],
 "metadata": {
  "kernelspec": {
   "display_name": "Python 3",
   "language": "python",
   "name": "python3"
  },
  "language_info": {
   "codemirror_mode": {
    "name": "ipython",
    "version": 3
   },
   "file_extension": ".py",
   "mimetype": "text/x-python",
   "name": "python",
   "nbconvert_exporter": "python",
   "pygments_lexer": "ipython3",
   "version": "3.8.1-final"
  }
 },
 "nbformat": 4,
 "nbformat_minor": 2
}
