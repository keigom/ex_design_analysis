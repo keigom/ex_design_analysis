{
 "cells": [
  {
   "cell_type": "markdown",
   "metadata": {},
   "source": [
    "# Two Paired Samples\n",
    "Alternative of paired sample t-test"
   ]
  },
  {
   "cell_type": "code",
   "execution_count": null,
   "metadata": {},
   "outputs": [],
   "source": [
    "# Enable the commands below when running this program on Google Colab.\n",
    "# !pip install arviz==0.7\n",
    "# !pip install pymc3==3.8\n",
    "# !pip install Theano==1.0.4import numpy as np\n",
    "\n",
    "import numpy as np\n",
    "import pandas as pd\n",
    "from scipy import stats\n",
    "import matplotlib.pyplot as plt\n",
    "import seaborn as sns\n",
    "\n",
    "import pymc3 as pm\n",
    "import theano.tensor as tt\n",
    "\n",
    "import statistics\n",
    "import math\n",
    "\n",
    "plt.style.use('seaborn-darkgrid')\n",
    "np.set_printoptions(precision=3)\n",
    "pd.set_option('display.precision', 3)"
   ]
  },
  {
   "cell_type": "code",
   "execution_count": null,
   "metadata": {},
   "outputs": [],
   "source": [
    "# Weight of 20 women before/after the diet program.\n",
    "WEIGHT_BEFORE = [53.1, 51.5, 45.5, 55.5, 49.6, 50.1, 59.2, 54.7, 53.0, 48.6, 55.3, 52.6, 51.7, 48.6, 56.4, 42.9, 50.3, 42.4, 51.2, 39.1]\n",
    "WEIGHT_AFTER = [48.3, 45.2, 46.6, 56.6, 41.2, 44.6, 51.9, 55.5, 45.4, 47.6, 50.6, 54.5, 49.0, 43.9, 53.8, 40.1, 52.8, 35.3, 55.6, 38.0]"
   ]
  },
  {
   "cell_type": "code",
   "execution_count": null,
   "metadata": {},
   "outputs": [],
   "source": [
    "# before\n",
    "print('[before]')\n",
    "print('mean: {:.3f}'.format(statistics.mean(WEIGHT_BEFORE)))\n",
    "print('standard deviation: {:.3f}'.format(statistics.pstdev(WEIGHT_BEFORE)))\n",
    "print('variance: {:.3f}'.format(statistics.pvariance(WEIGHT_BEFORE)))\n",
    "print('25, 50, 75%: {}'.format(np.percentile(WEIGHT_BEFORE, [25, 50, 75])))\n",
    "print()\n",
    "\n",
    "# after\n",
    "print('[after]')\n",
    "print('mean: {:.3f}'.format(statistics.mean(WEIGHT_AFTER)))\n",
    "print('standard deviation: {:.3f}'.format(statistics.pstdev(WEIGHT_AFTER)))\n",
    "print('variance: {:.3f}'.format(statistics.pvariance(WEIGHT_AFTER)))\n",
    "print('25, 50, 75%: {}'.format(np.percentile(WEIGHT_AFTER, [25, 50, 75])))"
   ]
  },
  {
   "cell_type": "code",
   "execution_count": null,
   "metadata": {},
   "outputs": [],
   "source": [
    "# Visualize the data (boxplot)\n",
    "plt.boxplot([WEIGHT_BEFORE, WEIGHT_AFTER], labels=['Before', 'After'])\n",
    "plt.ylabel('Weight')\n",
    "plt.show()"
   ]
  },
  {
   "cell_type": "code",
   "execution_count": null,
   "metadata": {},
   "outputs": [],
   "source": [
    "# Visualize the data (correlation)\n",
    "fig, ax = plt.subplots()\n",
    "\n",
    "ax.scatter(WEIGHT_BEFORE, WEIGHT_AFTER)\n",
    "plt.xlabel('before (kg)')\n",
    "plt.ylabel('after (kg)')\n",
    "\n",
    "lims = [\n",
    "    np.min([ax.get_xlim(), ax.get_ylim()]),\n",
    "    np.max([ax.get_xlim(), ax.get_ylim()])\n",
    "]\n",
    "ax.plot(lims, lims, 'k-', alpha=0.75, zorder=0)\n",
    "ax.set_aspect('equal')\n",
    "\n",
    "plt.show()"
   ]
  },
  {
   "cell_type": "code",
   "execution_count": null,
   "metadata": {},
   "outputs": [],
   "source": [
    "# Summary\n",
    "data = pd.DataFrame([WEIGHT_BEFORE, WEIGHT_AFTER], index=['Before', 'After']).transpose()\n",
    "data.describe()"
   ]
  },
  {
   "cell_type": "code",
   "execution_count": null,
   "metadata": {},
   "outputs": [],
   "source": [
    "# mean deviation data\n",
    "before_mean = sum(WEIGHT_BEFORE) / len(WEIGHT_BEFORE)\n",
    "mdd_before = list(map(lambda x: x - before_mean, WEIGHT_BEFORE))\n",
    "after_mean = sum(WEIGHT_AFTER) / len(WEIGHT_AFTER)\n",
    "mdd_after = list(map(lambda x: x - after_mean, WEIGHT_AFTER))\n",
    "\n",
    "# covariance\n",
    "s = sum(list(b * a for b, a in zip(mdd_before, mdd_after))) / len(mdd_after)\n",
    "print('Covariance: {:.3f}'.format(s))\n",
    "\n",
    "# correlation coefficient\n",
    "weight_before_std = list(map(lambda x: x / statistics.pstdev(WEIGHT_BEFORE), mdd_before))\n",
    "weight_after_std = list(map(lambda x: x / statistics.pstdev(WEIGHT_AFTER), mdd_after))\n",
    "r = sum(list(b * a for b, a in zip(weight_before_std, weight_after_std))) / len(weight_before_std)\n",
    "print('Correlation coefficient: {:.3f}'.format(r))\n",
    "\n",
    "v_before = statistics.pvariance(WEIGHT_BEFORE)\n",
    "v_after = statistics.pvariance(WEIGHT_AFTER)\n",
    "cov = np.array([[v_before, s], [s, v_after]])\n",
    "print('Covariance matrix:\\n', cov)"
   ]
  },
  {
   "cell_type": "markdown",
   "metadata": {},
   "source": [
    "## Bayesian analysis"
   ]
  },
  {
   "cell_type": "code",
   "execution_count": null,
   "metadata": {},
   "outputs": [],
   "source": [
    "with pm.Model() as mv_model:\n",
    "    # Prior distribution\n",
    "    mu = pm.Normal('mu', 0, 100, shape=2)\n",
    "    sigma = pm.Uniform('sigma', 0, 100, shape=2)\n",
    "\n",
    "    # https://stackoverflow.com/questions/45534752/model-multivariate-normal-with-separate-means-dimension-mismatch-error\n",
    "    C_triu = pm.LKJCorr('omega', n=2, p=2)\n",
    "    C = tt.fill_diagonal(C_triu[np.zeros((2, 2), dtype=np.int64)], 1)\n",
    "    sigma_diag = tt.nlinalg.diag(sigma)\n",
    "    cov = tt.nlinalg.matrix_dot(sigma_diag, C, sigma_diag)\n",
    "\n",
    "    # Likelihood\n",
    "    y_pred = pm.MvNormal('y_pred', mu=mu, cov=cov, observed=np.stack((WEIGHT_BEFORE, WEIGHT_AFTER)).T)\n",
    "\n",
    "    # Difference of average values\n",
    "    delta_mu = pm.Deterministic('mu1 - mu2', mu[0] - mu[1])\n",
    "\n",
    "    trace = pm.sample(21000, chains=5)"
   ]
  },
  {
   "cell_type": "code",
   "execution_count": null,
   "metadata": {},
   "outputs": [],
   "source": [
    "chain = trace[1000:]\n",
    "pm.traceplot(chain)\n",
    "plt.show()"
   ]
  },
  {
   "cell_type": "code",
   "execution_count": null,
   "metadata": {},
   "outputs": [],
   "source": [
    "pm.summary(chain)"
   ]
  },
  {
   "cell_type": "code",
   "execution_count": null,
   "metadata": {},
   "outputs": [],
   "source": [
    "pm.plot_posterior(chain['mu1 - mu2'], credible_interval=0.95, point_estimate='mode')\n",
    "plt.xlabel(r'$\\mu$1 - $\\mu$2')\n",
    "plt.show()"
   ]
  },
  {
   "cell_type": "markdown",
   "metadata": {},
   "source": [
    "### RQ1: 「参加後体重」の母平均が「参加前体重」の母平均より軽い確率\n"
   ]
  },
  {
   "cell_type": "code",
   "execution_count": null,
   "metadata": {},
   "outputs": [],
   "source": [
    "print('p(mu1 - mu2 > 0) = {:.3f}'.format((chain['mu'][:,0] - chain['mu'][:,1] > 0).mean()))\n",
    "# print('p(mu1 - mu2 > 0) = {:.3f}'.format((chain['mu1 - mu2'] > 0).mean()))"
   ]
  },
  {
   "cell_type": "markdown",
   "metadata": {},
   "source": [
    "### RQ2: ダイエットプログラムに参加した人と参加前の人では、平均値に何kgの差があるか。また、その減量はどの程度の幅で確信できるか。95%の確信で答えよ。"
   ]
  },
  {
   "cell_type": "code",
   "execution_count": null,
   "metadata": {},
   "outputs": [],
   "source": [
    "print('Point estimation (difference of mean values): {:.3f}kg'.format(chain['mu1 - mu2'].mean()))\n",
    "print('Point estimation (standard deviation): {:.3f}kg'.format(chain['mu1 - mu2'].std()))\n",
    "hpd_0025 = np.quantile(chain['mu1 - mu2'], 0.025)\n",
    "hpd_0975 = np.quantile(chain['mu1 - mu2'], 0.975)\n",
    "print('Credible Interval (95%): ({:.3f}, {:.3f})'.format(hpd_0025, hpd_0975))"
   ]
  },
  {
   "cell_type": "markdown",
   "metadata": {},
   "source": [
    "### RQ3: ダイエットプログラムに参加した人と参加前の人では、少なくともどれだけ体重差があるか。あるいは、どの程度の体重差しか高々見込めないか。95%の確信で答えよ。"
   ]
  },
  {
   "cell_type": "code",
   "execution_count": null,
   "metadata": {},
   "outputs": [],
   "source": [
    "hpd_005 = np.quantile(chain['mu1 - mu2'], 0.05)\n",
    "hpd_095 = np.quantile(chain['mu1 - mu2'], 0.95)\n",
    "print('At most (95%): {:.3f}kg'.format(hpd_095))\n",
    "print('At least (95%): {:.3f}kg'.format(hpd_005))"
   ]
  },
  {
   "cell_type": "markdown",
   "metadata": {},
   "source": [
    "### RQ4: ダイエットプログラムに参加した人と参加前の人の平均値差で、2kgより減量できる確率が70%より大きいならば参加したい。参加すべきか、あるいは見送るべきか。"
   ]
  },
  {
   "cell_type": "code",
   "execution_count": null,
   "metadata": {},
   "outputs": [],
   "source": [
    "print('p(mu1 - mu2 > 2kg) = {:.3f}'.format((chain['mu1 - mu2'] > 2).mean()))"
   ]
  },
  {
   "cell_type": "code",
   "execution_count": null,
   "metadata": {},
   "outputs": [],
   "source": []
  }
 ],
 "metadata": {
  "kernelspec": {
   "display_name": "Python 3.8.1 64-bit ('ex_design_analysis': pipenv)",
   "metadata": {
    "interpreter": {
     "hash": "d93d3809a412eeca67f3d81705e284a9fa16a5e112e379b94b99b867ad05122c"
    }
   },
   "name": "python3"
  },
  "language_info": {
   "codemirror_mode": {
    "name": "ipython",
    "version": 3
   },
   "file_extension": ".py",
   "mimetype": "text/x-python",
   "name": "python",
   "nbconvert_exporter": "python",
   "pygments_lexer": "ipython3",
   "version": "3.8.1-final"
  }
 },
 "nbformat": 4,
 "nbformat_minor": 2
}
