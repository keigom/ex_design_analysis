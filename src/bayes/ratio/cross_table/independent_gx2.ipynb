{
 "cells": [
  {
   "cell_type": "markdown",
   "metadata": {},
   "source": [
    "# Independent g x 2 cross table\n",
    "Alternative of z-test and chi-square test"
   ]
  },
  {
   "cell_type": "code",
   "execution_count": null,
   "metadata": {},
   "outputs": [],
   "source": [
    "# Enable the commands below when running this program on Google Colab.\n",
    "# !pip install arviz==0.7\n",
    "# !pip install pymc3==3.8\n",
    "# !pip install Theano==1.0.4\n",
    "\n",
    "import numpy as np\n",
    "import pandas as pd\n",
    "from scipy import stats\n",
    "import matplotlib.pyplot as plt\n",
    "import seaborn as sns\n",
    "\n",
    "import pymc3 as pm\n",
    "\n",
    "import math\n",
    "\n",
    "plt.style.use('seaborn-darkgrid')\n",
    "np.set_printoptions(precision=3)\n",
    "pd.set_option('display.precision', 3)"
   ]
  },
  {
   "cell_type": "markdown",
   "metadata": {},
   "source": [
    "## Q. People (junior high school, high school, university students, and adults) were asked if they had ever been on a date with the opposite sex. Estimate the population ratio."
   ]
  },
  {
   "cell_type": "code",
   "execution_count": null,
   "metadata": {},
   "outputs": [],
   "source": [
    "index = ['Junior High', 'High', 'University', 'Adult']\n",
    "data = pd.DataFrame([[38, 63], [51, 48], [66, 34], [79, 23]], columns=['Yes', 'No'], index=index)\n",
    "display(data)"
   ]
  },
  {
   "cell_type": "code",
   "execution_count": null,
   "metadata": {},
   "outputs": [],
   "source": [
    "with pm.Model() as model_multi:\n",
    "    # Prior distribution\n",
    "    p1 = pm.Uniform('p1', 0, 1)\n",
    "    p2 = pm.Uniform('p2', 0, 1)\n",
    "    p3 = pm.Uniform('p3', 0, 1)\n",
    "    p4 = pm.Uniform('p4', 0, 1)\n",
    "\n",
    "    # Likelihood\n",
    "    y1_pred = pm.Binomial('y1_pred', n=data.loc['Junior High'].sum(), p=p1, observed=data.loc['Junior High']['Yes'])\n",
    "    y2_pred = pm.Binomial('y2_pred', n=data.loc['High'].sum(), p=p2, observed=data.loc['High']['Yes'])\n",
    "    y3_pred = pm.Binomial('y3_pred', n=data.loc['University'].sum(), p=p3, observed=data.loc['University']['Yes'])\n",
    "    y4_pred = pm.Binomial('y4_pred', n=data.loc['Adult'].sum(), p=p4, observed=data.loc['Adult']['Yes'])\n",
    "\n",
    "    trace = pm.sample(21000, chains=5)"
   ]
  },
  {
   "cell_type": "code",
   "execution_count": null,
   "metadata": {},
   "outputs": [],
   "source": [
    "chain = trace[1000:]\n",
    "pm.traceplot(chain)\n",
    "plt.show()"
   ]
  },
  {
   "cell_type": "code",
   "execution_count": null,
   "metadata": {},
   "outputs": [],
   "source": [
    "pm.summary(chain)"
   ]
  },
  {
   "cell_type": "markdown",
   "metadata": {},
   "source": [
    "### RQ1: どのカテゴリとどのカテゴリに差があるのか？"
   ]
  },
  {
   "cell_type": "code",
   "execution_count": null,
   "metadata": {},
   "outputs": [],
   "source": [
    "result = [[(chain['p' + str(i + 1)] > chain['p' + str(j + 1)]).mean() for j in range(len(index))] for i in range(len(index))]\n",
    "\n",
    "print('row (-) > column (|)')\n",
    "comp_table = pd.DataFrame(result, index=index, columns=index)\n",
    "display(comp_table)"
   ]
  },
  {
   "cell_type": "markdown",
   "metadata": {},
   "source": [
    "### RQ2: デートの経験比率は年代とともに上昇するのか？"
   ]
  },
  {
   "cell_type": "code",
   "execution_count": null,
   "metadata": {},
   "outputs": [],
   "source": [
    "val_1 = (chain['p1'] < chain['p2']).mean() * (chain['p2'] < chain['p3']).mean() * (chain['p3'] < chain['p4']).mean()\n",
    "print('Adult > University > High > Junior High: {:.3f} %'.format(val_1 * 100))"
   ]
  },
  {
   "cell_type": "markdown",
   "metadata": {},
   "source": [
    "### RQ3: デートの経験比率は年代とともに上昇するが、大学生と社会人の差は問わない。"
   ]
  },
  {
   "cell_type": "code",
   "execution_count": null,
   "metadata": {},
   "outputs": [],
   "source": [
    "val_2 = (chain['p1'] < chain['p2']).mean() * (chain['p2'] < chain['p3']).mean() * (chain['p2'] < chain['p4']).mean()\n",
    "print('Adult, University > High > Junior High: {:.3f} %'.format(val_2 * 100))"
   ]
  },
  {
   "cell_type": "markdown",
   "metadata": {},
   "source": [
    "### RQ4: 中学生はどの年代よりもデートの経験比率が低い"
   ]
  },
  {
   "cell_type": "code",
   "execution_count": null,
   "metadata": {},
   "outputs": [],
   "source": [
    "val_3 = (chain['p1'] < chain['p2']).mean() * (chain['p1'] < chain['p3']).mean() * (chain['p1'] < chain['p4']).mean()\n",
    "print('Junior High < High, University, Adult: {:.3f} %'.format(val_3 * 100))"
   ]
  },
  {
   "cell_type": "code",
   "execution_count": null,
   "metadata": {},
   "outputs": [],
   "source": []
  }
 ],
 "metadata": {
  "kernelspec": {
   "display_name": "Python 3",
   "language": "python",
   "name": "python3"
  },
  "language_info": {
   "codemirror_mode": {
    "name": "ipython",
    "version": 3
   },
   "file_extension": ".py",
   "mimetype": "text/x-python",
   "name": "python",
   "nbconvert_exporter": "python",
   "pygments_lexer": "ipython3",
   "version": "3.8.1-final"
  }
 },
 "nbformat": 4,
 "nbformat_minor": 2
}
