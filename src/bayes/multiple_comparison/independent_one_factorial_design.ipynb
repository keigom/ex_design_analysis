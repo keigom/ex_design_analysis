{
 "cells": [
  {
   "cell_type": "markdown",
   "metadata": {},
   "source": [
    "# Independent One Factorial Design\n",
    "Alternative of one-way ANOVA"
   ]
  },
  {
   "cell_type": "code",
   "execution_count": null,
   "metadata": {},
   "outputs": [],
   "source": [
    "# Enable the commands below when running this program on Google Colab.\n",
    "# !pip install arviz==0.7\n",
    "# !pip install pymc3==3.8\n",
    "# !pip install Theano==1.0.4\n",
    "\n",
    "import numpy as np \n",
    "import numpy as np\n",
    "import pandas as pd\n",
    "from scipy import stats\n",
    "import matplotlib.pyplot as plt\n",
    "import seaborn as sns\n",
    "\n",
    "import pymc3 as pm\n",
    "\n",
    "import statistics\n",
    "import math\n",
    "\n",
    "plt.style.use('seaborn-darkgrid')\n",
    "np.set_printoptions(precision=3)\n",
    "pd.set_option('display.precision', 3)"
   ]
  },
  {
   "cell_type": "code",
   "execution_count": null,
   "metadata": {},
   "outputs": [],
   "source": [
    "# Concentration of sulfurous gas in 6 different days in each season.\n",
    "# Num. of factor = 1 (season)\n",
    "# Num. of level = 4 (Spring, Summer, Autumn, Winter)\n",
    "levels = ['Spring', 'Summer', 'Autumn', 'Winter']\n",
    "data = pd.DataFrame(\n",
    "    [[10, 8, 8, 14],\n",
    "     [10, 10, 8, 12],\n",
    "     [9, 8, 11, 11],\n",
    "     [11, 10, 11, 16],\n",
    "     [12, 12, 14, 13],\n",
    "     [11, 9, 15, 12]],\n",
    "    columns=levels)\n",
    "display(data)"
   ]
  },
  {
   "cell_type": "markdown",
   "metadata": {},
   "source": [
    "## Bayesian analysis"
   ]
  },
  {
   "cell_type": "code",
   "execution_count": null,
   "metadata": {},
   "outputs": [],
   "source": [
    "with pm.Model() as ow_anova_model:\n",
    "    # Prior distribution\n",
    "    mu = pm.Uniform('mu', 0, 50, shape=len(levels))\n",
    "    sigma = pm.Uniform('sigma', 0, 50)\n",
    "\n",
    "    # Likelihood\n",
    "    y_pred = pm.Normal('y_pred', mu=mu, sigma=sigma, observed=data.values)\n",
    "\n",
    "    # Total mean\n",
    "    total_mean = pm.Deterministic('total_mean', (pm.math.sum(mu) / len(levels)))\n",
    "\n",
    "    # Effect of each level\n",
    "    a = pm.Deterministic('a', mu - total_mean)\n",
    "\n",
    "    # Variance of factor (season)\n",
    "    sigma_factor = pm.Deterministic('sigma_factor',\n",
    "                        pm.math.sqrt(pm.math.sum(a**2) / len(levels)))\n",
    "    \n",
    "    # Coefficient of determination\n",
    "    eta_square = pm.Deterministic('eta_square', sigma_factor**2 / (sigma_factor**2 + sigma**2))  \n",
    "\n",
    "    # Effect size\n",
    "    delta = pm.Deterministic('delta', sigma_factor / sigma)\n",
    "\n",
    "    # Post analysis\n",
    "    mu4_mu1 = pm.Deterministic('mu4 - mu1', mu[3] - mu[0])\n",
    "    mu4_mu2 = pm.Deterministic('mu4 - mu2', mu[3] - mu[1])\n",
    "\n",
    "    delta_41 = pm.Deterministic('delta_41', mu4_mu1 / sigma)  # effect size\n",
    "    delta_42 = pm.Deterministic('delta_42', mu4_mu2 / sigma)  # effect size\n",
    "\n",
    "    trace = pm.sample(21000, chains=5)"
   ]
  },
  {
   "cell_type": "code",
   "execution_count": null,
   "metadata": {},
   "outputs": [],
   "source": [
    "chain = trace[1000:]\n",
    "pm.traceplot(chain)\n",
    "plt.show()"
   ]
  },
  {
   "cell_type": "code",
   "execution_count": null,
   "metadata": {},
   "outputs": [],
   "source": [
    "pm.summary(chain)"
   ]
  },
  {
   "cell_type": "code",
   "execution_count": null,
   "metadata": {},
   "outputs": [],
   "source": [
    "plt.boxplot(\n",
    "    [chain['a'][:,i] for i in range(len(levels))],\n",
    "    labels=levels)\n",
    "plt.ylim(-5, 6)\n",
    "plt.xlabel('Effect of level')\n",
    "plt.show()"
   ]
  },
  {
   "cell_type": "markdown",
   "metadata": {},
   "source": [
    "### 水準の効果の有無（どの水準（春夏秋冬）が大きいのか小さいのか）\n",
    "基準(0)より大きいか小さいか"
   ]
  },
  {
   "cell_type": "code",
   "execution_count": null,
   "metadata": {},
   "outputs": [],
   "source": [
    "print('-- a_j > 0 --')\n",
    "for i in range(len(levels)):\n",
    "    print('{}: {:.3f} %'.format(levels[i], (chain['a'][:,i] > 0).mean() * 100))\n",
    "\n",
    "print()\n",
    "\n",
    "print('-- a_j < 0 --')\n",
    "for i in range(len(levels)):\n",
    "    print('{}: {:.3f} %'.format(levels[i], (chain['a'][:,i] < 0).mean() * 100))"
   ]
  },
  {
   "cell_type": "markdown",
   "metadata": {},
   "source": [
    "### 要因の効果の大きさ（一つ一つの水準（季節）の効果ではなく、水準をまとめた「季節」という要因の効果の大きさ）"
   ]
  },
  {
   "cell_type": "code",
   "execution_count": null,
   "metadata": {},
   "outputs": [],
   "source": [
    "pm.plot_posterior(chain['eta_square'], credible_interval=0.95, point_estimate='mode')\n",
    "plt.xlabel('Coefficient of determination (CoD)')\n",
    "\n",
    "pm.plot_posterior(chain['delta'], credible_interval=0.95, point_estimate='mode')\n",
    "plt.xlabel('Effect size')\n",
    "\n",
    "plt.show()"
   ]
  },
  {
   "cell_type": "code",
   "execution_count": null,
   "metadata": {},
   "outputs": [],
   "source": [
    "print('Effect (SD) of Factor A (season): {:.3f} ({:.3f}) [{:.3f}, {:.3f}] = {:.1f} x 10^-3 ppm'.format(chain['sigma_factor'].mean(), chain['sigma_factor'].std(), np.quantile(chain['sigma_factor'], 0.025), np.quantile(chain['sigma_factor'], 0.975), chain['sigma_factor'].mean()))\n",
    "\n",
    "# if CoD = 0 (0%) -> The factor does not explain the observed data at all.\n",
    "# if CoD = 1 (100%)  -> The factor well explains the observed data.\n",
    "print('CoD: {:.3f} ({:.3f}) [{:.3f}, {:.3f}] = {:.1f} %'.format(chain['eta_square'].mean(), chain['eta_square'].std(), np.quantile(chain['eta_square'], 0.025), np.quantile(chain['eta_square'], 0.975), chain['eta_square'].mean() * 100))\n",
    "\n",
    "print('Effect size: {:.3f} ({:.3f}) [{:.3f}, {:.3f}] = {:.1f} %'.format(chain['delta'].mean(), chain['delta'].std(), np.quantile(chain['delta'], 0.025), np.quantile(chain['delta'], 0.975), chain['delta'].mean() * 100))"
   ]
  },
  {
   "cell_type": "markdown",
   "metadata": {},
   "source": [
    "### 水準間の比較"
   ]
  },
  {
   "cell_type": "code",
   "execution_count": null,
   "metadata": {},
   "outputs": [],
   "source": [
    "def compare(a, b):\n",
    "    return (chain['mu'][:,a] - chain['mu'][:,b] > 0).mean()"
   ]
  },
  {
   "cell_type": "code",
   "execution_count": null,
   "metadata": {},
   "outputs": [],
   "source": [
    "# 行iの水準が列jの水準より大きい確率\n",
    "result = pd.DataFrame(\n",
    "    [[0, compare(0, 1), compare(0, 2), compare(0, 3)],\n",
    "     [compare(1, 0), 0, compare(1, 2), compare(1, 3)],\n",
    "     [compare(2, 0), compare(2, 1), 0, compare(2, 3)],\n",
    "     [compare(3, 0), compare(3, 1), compare(3, 2),0]\n",
    "    ],\n",
    "    columns=levels,\n",
    "    index=levels)\n",
    "display(result)\n",
    "# 95%以上の確率であると「別々に」明言できるのは、\n",
    "# mu_4 > mu_1 (Winter > Spring)\n",
    "# mu_4 > mu_2 (Winter > Summer)\n",
    "# 「別々に」：同時に成り立つ確率は異なるため"
   ]
  },
  {
   "cell_type": "markdown",
   "metadata": {},
   "source": [
    "### RQ1: 冬 > 秋 > 春 > 夏 の順にガス濃度が高い"
   ]
  },
  {
   "cell_type": "code",
   "execution_count": null,
   "metadata": {},
   "outputs": [],
   "source": [
    "val_1 = (chain['mu'][:,3] > chain['mu'][:,2]).mean() * (chain['mu'][:,2] > chain['mu'][:,0]).mean() * (chain['mu'][:,0] > chain['mu'][:,1]).mean()\n",
    "print('Winter > Autumn > Spring > Summer: {:.3f} % '.format(val_1 * 100))"
   ]
  },
  {
   "cell_type": "markdown",
   "metadata": {},
   "source": [
    "### RQ2: 冬 > (秋、春) > 夏 の順にガス濃度が高い"
   ]
  },
  {
   "cell_type": "code",
   "execution_count": null,
   "metadata": {},
   "outputs": [],
   "source": [
    "val_2 = (chain['mu'][:,3] > chain['mu'][:,2]).mean() * (chain['mu'][:,3] > chain['mu'][:,0]).mean() * (chain['mu'][:,2] > chain['mu'][:,1]).mean() * (chain['mu'][:,0] > chain['mu'][:,1]).mean()\n",
    "print('Winter > (Autumn, Spring) > Summer: {:.3f} % '.format(val_2 * 100))"
   ]
  },
  {
   "cell_type": "markdown",
   "metadata": {},
   "source": [
    "### RQ3: 冬 > 冬以外"
   ]
  },
  {
   "cell_type": "code",
   "execution_count": null,
   "metadata": {},
   "outputs": [],
   "source": [
    "val_3 = (chain['mu'][:,3] > chain['mu'][:,0]).mean() * (chain['mu'][:,3] > chain['mu'][:,1]).mean() * (chain['mu'][:,3] > chain['mu'][:,2]).mean()\n",
    "print('Winter > Spring, Summer, Autumn: {:.3f} % '.format(val_3 * 100))"
   ]
  },
  {
   "cell_type": "markdown",
   "metadata": {},
   "source": [
    "### RQ4: 冬 > 春、夏"
   ]
  },
  {
   "cell_type": "code",
   "execution_count": null,
   "metadata": {},
   "outputs": [],
   "source": [
    "val_4 = (chain['mu'][:,3] > chain['mu'][:,0]).mean() * (chain['mu'][:,3] > chain['mu'][:,1]).mean()\n",
    "print('Winter > Spring: {:.3f} % '.format(val_4 * 100))"
   ]
  },
  {
   "cell_type": "markdown",
   "metadata": {},
   "source": [
    "### 特に興味のある2水準間の比較（冬と春、冬と夏）"
   ]
  },
  {
   "cell_type": "code",
   "execution_count": null,
   "metadata": {},
   "outputs": [],
   "source": [
    "print('The gas density in Winter is average {:.2f} x 10^-3 % ({:.3f}) [{:.3f}, {:.3f}] higher than Spring.'.format(chain['mu4 - mu1'].mean(), chain['mu4 - mu1'].std(), np.quantile(chain['mu4 - mu1'], 0.025), np.quantile(chain['mu4 - mu1'], 0.975)))\n",
    "print('The gas density in Winter is average {:.2f} x 10^-3 % ({:.3f}) [{:.3f}, {:.3f}] higher than Summer.'.format(chain['mu4 - mu2'].mean(), chain['mu4 - mu2'].std(), np.quantile(chain['mu4 - mu2'], 0.025), np.quantile(chain['mu4 - mu2'], 0.975)))"
   ]
  },
  {
   "cell_type": "code",
   "execution_count": null,
   "metadata": {},
   "outputs": [],
   "source": []
  }
 ],
 "metadata": {
  "anaconda-cloud": {},
  "kernelspec": {
   "display_name": "Python 3.8.1 64-bit ('ex_design_analysis': pipenv)",
   "metadata": {
    "interpreter": {
     "hash": "d93d3809a412eeca67f3d81705e284a9fa16a5e112e379b94b99b867ad05122c"
    }
   },
   "name": "python3"
  },
  "language_info": {
   "codemirror_mode": {
    "name": "ipython",
    "version": 3
   },
   "file_extension": ".py",
   "mimetype": "text/x-python",
   "name": "python",
   "nbconvert_exporter": "python",
   "pygments_lexer": "ipython3",
   "version": "3.8.1-final"
  }
 },
 "nbformat": 4,
 "nbformat_minor": 4
}
