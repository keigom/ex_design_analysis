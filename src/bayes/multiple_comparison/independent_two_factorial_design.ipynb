{
 "cells": [
  {
   "cell_type": "code",
   "execution_count": null,
   "metadata": {},
   "outputs": [],
   "source": [
    "# !pip install arviz==0.6.1\n",
    "# !pip install pymc3==3.8\n",
    "# !pip install Theano==1.0.4\n",
    "\n",
    "import numpy as np\n",
    "import pandas as pd\n",
    "from scipy import stats\n",
    "import matplotlib.pyplot as plt\n",
    "import seaborn as sns\n",
    "\n",
    "import pymc3 as pm\n",
    "import theano.tensor as tt\n",
    "\n",
    "import statistics\n",
    "import math\n",
    "\n",
    "plt.style.use('seaborn-darkgrid')\n",
    "np.set_printoptions(precision=3)\n",
    "pd.set_option('display.precision', 3)"
   ]
  },
  {
   "cell_type": "code",
   "execution_count": null,
   "metadata": {},
   "outputs": [],
   "source": [
    "# Price of hotel in San Francisco and Los Angeles.\n",
    "# Num. of factor = 2 (City, Area)\n",
    "# Num. of level = 2 (Downtown, Suburbs)\n",
    "data = pd.DataFrame(\n",
    "    [[79, 'San Francisco', 'Downtown'],\n",
    "     [107, 'San Francisco', 'Downtown'],\n",
    "     [103, 'San Francisco', 'Downtown'],\n",
    "     [92, 'San Francisco', 'Downtown'],\n",
    "     [180, 'San Francisco', 'Downtown'],\n",
    "     [165, 'San Francisco', 'Downtown'],\n",
    "     [240, 'San Francisco', 'Downtown'],\n",
    "     [265, 'San Francisco', 'Downtown'],\n",
    "     [300, 'San Francisco', 'Downtown'],\n",
    "     [95, 'Los Angeles', 'Downtown'],\n",
    "     [99, 'Los Angeles', 'Downtown'],\n",
    "     [70, 'Los Angeles', 'Downtown'],\n",
    "     [116, 'Los Angeles', 'Downtown'],\n",
    "     [170, 'Los Angeles', 'Downtown'],\n",
    "     [145, 'Los Angeles', 'Downtown'],\n",
    "     [205, 'Los Angeles', 'Downtown'],\n",
    "     [200, 'Los Angeles', 'Downtown'],\n",
    "     [210, 'Los Angeles', 'Downtown'],\n",
    "     [75, 'San Francisco', 'Suburbs'],\n",
    "     [60, 'San Francisco', 'Suburbs'],\n",
    "     [60, 'San Francisco', 'Suburbs'],\n",
    "     [94, 'San Francisco', 'Suburbs'],\n",
    "     [119, 'San Francisco', 'Suburbs'],\n",
    "     [100, 'San Francisco', 'Suburbs'],\n",
    "     [102, 'San Francisco', 'Suburbs'],\n",
    "     [125, 'San Francisco', 'Suburbs'],\n",
    "     [165, 'San Francisco', 'Suburbs'],\n",
    "     [153, 'Los Angeles', 'Suburbs'],\n",
    "     [78, 'Los Angeles', 'Suburbs'],\n",
    "     [75, 'Los Angeles', 'Suburbs'],\n",
    "     [92, 'Los Angeles', 'Suburbs'],\n",
    "     [115, 'Los Angeles', 'Suburbs'],\n",
    "     [155, 'Los Angeles', 'Suburbs'],\n",
    "     [250, 'Los Angeles', 'Suburbs'],\n",
    "     [340, 'Los Angeles', 'Suburbs'],\n",
    "     [380, 'Los Angeles', 'Suburbs']],\n",
    "    columns=['Price', 'City', 'Area'])\n",
    "display(data)"
   ]
  },
  {
   "cell_type": "code",
   "execution_count": null,
   "metadata": {},
   "outputs": [],
   "source": [
    "sf_downtown = data[(data['City'] == 'San Francisco') & (data['Area'] == 'Downtown')]\n",
    "sf_suburbs = data[(data['City'] == 'San Francisco') & (data['Area'] == 'Suburbs')]\n",
    "la_downtown = data[(data['City'] == 'Los Angeles') & (data['Area'] == 'Downtown')]\n",
    "la_suburbs = data[(data['City'] == 'Los Angeles') & (data['Area'] == 'Suburbs')]\n",
    "\n",
    "print('Mean price in San Francisco (Downtown): {:.3f}'.format(sf_downtown.mean()['Price']))\n",
    "print('Mean price in San Francisco (Suburbs): {:.3f}'.format(sf_suburbs.mean()['Price']))\n",
    "\n",
    "print('Mean price in Los Angles (Downtown): {:.3f}'.format(la_downtown.mean()['Price']))\n",
    "print('Mean price in Los Angles (Suburbs): {:.3f}'.format(la_suburbs.mean()['Price']))\n",
    "# data.query('City == \"Los Angeles\" and Area == \"Downtown\"')"
   ]
  },
  {
   "cell_type": "code",
   "execution_count": null,
   "metadata": {},
   "outputs": [],
   "source": [
    "# Data Visualization\n",
    "plt.boxplot(\n",
    "    [sf_downtown['Price'],\n",
    "     la_downtown['Price'],\n",
    "     sf_suburbs['Price'],\n",
    "     la_suburbs['Price']],\n",
    "    labels=['S.F. (Downtown)', 'L.A. (Downtown)', 'S.F. (Suburbs)', 'L.A. (Suburbs)'])\n",
    "plt.ylim(50, 350)\n",
    "plt.show()\n",
    "\n",
    "plt.plot(np.array(['S.F.', 'L.A.']), np.array([sf_downtown.mean()['Price'], la_downtown.mean()['Price']]), marker='o')\n",
    "plt.plot(np.array(['S.F.', 'L.A.']), np.array([sf_suburbs.mean()['Price'], la_suburbs.mean()['Price']]), marker='o')\n",
    "plt.ylim(90, 200)\n",
    "plt.legend(['Downtown', 'Suburbs'])\n",
    "plt.show()"
   ]
  },
  {
   "cell_type": "markdown",
   "metadata": {},
   "source": [
    "## Bayesian Analysis"
   ]
  },
  {
   "cell_type": "code",
   "execution_count": null,
   "metadata": {},
   "outputs": [],
   "source": [
    "observed = np.concatenate([sf_downtown['Price'], sf_suburbs['Price'], la_downtown['Price'], la_suburbs['Price']])\n",
    "print(len(observed))\n",
    "print(observed)\n",
    "id_j = [0] * 18 + [1] * 18\n",
    "print(len(id_j))\n",
    "print(id_j)\n",
    "id_k = [0] * 9 + [1] * 9 + [0] * 9 + [1] * 9\n",
    "print(len(id_k))\n",
    "print(id_k)\n",
    "id_jk = [0] * 9 + [1] * 9 + [2] * 9 + [3] * 9\n",
    "print(len(id_jk))\n",
    "print(id_jk)"
   ]
  },
  {
   "cell_type": "code",
   "execution_count": null,
   "metadata": {},
   "outputs": [],
   "source": [
    "mu_jk = np.array([[0, 1], [2, 3]])\n",
    "print(mu_jk)\n",
    "# print(id_j)\n",
    "print(mu_jk[id_j, id_k])\n",
    "# print(mu_jk[id_j][id_k])"
   ]
  },
  {
   "cell_type": "code",
   "execution_count": null,
   "metadata": {},
   "outputs": [],
   "source": [
    "with pm.Model() as tw_anova_model:\n",
    "    # Prior distribution\n",
    "    mu = pm.Uniform('mu', 0, 1000)  # total mean\n",
    "    sigma_e = pm.Uniform('sigma', 0, 500)\n",
    "    epsilon = pm.Normal('epsilon', 0, sigma_e)\n",
    "    a_1 = pm.Uniform('a_1', -1000, 1000)  # main effect of A (City)\n",
    "    b_1 = pm.Uniform('b_1', -1000, 1000)  # main effect of B (Area)\n",
    "    ab_11 = pm.Uniform('ab_11', -1000, 1000)  # interaction\n",
    "\n",
    "    # mu_jk = np.zeros((2, 2))\n",
    "    # mu_jk[0][0] = mu + a_1 + b_1 + ab_11\n",
    "    # mu_jk[0][1] = mu + a_1 - b_1 - ab_11\n",
    "    # mu_jk[1][0] = mu - a_1 + b_1 - ab_11\n",
    "    # mu_jk[1][1] = mu - a_1 - b_1 + ab_11\n",
    "    # mu_jk = tt.matrix()\n",
    "    # mu_jk = pm.math.stack((\n",
    "    #     [mu + a_1 + b_1 + ab_11, mu - a_1 + b_1 - ab_11],\n",
    "    #     [mu + a_1 - b_1 - ab_11, mu - a_1 - b_1 + ab_11]\n",
    "    # ), axis=0)\n",
    "    # mu_jk = [\n",
    "    #     [mu + a_1 + b_1 + ab_11, mu - a_1 + b_1 - ab_11],\n",
    "    #     [mu + a_1 - b_1 - ab_11, mu - a_1 - b_1 + ab_11]\n",
    "    # ]\n",
    "\n",
    "    # mu_jk = tt.inc_subtensor(\n",
    "    #     mu + a_1 + b_1 + ab_11, mu - a_1 + b_1 - ab_11,\n",
    "    #     mu + a_1 - b_1 - ab_11, mu - a_1 - b_1 + ab_11\n",
    "    # )\n",
    "    # y_pred = pm.Normal('y_pred', mu=mu_jk[id_j * 2 + id_k], sigma=epsilon, observed=observed)\n",
    "\n",
    "    # mu_jk = pm.math.concatenate((\n",
    "    #     [mu + a_1 + b_1 + ab_11, mu - a_1 + b_1 - ab_11],\n",
    "    #     [mu + a_1 - b_1 - ab_11, mu - a_1 - b_1 + ab_11]\n",
    "    # ))\n",
    "    # print(mu_jk)\n",
    "    # print(mu_jk.shape)\n",
    "    mu_jk = pm.math.concatenate([\n",
    "        [mu + a_1 + b_1 + ab_11],\n",
    "        [mu + a_1 + b_1 + ab_11],\n",
    "        [mu + a_1 + b_1 + ab_11],\n",
    "        [mu + a_1 + b_1 + ab_11]\n",
    "        # mu + a_1 + b_1 + ab_11,  # 11\n",
    "        # mu - a_1 + b_1 - ab_11,  # 12\n",
    "        # mu + a_1 - b_1 - ab_11,  # 21\n",
    "        # mu - a_1 - b_1 + ab_11   # 22\n",
    "    ], axis=0)\n",
    "    # 11, 12, 21, 22\n",
    "    # mu_jk = [\n",
    "    #     mu + a_1 + b_1 + ab_11,\n",
    "    #     mu - a_1 + b_1 - ab_11,  # 12\n",
    "    #     mu + a_1 - b_1 - ab_11,  # 21\n",
    "    #     mu - a_1 - b_1 + ab_11   # 22\n",
    "    # ]\n",
    "    # print(mu_jk[0].eval())\n",
    "    print(len(observed))\n",
    "    y_pred = pm.Normal('y_pred', mu=mu_jk[id_jk], sigma=epsilon, observed=observed)\n",
    "\n",
    "    trace = pm.sample(21000, chains=5)"
   ]
  },
  {
   "cell_type": "code",
   "execution_count": null,
   "metadata": {},
   "outputs": [],
   "source": [
    "chain = trace[1000:]\n",
    "pm.traceplot(chain)\n",
    "plt.show()"
   ]
  },
  {
   "cell_type": "code",
   "execution_count": null,
   "metadata": {},
   "outputs": [],
   "source": [
    "pm.summary(chain)"
   ]
  },
  {
   "cell_type": "code",
   "execution_count": null,
   "metadata": {},
   "outputs": [],
   "source": []
  }
 ],
 "metadata": {
  "kernelspec": {
   "display_name": "Python 3",
   "language": "python",
   "name": "python3"
  },
  "language_info": {
   "codemirror_mode": {
    "name": "ipython",
    "version": 3
   },
   "file_extension": ".py",
   "mimetype": "text/x-python",
   "name": "python",
   "nbconvert_exporter": "python",
   "pygments_lexer": "ipython3",
   "version": "3.8.1-final"
  }
 },
 "nbformat": 4,
 "nbformat_minor": 2
}
