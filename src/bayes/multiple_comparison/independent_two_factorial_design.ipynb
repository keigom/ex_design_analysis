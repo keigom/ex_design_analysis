{
 "cells": [
  {
   "cell_type": "code",
   "execution_count": null,
   "metadata": {},
   "outputs": [],
   "source": [
    "# Enable the commands below when running this program on Google Colab.\n",
    "# !pip install arviz==0.7\n",
    "# !pip install pymc3==3.8\n",
    "# !pip install Theano==1.0.4\n",
    "\n",
    "import numpy as np\n",
    "import pandas as pd\n",
    "from scipy import stats\n",
    "import matplotlib.pyplot as plt\n",
    "import seaborn as sns\n",
    "\n",
    "import pymc3 as pm\n",
    "import theano.tensor as tt\n",
    "\n",
    "import statistics\n",
    "import math\n",
    "\n",
    "plt.style.use('seaborn-darkgrid')\n",
    "np.set_printoptions(precision=3)\n",
    "pd.set_option('display.precision', 3)"
   ]
  },
  {
   "cell_type": "code",
   "execution_count": null,
   "metadata": {},
   "outputs": [],
   "source": [
    "# Price of hotel in San Francisco and Los Angeles.\n",
    "# Num. of factor = 2 (City, Area)\n",
    "# Num. of level = 2 (Downtown, Suburbs)\n",
    "data = pd.DataFrame(\n",
    "    [[79, 'San Francisco', 'Downtown'],\n",
    "     [107, 'San Francisco', 'Downtown'],\n",
    "     [103, 'San Francisco', 'Downtown'],\n",
    "     [92, 'San Francisco', 'Downtown'],\n",
    "     [180, 'San Francisco', 'Downtown'],\n",
    "     [165, 'San Francisco', 'Downtown'],\n",
    "     [240, 'San Francisco', 'Downtown'],\n",
    "     [265, 'San Francisco', 'Downtown'],\n",
    "     [300, 'San Francisco', 'Downtown'],\n",
    "     [75, 'San Francisco', 'Suburbs'],\n",
    "     [60, 'San Francisco', 'Suburbs'],\n",
    "     [60, 'San Francisco', 'Suburbs'],\n",
    "     [94, 'San Francisco', 'Suburbs'],\n",
    "     [119, 'San Francisco', 'Suburbs'],\n",
    "     [100, 'San Francisco', 'Suburbs'],\n",
    "     [102, 'San Francisco', 'Suburbs'],\n",
    "     [125, 'San Francisco', 'Suburbs'],\n",
    "     [165, 'San Francisco', 'Suburbs'],\n",
    "     [95, 'Los Angeles', 'Downtown'],\n",
    "     [99, 'Los Angeles', 'Downtown'],\n",
    "     [70, 'Los Angeles', 'Downtown'],\n",
    "     [116, 'Los Angeles', 'Downtown'],\n",
    "     [170, 'Los Angeles', 'Downtown'],\n",
    "     [145, 'Los Angeles', 'Downtown'],\n",
    "     [205, 'Los Angeles', 'Downtown'],\n",
    "     [200, 'Los Angeles', 'Downtown'],\n",
    "     [210, 'Los Angeles', 'Downtown'],\n",
    "     [153, 'Los Angeles', 'Suburbs'],\n",
    "     [78, 'Los Angeles', 'Suburbs'],\n",
    "     [75, 'Los Angeles', 'Suburbs'],\n",
    "     [92, 'Los Angeles', 'Suburbs'],\n",
    "     [115, 'Los Angeles', 'Suburbs'],\n",
    "     [155, 'Los Angeles', 'Suburbs'],\n",
    "     [250, 'Los Angeles', 'Suburbs'],\n",
    "     [340, 'Los Angeles', 'Suburbs'],\n",
    "     [380, 'Los Angeles', 'Suburbs']],\n",
    "    columns=['Price', 'City', 'Area'])\n",
    "display(data)"
   ]
  },
  {
   "cell_type": "code",
   "execution_count": null,
   "metadata": {},
   "outputs": [],
   "source": [
    "sf_downtown = data[(data['City'] == 'San Francisco') & (data['Area'] == 'Downtown')]\n",
    "sf_suburbs = data[(data['City'] == 'San Francisco') & (data['Area'] == 'Suburbs')]\n",
    "la_downtown = data[(data['City'] == 'Los Angeles') & (data['Area'] == 'Downtown')]\n",
    "la_suburbs = data[(data['City'] == 'Los Angeles') & (data['Area'] == 'Suburbs')]\n",
    "\n",
    "print('Mean price in San Francisco (Downtown): {:.3f}'.format(sf_downtown.mean()['Price']))\n",
    "print('Mean price in San Francisco (Suburbs): {:.3f}'.format(sf_suburbs.mean()['Price']))\n",
    "\n",
    "print('Mean price in Los Angles (Downtown): {:.3f}'.format(la_downtown.mean()['Price']))\n",
    "print('Mean price in Los Angles (Suburbs): {:.3f}'.format(la_suburbs.mean()['Price']))\n",
    "# data.query('City == \"Los Angeles\" and Area == \"Downtown\"')"
   ]
  },
  {
   "cell_type": "code",
   "execution_count": null,
   "metadata": {},
   "outputs": [],
   "source": [
    "# Data Visualization\n",
    "plt.boxplot(\n",
    "    [sf_downtown['Price'],\n",
    "     la_downtown['Price'],\n",
    "     sf_suburbs['Price'],\n",
    "     la_suburbs['Price']],\n",
    "    labels=['S.F. (Downtown)', 'L.A. (Downtown)', 'S.F. (Suburbs)', 'L.A. (Suburbs)'])\n",
    "plt.ylim(50, 350)\n",
    "plt.show()\n",
    "\n",
    "plt.plot(np.array(['S.F.', 'L.A.']), np.array([sf_downtown.mean()['Price'], la_downtown.mean()['Price']]), marker='o')\n",
    "plt.plot(np.array(['S.F.', 'L.A.']), np.array([sf_suburbs.mean()['Price'], la_suburbs.mean()['Price']]), marker='o')\n",
    "plt.ylim(90, 200)\n",
    "plt.legend(['Downtown', 'Suburbs'])\n",
    "plt.show()"
   ]
  },
  {
   "cell_type": "markdown",
   "metadata": {},
   "source": [
    "## Bayesian Analysis"
   ]
  },
  {
   "cell_type": "code",
   "execution_count": null,
   "metadata": {},
   "outputs": [],
   "source": [
    "observed = np.concatenate([sf_downtown['Price'], sf_suburbs['Price'], la_downtown['Price'], la_suburbs['Price']])\n",
    "print(len(observed))\n",
    "print(observed)\n",
    "# id_j = [0] * 18 + [1] * 18\n",
    "# print(len(id_j))\n",
    "# print(id_j)\n",
    "# id_k = [0] * 9 + [1] * 9 + [0] * 9 + [1] * 9\n",
    "# print(len(id_k))\n",
    "# print(id_k)\n",
    "id_jk = [0] * 9 + [1] * 9 + [2] * 9 + [3] * 9\n",
    "print(len(id_jk))\n",
    "print(id_jk)"
   ]
  },
  {
   "cell_type": "code",
   "execution_count": null,
   "metadata": {},
   "outputs": [],
   "source": [
    "with pm.Model() as tw_anova_model:\n",
    "    # Prior distribution\n",
    "    mu = pm.Uniform('mu', 0, 1000)  # total mean\n",
    "    sigma_e = pm.Uniform('sigma', 0, 500)\n",
    "    a_1 = pm.Uniform('a_1', -100, 100)  # main effect of A (City)\n",
    "    b_1 = pm.Uniform('b_1', -100, 100)  # main effect of B (Area)\n",
    "    ab_11 = pm.Uniform('ab_11', -100, 100)  # interaction\n",
    "\n",
    "    mu_jk = tt.as_tensor_variable(\n",
    "        [mu + a_1 + b_1 + ab_11, mu + a_1 - b_1 - ab_11,\n",
    "         mu - a_1 + b_1 - ab_11, mu - a_1 - b_1 + ab_11]\n",
    "    )\n",
    "\n",
    "    # Likelihood\n",
    "    y_pred = pm.Normal('y_pred', mu=mu_jk[id_jk], sigma=sigma_e, observed=observed)\n",
    "\n",
    "    # Variance of factors\n",
    "    sigma_a = pm.Deterministic('sigma_a', pm.math.sqrt((a_1**2 + (-a_1)**2) / 2))\n",
    "    sigma_b = pm.Deterministic('sigma_b', pm.math.sqrt((b_1**2 + (-b_1)**2) / 2))\n",
    "    sigma_ab = pm.Deterministic('sigma_ab', pm.math.sqrt((ab_11**2 + (-ab_11)**2 + (-ab_11)**2 + ab_11**2) / 4))\n",
    "\n",
    "    # Coefficient of determination\n",
    "    sigma_y_square = sigma_a**2 + sigma_b**2 + sigma_ab**2 + sigma_e**2\n",
    "    eta_a_square = pm.Deterministic('eta_a_square', sigma_a**2 / sigma_y_square)\n",
    "    eta_b_square = pm.Deterministic('eta_b_square', sigma_b**2 / sigma_y_square)\n",
    "    eta_ab_square = pm.Deterministic('eta_ab_square', sigma_ab**2 / sigma_y_square)\n",
    "    eta_t_square = pm.Deterministic('eta_t_square', (sigma_a**2 + sigma_b**2 + sigma_ab**2) / sigma_y_square)\n",
    "\n",
    "    # Effect size\n",
    "    delta_a = pm.Deterministic('delta_a', sigma_a / sigma_e)\n",
    "    delta_b = pm.Deterministic('delta_b', sigma_b / sigma_e)\n",
    "    delta_ab = pm.Deterministic('delta_ab', sigma_ab / sigma_e)\n",
    "\n",
    "    # Average of interaction\n",
    "    mu_11 = pm.Deterministic('mu_11', mu + a_1 + b_1 + ab_11)\n",
    "    mu_12 = pm.Deterministic('mu_12', mu + a_1 - b_1 - ab_11)\n",
    "    mu_21 = pm.Deterministic('mu_21', mu - a_1 + b_1 - ab_11)\n",
    "    mu_22 = pm.Deterministic('mu_22', mu - a_1 - b_1 + ab_11)\n",
    "\n",
    "    # Post analysis\n",
    "    mu_11_mu_12 = pm.Deterministic('mu_11 - mu_12', mu_11 - mu_12)\n",
    "    mu_21_mu_22 = pm.Deterministic('mu_21 - mu_22', mu_21 - mu_22)\n",
    "\n",
    "    delta_11_12 = pm.Deterministic('delta_11_12', mu_11_mu_12 / sigma_e)  # effect size\n",
    "    delta_21_22 = pm.Deterministic('delta_21_22', mu_21_mu_22 / sigma_e)  # effect size\n",
    "\n",
    "    trace = pm.sample(21000, chains=5)"
   ]
  },
  {
   "cell_type": "code",
   "execution_count": null,
   "metadata": {},
   "outputs": [],
   "source": [
    "chain = trace[1000:]\n",
    "pm.traceplot(chain)\n",
    "plt.show()"
   ]
  },
  {
   "cell_type": "code",
   "execution_count": null,
   "metadata": {},
   "outputs": [],
   "source": [
    "pm.summary(chain)"
   ]
  },
  {
   "cell_type": "markdown",
   "metadata": {},
   "source": [
    "### 水準とセルの効果の有無（どの水準が、あるいはどの交互作用項が、ある基準より大きい、または小さいかという確信が持てるか）"
   ]
  },
  {
   "cell_type": "code",
   "execution_count": null,
   "metadata": {},
   "outputs": [],
   "source": [
    "result_df = pd.DataFrame([\n",
    "    [(chain['a_1'] > 0).mean(), (chain['b_1'] > 0).mean(), (chain['ab_11'] > 0).mean()],\n",
    "    [(chain['a_1'] < 0).mean(), (chain['b_1'] < 0).mean(), (chain['ab_11'] < 0).mean()]\n",
    "], index=['0 >', '0 <'], columns=['a_1', 'b_1', 'ab_11'])\n",
    "display(result_df)\n",
    "# 「都市」の主効果も「場所」の主効果も確信を持てない（確率が低い）\n",
    "# 交互作用が0より大きい確率は97.5%付近のため、「都市」と「場所」に交互作用がありそう"
   ]
  },
  {
   "cell_type": "markdown",
   "metadata": {},
   "source": [
    "### 要因の効果の大きさ（個々の水準の項や交互作用項の効果の有無ではなく、効果の全体的な大きさはどれほどか？）"
   ]
  },
  {
   "cell_type": "code",
   "execution_count": null,
   "metadata": {},
   "outputs": [],
   "source": [
    "print('Effect (SD) of Interaction: {:.3f} ({:.3f}) [{:.3f}, {:.3f}] = {:.1f} USD'.format(chain['sigma_ab'].mean(), chain['sigma_ab'].std(), np.quantile(chain['sigma_ab'], 0.025), np.quantile(chain['sigma_ab'], 0.975), chain['sigma_ab'].mean()))\n",
    "\n",
    "# if CoD = 0 (0%) -> The factor does not explain the observed data at all.\n",
    "# if CoD = 1 (100%)  -> The factor well explains the observed data.\n",
    "print('CoD: {:.3f} ({:.3f}) [{:.3f}, {:.3f}] = {:.1f} %'.format(chain['eta_ab_square'].mean(), chain['eta_ab_square'].std(), np.quantile(chain['eta_ab_square'], 0.025), np.quantile(chain['eta_ab_square'], 0.975), chain['eta_ab_square'].mean() * 100))\n",
    "\n",
    "print('Effect size: {:.3f} ({:.3f}) [{:.3f}, {:.3f}] = {:.1f} %'.format(chain['delta_ab'].mean(), chain['delta_ab'].std(), np.quantile(chain['delta_ab'], 0.025), np.quantile(chain['delta_ab'], 0.975), chain['delta_ab'].mean() * 100))"
   ]
  },
  {
   "cell_type": "markdown",
   "metadata": {},
   "source": [
    "### セル平均の事後分布\n",
    "2要因の分析で交互作用効果の存在が確信されたら、一方の要因の水準ごとに、他方の要因の水準間の推測をするとデータに対する理解が深まる"
   ]
  },
  {
   "cell_type": "markdown",
   "metadata": {},
   "source": [
    "### 特に興味のある2セル間の推測"
   ]
  },
  {
   "cell_type": "code",
   "execution_count": null,
   "metadata": {},
   "outputs": [],
   "source": [
    "print('The hotel price in San Francisco downtown is average {:.2f} usd ({:.3f}) [{:.3f}, {:.3f}] higher than in San Francisco suburbs.'.format(chain['mu_11 - mu_12'].mean(), chain['mu_11 - mu_12'].std(), np.quantile(chain['mu_11 - mu_12'], 0.025), np.quantile(chain['mu_11 - mu_12'], 0.975)))\n",
    "print('The hotel price in Los Angeles downtown is average {:.2f} usd ({:.3f}) [{:.3f}, {:.3f}] higher than in Los Angeles suburbs.'.format(chain['mu_21 - mu_22'].mean(), chain['mu_21 - mu_22'].std(), np.quantile(chain['mu_21 - mu_22'], 0.025), np.quantile(chain['mu_21 - mu_22'], 0.975)))"
   ]
  },
  {
   "cell_type": "code",
   "execution_count": null,
   "metadata": {},
   "outputs": [],
   "source": []
  }
 ],
 "metadata": {
  "kernelspec": {
   "display_name": "Python 3",
   "language": "python",
   "name": "python3"
  },
  "language_info": {
   "codemirror_mode": {
    "name": "ipython",
    "version": 3
   },
   "file_extension": ".py",
   "mimetype": "text/x-python",
   "name": "python",
   "nbconvert_exporter": "python",
   "pygments_lexer": "ipython3",
   "version": "3.8.1-final"
  }
 },
 "nbformat": 4,
 "nbformat_minor": 2
}
