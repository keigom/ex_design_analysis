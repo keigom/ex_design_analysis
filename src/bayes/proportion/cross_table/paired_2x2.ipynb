{
 "cells": [
  {
   "cell_type": "markdown",
   "metadata": {},
   "source": [
    "# Paired 2 x 2 cross table\n",
    "Alternative of z-test and chi-square test"
   ]
  },
  {
   "cell_type": "code",
   "execution_count": null,
   "metadata": {},
   "outputs": [],
   "source": [
    "# Enable the commands below when running this program on Google Colab.\n",
    "# !pip install arviz==0.7\n",
    "# !pip install pymc3==3.8\n",
    "# !pip install Theano==1.0.4\n",
    "\n",
    "import numpy as np\n",
    "import pandas as pd\n",
    "from scipy import stats\n",
    "import matplotlib.pyplot as plt\n",
    "import seaborn as sns\n",
    "\n",
    "import pymc3 as pm\n",
    "\n",
    "import math\n",
    "\n",
    "plt.style.use('seaborn-darkgrid')\n",
    "np.set_printoptions(precision=3)\n",
    "pd.set_option('display.precision', 3)"
   ]
  },
  {
   "cell_type": "markdown",
   "metadata": {},
   "source": [
    "## Q. Agreement/disagreement with proposition A and B was gathered. Analyse the relationship of agreement/disagreement with both two propositions."
   ]
  },
  {
   "cell_type": "code",
   "execution_count": null,
   "metadata": {},
   "outputs": [],
   "source": [
    "data = pd.DataFrame([[55, 16], [14, 35]], columns=['B Agree', 'B Disagree'], index=['A Agree', 'A Disagree'])\n",
    "observed = [data['B Agree']['A Agree'], \n",
    "            data['B Disagree']['A Agree'], \n",
    "            data['B Agree']['A Disagree'],\n",
    "            data['B Disagree']['A Disagree']]\n",
    "display(data)\n",
    "N = data.sum().sum()"
   ]
  },
  {
   "cell_type": "code",
   "execution_count": null,
   "metadata": {},
   "outputs": [],
   "source": [
    "with pm.Model() as model:\n",
    "  # Prior distribution\n",
    "  p_ = pm.Uniform('p_', 0, 1, shape=4)\n",
    "  p = pm.Deterministic('p', p_ / pm.math.sum(p_))\n",
    "\n",
    "  # Likelihood\n",
    "  x = pm.Multinomial('x', n=N, p=p, observed=observed)\n",
    "\n",
    "  # Marginal probability\n",
    "  p1d = pm.Deterministic('p1d', p[0] + p[1])  # p1. = p11 + p12\n",
    "  p2d = pm.Deterministic('p2d', p[2] + p[3])  # p2. = p21 + p22\n",
    "\n",
    "  pd1 = pm.Deterministic('pd1', p[0] + p[2])  # p.1 = p11 + p21\n",
    "  pd2 = pm.Deterministic('pd2', p[1] + p[3])  # p.2 = p12 + p22\n",
    "\n",
    "  # Pearson's residual\n",
    "  pp = [p1d * pd1, p1d * pd2,\n",
    "        p2d * pd1, p2d * pd2]\n",
    "  e = pm.Deterministic('e', (p - pp) / pm.math.sqrt(pp))\n",
    "\n",
    "  # Cramer's association coefficient\n",
    "  V = pm.Deterministic('V', pm.math.sqrt(pm.math.sum(e**2)))\n",
    "\n",
    "  trace = pm.sample(21000, chains=5)"
   ]
  },
  {
   "cell_type": "code",
   "execution_count": null,
   "metadata": {},
   "outputs": [],
   "source": [
    "chain = trace[1000:]\n",
    "pm.traceplot(chain)\n",
    "plt.show()"
   ]
  },
  {
   "cell_type": "code",
   "execution_count": null,
   "metadata": {},
   "outputs": [],
   "source": [
    "pm.summary(chain, var_names=['p', 'e', 'V'])"
   ]
  },
  {
   "cell_type": "markdown",
   "metadata": {},
   "source": [
    "### Independence and association"
   ]
  },
  {
   "cell_type": "code",
   "execution_count": null,
   "metadata": {},
   "outputs": [],
   "source": [
    "# A_i and B_j is independent -> e_ij is 0.\n",
    "# Positive cells are observed in a higher proportion than in the independent case (value is 0).\n",
    "# Negative cells are observed in a lower proportion than in the independent case (value is 0).\n",
    "plt.boxplot(\n",
    "    [chain['e'][:,0],\n",
    "     chain['e'][:,1],\n",
    "     chain['e'][:,2],\n",
    "     chain['e'][:,3]],\n",
    "     labels=['e11', 'e12', 'e21', 'e22'])\n",
    "plt.show()\n",
    "\n",
    "# e11 > 0: A person who agrees with 'A' is likely to agree with 'B'.\n",
    "# e22 > 0: A person who disagrees with 'B' is likely to disagree with 'B'.\n",
    "# e12 < 0: A person who agrees with 'A' is less likely to disagree with 'B'.\n",
    "# e21 < 0: A person who disagrees with 'A' is less likely to agree with 'B'."
   ]
  },
  {
   "cell_type": "code",
   "execution_count": null,
   "metadata": {},
   "outputs": [],
   "source": [
    "egz = pd.DataFrame(\n",
    "    [[(chain['e'][:,0] > 0).mean(), (chain['e'][:,1] > 0).mean()],\n",
    "     [(chain['e'][:,2] > 0).mean(), (chain['e'][:,3] > 0).mean()]],\n",
    "     columns=['B Agree', 'B Disagree'], index=['A Agree', 'A Disagree']\n",
    ")\n",
    "\n",
    "elz = pd.DataFrame(\n",
    "    [[(chain['e'][:,0] < 0).mean(), (chain['e'][:,1] < 0).mean()],\n",
    "     [(chain['e'][:,2] < 0).mean(), (chain['e'][:,3] < 0).mean()]],\n",
    "     columns=['B Agree', 'B Disagree'], index=['A Agree', 'A Disagree']\n",
    ")\n",
    "\n",
    "print('e > 0')\n",
    "display(egz)\n",
    "\n",
    "print('e < 0')\n",
    "display(elz)"
   ]
  },
  {
   "cell_type": "code",
   "execution_count": null,
   "metadata": {},
   "outputs": [],
   "source": []
  }
 ],
 "metadata": {
  "kernelspec": {
   "display_name": "Python 3.8.1 64-bit ('ex_design_analysis': pipenv)",
   "metadata": {
    "interpreter": {
     "hash": "d93d3809a412eeca67f3d81705e284a9fa16a5e112e379b94b99b867ad05122c"
    }
   },
   "name": "python3"
  },
  "language_info": {
   "codemirror_mode": {
    "name": "ipython",
    "version": 3
   },
   "file_extension": ".py",
   "mimetype": "text/x-python",
   "name": "python",
   "nbconvert_exporter": "python",
   "pygments_lexer": "ipython3",
   "version": "3.8.1-final"
  }
 },
 "nbformat": 4,
 "nbformat_minor": 2
}
