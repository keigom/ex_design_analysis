{
 "cells": [
  {
   "cell_type": "markdown",
   "metadata": {},
   "source": [
    "# Independent 2 x 2 cross table\n",
    "Alternative of z-test and chi-square test"
   ]
  },
  {
   "cell_type": "code",
   "execution_count": null,
   "metadata": {},
   "outputs": [],
   "source": [
    "# Enable the commands below when running this program on Google Colab.\n",
    "# !pip install arviz==0.7\n",
    "# !pip install pymc3==3.8\n",
    "# !pip install Theano==1.0.4\n",
    "\n",
    "import numpy as np\n",
    "import pandas as pd\n",
    "from scipy import stats\n",
    "import matplotlib.pyplot as plt\n",
    "import seaborn as sns\n",
    "\n",
    "import pymc3 as pm\n",
    "\n",
    "import math\n",
    "\n",
    "plt.style.use('seaborn-darkgrid')\n",
    "np.set_printoptions(precision=3)\n",
    "pd.set_option('display.precision', 3)"
   ]
  },
  {
   "cell_type": "markdown",
   "metadata": {},
   "source": [
    "## Q. The number of respondents who agreed or disagreed with Proposition A was gathered by gender. Estimate the population proportion."
   ]
  },
  {
   "cell_type": "code",
   "execution_count": null,
   "metadata": {},
   "outputs": [],
   "source": [
    "data = pd.DataFrame([[71, 49], [42, 83]], columns=['Agree', 'Disagree'], index=['Male', 'Female'])\n",
    "display(data)"
   ]
  },
  {
   "cell_type": "markdown",
   "metadata": {},
   "source": [
    "## Bayesian analysis"
   ]
  },
  {
   "cell_type": "code",
   "execution_count": null,
   "metadata": {},
   "outputs": [],
   "source": [
    "with pm.Model() as model:\n",
    "    # Prior distribution\n",
    "    p1 = pm.Uniform('p1', 0, 1)\n",
    "    p2 = pm.Uniform('p2', 0, 1)\n",
    "\n",
    "    # Likelihood\n",
    "    y1_pred = pm.Binomial('y1_pred', n=data.loc['Male'].sum(), p=p1, observed=data.loc['Male']['Agree'])\n",
    "    y2_pred = pm.Binomial('y2_pred', n=data.loc['Female'].sum(), p=p2, observed=data.loc['Female']['Agree'])\n",
    "\n",
    "    # Difference of ratios\n",
    "    diff = pm.Deterministic('diff', p1 - p2)\n",
    "\n",
    "    # Ratio of ratios\n",
    "    ratio = pm.Deterministic('ratio', p1 / p2)\n",
    "\n",
    "    # Odds\n",
    "    odds1 = pm.Deterministic('odds1', p1 / (1 - p1))\n",
    "    odds2 = pm.Deterministic('odds2', p2 / (1 - p2))\n",
    "\n",
    "    # Odds ratio\n",
    "    odds_ratio = pm.Deterministic('odds_ratio', odds1 / odds2)\n",
    "\n",
    "    trace = pm.sample(21000, chains=5)"
   ]
  },
  {
   "cell_type": "code",
   "execution_count": null,
   "metadata": {},
   "outputs": [],
   "source": [
    "chain = trace[1000:]\n",
    "pm.traceplot(chain)\n",
    "plt.show()"
   ]
  },
  {
   "cell_type": "code",
   "execution_count": null,
   "metadata": {},
   "outputs": [],
   "source": [
    "pm.summary(chain)"
   ]
  },
  {
   "cell_type": "code",
   "execution_count": null,
   "metadata": {},
   "outputs": [],
   "source": [
    "print('Agree rate (Male): {:.3f} % ({:.3f})'.format(chain['p1'].mean() * 100, chain['p1'].std()))\n",
    "print('Agree rate (Female): {:.3f} % ({:.3f})'.format(chain['p2'].mean() * 100, chain['p2'].std()))"
   ]
  },
  {
   "cell_type": "markdown",
   "metadata": {},
   "source": [
    "### RQ1: 男性の賛成率は女性の何倍か？"
   ]
  },
  {
   "cell_type": "code",
   "execution_count": null,
   "metadata": {},
   "outputs": [],
   "source": [
    "print('Agree rate of Male is {:.3f} times higher than that of Female.'.format(chain['ratio'].mean()))"
   ]
  },
  {
   "cell_type": "markdown",
   "metadata": {},
   "source": [
    "### RQ2: 男性の賛成率と女性の賛成率の差は0.1より大きい"
   ]
  },
  {
   "cell_type": "code",
   "execution_count": null,
   "metadata": {},
   "outputs": [],
   "source": [
    "print('Probability of agree rate of Male is 0.1 higher than that of Female: {:.3f} %'.format((chain['diff'] > 0.1).mean() * 100))"
   ]
  },
  {
   "cell_type": "markdown",
   "metadata": {},
   "source": [
    "### RQ3: 男性の賛成率は女性の賛成率よりも1.5倍より高い"
   ]
  },
  {
   "cell_type": "code",
   "execution_count": null,
   "metadata": {},
   "outputs": [],
   "source": [
    "print('Probability of agree rate of Male is 1.5 times higher than that of Female: {:.3f} %'.format((chain['ratio'] > 1.5).mean() * 100))"
   ]
  }
 ],
 "metadata": {
  "kernelspec": {
   "display_name": "Python 3.8.1 64-bit ('ex_design_analysis': pipenv)",
   "metadata": {
    "interpreter": {
     "hash": "d93d3809a412eeca67f3d81705e284a9fa16a5e112e379b94b99b867ad05122c"
    }
   },
   "name": "python3"
  },
  "language_info": {
   "codemirror_mode": {
    "name": "ipython",
    "version": 3
   },
   "file_extension": ".py",
   "mimetype": "text/x-python",
   "name": "python",
   "nbconvert_exporter": "python",
   "pygments_lexer": "ipython3",
   "version": "3.8.1-final"
  }
 },
 "nbformat": 4,
 "nbformat_minor": 2
}
