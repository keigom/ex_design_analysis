{
 "cells": [
  {
   "cell_type": "markdown",
   "metadata": {},
   "source": [
    "# Estimation of population proportion (Multinomial distribution)\n",
    "Alternative of z-test and chi-square test"
   ]
  },
  {
   "cell_type": "code",
   "execution_count": null,
   "metadata": {},
   "outputs": [],
   "source": [
    "# Enable the commands below when running this program on Google Colab.\n",
    "# !pip install arviz==0.7\n",
    "# !pip install pymc3==3.8\n",
    "# !pip install Theano==1.0.4\n",
    " \n",
    "import numpy as np\n",
    "import pandas as pd\n",
    "from scipy import stats\n",
    "import matplotlib.pyplot as plt\n",
    "import seaborn as sns\n",
    "\n",
    "import pymc3 as pm\n",
    "\n",
    "import math\n",
    "\n",
    "plt.style.use('seaborn-darkgrid')\n",
    "np.set_printoptions(precision=3)\n",
    "pd.set_option('display.precision', 3)"
   ]
  },
  {
   "cell_type": "markdown",
   "metadata": {},
   "source": [
    "## Q: Students in a junior high school were asked which person they consulted the most about their problems. Estimate the population proportion."
   ]
  },
  {
   "cell_type": "code",
   "execution_count": null,
   "metadata": {},
   "outputs": [],
   "source": [
    "columns = ['Parent', 'Friend', 'Brother', 'Teacher', 'None', 'Others']\n",
    "data = pd.DataFrame([(26, 40, 8, 2, 23, 8)], columns=columns)\n",
    "display(data)\n",
    "# print(data.values[0])\n",
    "observed = data.values[0]"
   ]
  },
  {
   "cell_type": "code",
   "execution_count": null,
   "metadata": {},
   "outputs": [],
   "source": [
    "with pm.Model() as model:\n",
    "    # Prior distribution\n",
    "    p_ = pm.Uniform('p_', 0, 1, shape=len(columns))\n",
    "    p = pm.Deterministic('p', p_ / pm.math.sum(p_))\n",
    "\n",
    "    # Likelihood\n",
    "    y_pred = pm.Multinomial('y_pred', n=sum(observed), p=p, observed=observed)\n",
    "\n",
    "    trace = pm.sample(21000, chains=5)"
   ]
  },
  {
   "cell_type": "code",
   "execution_count": null,
   "metadata": {},
   "outputs": [],
   "source": [
    "chain = trace[1000:]\n",
    "pm.traceplot(chain)\n",
    "plt.show()"
   ]
  },
  {
   "cell_type": "code",
   "execution_count": null,
   "metadata": {},
   "outputs": [],
   "source": [
    "# print(len(trace))\n",
    "# print(len(chain))\n",
    "# print(trace.nchains)\n",
    "# print(trace.get_values('p'))\n",
    "# print(chain.get_values('p').shape)\n",
    "# for samples in trace.get_values('p', combine=False):\n",
    "#     print(samples.shape)\n",
    "#     print(samples)"
   ]
  },
  {
   "cell_type": "code",
   "execution_count": null,
   "metadata": {},
   "outputs": [],
   "source": [
    "pm.summary(chain, ['p'])"
   ]
  },
  {
   "cell_type": "markdown",
   "metadata": {},
   "source": [
    "### RQ1: どのカテゴリとどのカテゴリの間に差があるのか？"
   ]
  },
  {
   "cell_type": "code",
   "execution_count": null,
   "metadata": {},
   "outputs": [],
   "source": [
    "result = [[(chain['p'][:,i] > chain['p'][:,j]).mean() for j in range(len(columns))] for i in range(len(columns))]\n",
    "\n",
    "print('row (-) > column (|)')\n",
    "comp_table = pd.DataFrame(result, index=columns, columns=columns)\n",
    "display(comp_table)"
   ]
  },
  {
   "cell_type": "markdown",
   "metadata": {},
   "source": [
    "### RQ2: 「友達」は他の誰よりも相談される比率が高い"
   ]
  },
  {
   "cell_type": "code",
   "execution_count": null,
   "metadata": {},
   "outputs": [],
   "source": [
    "p = chain['p']\n",
    "p_f = p[:,1]\n",
    "\n",
    "# Friend > Parent, Brother, Teacher, None, Others\n",
    "val_1 = (p[:,0] < p_f).mean() * (p[:,2] < p_f).mean() * (p[:,3] < p_f).mean() *(p[:,4] < p_f).mean() * (p[:,5] < p_f).mean()\n",
    "print('Friend > Parent, Brother, Teacher, None, Others: {:.3f} %'.format(val_1 * 100))\n",
    "\n",
    "# Friend > Brother, Teacher, None, Others\n",
    "val_2 = (p[:,2] < p_f).mean() * (p[:,3] < p_f).mean() *(p[:,4] < p_f).mean() * (p[:,5] < p_f).mean()\n",
    "print('Friend > Brother, Teacher, None, Others: {:.3f} %'.format(val_2 * 100))"
   ]
  },
  {
   "cell_type": "markdown",
   "metadata": {},
   "source": [
    "### RQ3: 「先生」は他の誰よりも相談される比率が低い\n"
   ]
  },
  {
   "cell_type": "code",
   "execution_count": null,
   "metadata": {},
   "outputs": [],
   "source": [
    "p_t = p[:,3]\n",
    "\n",
    "# Teacher < Parent, Friend, Brother, None, Others\n",
    "val_3 = (p_t < p[:,0]).mean() * (p_t < p[:,1]).mean() * (p_t < p[:,2]).mean() * (p_t < p[:,4]).mean() * (p_t < p[:,5]).mean()\n",
    "print('Teacher < Parent, Friend, Brother, None, Others: {:.3f}'.format(val_3 * 100))\n",
    "\n",
    "# Teacher < Parent, Friend, None, Others\n",
    "val_4 = (p_t < p[:,0]).mean() * (p_t < p[:,1]).mean() * (p_t < p[:,4]).mean() * (p_t < p[:,5]).mean()\n",
    "print('Teacher < Parent, Friend, None, Others: {:.3f}'.format(val_4 * 100))\n",
    "\n",
    "# Teacher < Parent, Friend, Brother, None\n",
    "val_5 = (p_t < p[:,0]).mean() * (p_t < p[:,1]).mean() * (p_t < p[:,2]).mean() * (p_t < p[:,4]).mean()\n",
    "print('Teacher < Parent, Friend, Brother, None: {:.3f}'.format(val_5 * 100))"
   ]
  },
  {
   "cell_type": "code",
   "execution_count": null,
   "metadata": {},
   "outputs": [],
   "source": []
  }
 ],
 "metadata": {
  "kernelspec": {
   "display_name": "Python 3.8.1 64-bit ('ex_design_analysis': pipenv)",
   "metadata": {
    "interpreter": {
     "hash": "d93d3809a412eeca67f3d81705e284a9fa16a5e112e379b94b99b867ad05122c"
    }
   },
   "name": "python3"
  },
  "language_info": {
   "codemirror_mode": {
    "name": "ipython",
    "version": 3
   },
   "file_extension": ".py",
   "mimetype": "text/x-python",
   "name": "python",
   "nbconvert_exporter": "python",
   "pygments_lexer": "ipython3",
   "version": "3.8.1-final"
  }
 },
 "nbformat": 4,
 "nbformat_minor": 2
}
