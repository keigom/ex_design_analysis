{
 "cells": [
  {
   "cell_type": "markdown",
   "metadata": {},
   "source": [
    "# Wine ordered by customers who has visited \"Restaurant A\" twice."
   ]
  },
  {
   "cell_type": "code",
   "execution_count": null,
   "metadata": {},
   "outputs": [],
   "source": [
    "# Enable the commands below when running this program on Google Colab.\n",
    "# !pip install arviz==0.7\n",
    "# !pip install pymc3==3.8\n",
    "# !pip install Theano==1.0.4\n",
    "\n",
    "import numpy as np\n",
    "import pandas as pd\n",
    "from scipy import stats\n",
    "import matplotlib.pyplot as plt\n",
    "import seaborn as sns\n",
    "\n",
    "import pymc3 as pm\n",
    "\n",
    "import math\n",
    "\n",
    "plt.style.use('seaborn-darkgrid')\n",
    "np.set_printoptions(precision=3)\n",
    "pd.set_option('display.precision', 3)"
   ]
  },
  {
   "cell_type": "code",
   "execution_count": null,
   "metadata": {},
   "outputs": [],
   "source": [
    "a = 3  # Kinds of wines (ordered at first time)\n",
    "b = 3  # Kinds of wines (ordered at second time)\n",
    "wines = ['Red', 'Rose', 'White']\n",
    "data = pd.DataFrame([[13, 6, 21], [7, 17, 7], [13, 6, 13]], columns=wines, index=wines)\n",
    "display(data)\n",
    "N = data.sum().sum()\n",
    "\n",
    "observed = [data['Red']['Red'],\n",
    "            data['Rose']['Red'],\n",
    "            data['White']['Red'],\n",
    "            data['Red']['Rose'],\n",
    "            data['Rose']['Rose'],\n",
    "            data['White']['Rose'],\n",
    "            data['Red']['White'],\n",
    "            data['Rose']['White'],\n",
    "            data['White']['White']]\n",
    "print(observed)"
   ]
  },
  {
   "cell_type": "markdown",
   "metadata": {},
   "source": [
    "## Bayesian analysis"
   ]
  },
  {
   "cell_type": "code",
   "execution_count": null,
   "metadata": {},
   "outputs": [],
   "source": [
    "with pm.Model() as model:\n",
    "  # Prior distribution\n",
    "  p_ = pm.Uniform('p_', 0, 1, shape=(a * b))\n",
    "  p = pm.Deterministic('p', p_ / pm.math.sum(p_))\n",
    "\n",
    "  # Likelihood\n",
    "  x = pm.Multinomial('x', n=N, p=p, observed=observed)\n",
    "\n",
    "  # Marginal probability\n",
    "  p1d = pm.Deterministic('p1d', p[0] + p[1] + p[2])  # p1. = p11 + p12 + p13\n",
    "  p2d = pm.Deterministic('p2d', p[3] + p[4] + p[5])  # p2. = p21 + p22 + p23\n",
    "  p3d = pm.Deterministic('p3d', p[6] + p[7] + p[8])  # p3. = p31 + p32 + p33\n",
    "\n",
    "  pd1 = pm.Deterministic('pd1', p[0] + p[3] + p[6])  # p.1 = p11 + p21 + p31\n",
    "  pd2 = pm.Deterministic('pd2', p[1] + p[4] + p[7])  # p.2 = p12 + p22 + p32\n",
    "  pd3 = pm.Deterministic('pd3', p[2] + p[5] + p[8])  # p.3 = p13 + p23 + p33\n",
    "\n",
    "  # Pearson's residual\n",
    "  pp = [p1d * pd1, p1d * pd2, p1d * pd3, \n",
    "        p2d * pd1, p2d * pd2, p2d * pd3, \n",
    "        p3d * pd1, p3d * pd2, p3d * pd3]\n",
    "  e = pm.Deterministic('e', (p - pp) / pm.math.sqrt(pp))\n",
    "\n",
    "  # Cramer's association coefficient\n",
    "  V = pm.Deterministic('V', pm.math.sqrt(pm.math.sum(e**2) / (min(a, b) - 1)))\n",
    "\n",
    "  trace = pm.sample(21000, chains=5)"
   ]
  },
  {
   "cell_type": "code",
   "execution_count": null,
   "metadata": {},
   "outputs": [],
   "source": [
    "chain = trace[1000:]\n",
    "pm.traceplot(chain)\n",
    "plt.show()"
   ]
  },
  {
   "cell_type": "code",
   "execution_count": null,
   "metadata": {},
   "outputs": [],
   "source": [
    "pm.summary(chain, var_names=['p', 'V', 'p1d', 'p2d', 'p3d', 'pd1', 'pd2', 'pd3'])"
   ]
  },
  {
   "cell_type": "markdown",
   "metadata": {},
   "source": [
    "### Independence and association"
   ]
  },
  {
   "cell_type": "code",
   "execution_count": null,
   "metadata": {},
   "outputs": [],
   "source": [
    "plt.boxplot(\n",
    "    [chain['e'][:,0],\n",
    "     chain['e'][:,1],\n",
    "     chain['e'][:,2],\n",
    "     chain['e'][:,3],\n",
    "     chain['e'][:,4],\n",
    "     chain['e'][:,5],\n",
    "     chain['e'][:,6],\n",
    "     chain['e'][:,7],\n",
    "     chain['e'][:,8],],\n",
    "     labels=['e11', 'e12', 'e13', 'e21', 'e22', 'e23', 'e31', 'e32', 'e33'])\n",
    "plt.show()"
   ]
  },
  {
   "cell_type": "code",
   "execution_count": null,
   "metadata": {},
   "outputs": [],
   "source": [
    "print(\"Cramer's association coefficient: {:.3f}\".format(chain['V'].mean()))\n",
    "# 1.0 - 0.5: strong association\n",
    "# 0.5 - 0.25: association\n",
    "# 0.25 - 0.1: weak association\n",
    "# 0.1 > : very weak association\n",
    "# 0: no association"
   ]
  },
  {
   "cell_type": "code",
   "execution_count": null,
   "metadata": {},
   "outputs": [],
   "source": [
    "egz = pd.DataFrame(\n",
    "    [[(chain['e'][:,0] > 0).mean(), (chain['e'][:,1] > 0).mean(), (chain['e'][:,2] > 0).mean()],\n",
    "     [(chain['e'][:,3] > 0).mean(), (chain['e'][:,4] > 0).mean(), (chain['e'][:,5] > 0).mean()],\n",
    "     [(chain['e'][:,6] > 0).mean(), (chain['e'][:,7] > 0).mean(), (chain['e'][:,8] > 0).mean()]\n",
    "    ],\n",
    "    columns=wines,\n",
    "    index=wines\n",
    ")\n",
    "\n",
    "elz = pd.DataFrame(\n",
    "    [[(chain['e'][:,0] < 0).mean(), (chain['e'][:,1] < 0).mean(), (chain['e'][:,2] < 0).mean()],\n",
    "     [(chain['e'][:,3] < 0).mean(), (chain['e'][:,4] < 0).mean(), (chain['e'][:,5] < 0).mean()],\n",
    "     [(chain['e'][:,6] < 0).mean(), (chain['e'][:,7] < 0).mean(), (chain['e'][:,8] < 0).mean()]\n",
    "    ],\n",
    "    columns=wines,\n",
    "    index=wines\n",
    ")\n",
    "\n",
    "print('e > 0')\n",
    "display(egz)\n",
    "print('e < 0')\n",
    "display(elz)"
   ]
  },
  {
   "cell_type": "markdown",
   "metadata": {},
   "source": [
    "### RQ1: 一回目に「ロゼ」を選んだ客は二回目も「ロゼ」を選び「白」を避けること、一回目に「赤」を選んだ客は二回目は「ロゼ」を避けること"
   ]
  },
  {
   "cell_type": "code",
   "execution_count": null,
   "metadata": {},
   "outputs": [],
   "source": [
    "e_red_red = chain['e'][:,0]\n",
    "e_red_rose = chain['e'][:,1]\n",
    "e_red_white = chain['e'][:,2]\n",
    "\n",
    "e_rose_red = chain['e'][:,3]\n",
    "e_rose_rose = chain['e'][:,4]\n",
    "e_rose_white = chain['e'][:,5]\n",
    "\n",
    "e_white_red = chain['e'][:,6]\n",
    "e_white_rose = chain['e'][:,7]\n",
    "e_white_white = chain['e'][:,8]\n",
    "\n",
    "val_1 = (e_rose_rose > 0).mean() * (e_rose_white < 0).mean() * (e_red_rose < 0).mean()\n",
    "print('prob(rose -> rose & rose !-> white & red !-> rose) = {:.3f}'.format(val_1))"
   ]
  },
  {
   "cell_type": "code",
   "execution_count": null,
   "metadata": {},
   "outputs": [],
   "source": []
  }
 ],
 "metadata": {
  "kernelspec": {
   "display_name": "Python 3",
   "language": "python",
   "name": "python3"
  },
  "language_info": {
   "codemirror_mode": {
    "name": "ipython",
    "version": 3
   },
   "file_extension": ".py",
   "mimetype": "text/x-python",
   "name": "python",
   "nbconvert_exporter": "python",
   "pygments_lexer": "ipython3",
   "version": "3.8.1-final"
  }
 },
 "nbformat": 4,
 "nbformat_minor": 2
}
