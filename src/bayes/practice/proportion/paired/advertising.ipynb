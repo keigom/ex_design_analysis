{
 "cells": [
  {
   "cell_type": "markdown",
   "metadata": {},
   "source": [
    "# Advertising Effectiveness"
   ]
  },
  {
   "cell_type": "code",
   "execution_count": null,
   "metadata": {},
   "outputs": [],
   "source": [
    "# Enable the commands below when running this program on Google Colab.\n",
    "# !pip install arviz==0.7\n",
    "# !pip install pymc3==3.8\n",
    "# !pip install Theano==1.0.4\n",
    "\n",
    "import numpy as np\n",
    "import pandas as pd\n",
    "from scipy import stats\n",
    "import matplotlib.pyplot as plt\n",
    "import seaborn as sns\n",
    "\n",
    "import pymc3 as pm\n",
    "\n",
    "import math≈\n",
    "\n",
    "plt.style.use('seaborn-darkgrid')\n",
    "np.set_printoptions(precision=3)\n",
    "pd.set_option('display.precision', 3)"
   ]
  },
  {
   "cell_type": "code",
   "execution_count": null,
   "metadata": {},
   "outputs": [],
   "source": [
    "columns = ['Not purchased', 'Purchased']\n",
    "index = ['Watched CM', 'Not watched']\n",
    "data = pd.DataFrame([[33, 18], [84, 23]], columns=columns, index=index)\n",
    "display(data)\n",
    "N = data.sum().sum()\n",
    "print(N)\n",
    "\n",
    "observed = [data['Not purchased']['Watched CM'],\n",
    "            data['Purchased']['Watched CM'],\n",
    "            data['Not purchased']['Not watched'],\n",
    "            data['Purchased']['Not watched']]\n",
    "print(observed)"
   ]
  },
  {
   "cell_type": "markdown",
   "metadata": {},
   "source": [
    "## Bayesian analysis"
   ]
  },
  {
   "cell_type": "code",
   "execution_count": null,
   "metadata": {},
   "outputs": [],
   "source": [
    "with pm.Model() as model:\n",
    "    # Prior distribution\n",
    "    p_ = pm.Uniform('p_', 0, 1, shape=4)\n",
    "    p = pm.Deterministic('p', p_ / pm.math.sum(p_))\n",
    "\n",
    "    # Likelihood\n",
    "    y_pred = pm.Multinomial('y_pred', n=N, p=p, observed=observed)\n",
    "\n",
    "    # Marginal probability\n",
    "    p1d = p[0] + p[1]\n",
    "    p2d = p[2] + p[3]\n",
    "\n",
    "    pd1 = p[0] + p[2]\n",
    "    pd2 = p[1] + p[3]\n",
    "\n",
    "    # Pearson's residual\n",
    "    pp = [p1d * pd1, p1d * pd2,\n",
    "        p2d * pd1, p2d * pd2]\n",
    "    e = pm.Deterministic('e', (p - pp) / pm.math.sqrt(pp))\n",
    "\n",
    "    # Cramer's association coefficient\n",
    "    V = pm.Deterministic('V', pm.math.sqrt(pm.math.sum(e**2)))\n",
    "\n",
    "    trace = pm.sample(21000, chains=5)"
   ]
  },
  {
   "cell_type": "code",
   "execution_count": null,
   "metadata": {},
   "outputs": [],
   "source": [
    "chain = trace[1000:]\n",
    "pm.traceplot(chain)\n",
    "plt.show()"
   ]
  },
  {
   "cell_type": "code",
   "execution_count": null,
   "metadata": {},
   "outputs": [],
   "source": [
    "pm.summary(chain, var_names=['p', 'e', 'V'])"
   ]
  },
  {
   "cell_type": "markdown",
   "metadata": {},
   "source": [
    "### Independence and association"
   ]
  },
  {
   "cell_type": "code",
   "execution_count": null,
   "metadata": {},
   "outputs": [],
   "source": [
    "plt.boxplot(\n",
    "    [chain['e'][:,0],\n",
    "     chain['e'][:,1],\n",
    "     chain['e'][:,2],\n",
    "     chain['e'][:,3]],\n",
    "     labels=['e11', 'e12', 'e21', 'e22'])\n",
    "plt.show()"
   ]
  },
  {
   "cell_type": "code",
   "execution_count": null,
   "metadata": {},
   "outputs": [],
   "source": [
    "print(\"Cramer's association coefficient: {:.3f}\".format(chain['V'].mean()))\n",
    "# 1.0 - 0.5: strong association\n",
    "# 0.5 - 0.25: association\n",
    "# 0.25 - 0.1: weak association\n",
    "# 0.1 > : very weak association\n",
    "# 0: no association\n",
    "\n",
    "# Weak association has found, thus there is not much association between watching CM and purchasing the product."
   ]
  },
  {
   "cell_type": "code",
   "execution_count": null,
   "metadata": {},
   "outputs": [],
   "source": [
    "egz = pd.DataFrame(\n",
    "    [[(chain['e'][:,0] > 0).mean(), (chain['e'][:,1] > 0).mean()],\n",
    "     [(chain['e'][:,2] > 0).mean(), (chain['e'][:,3] > 0).mean()]],\n",
    "     columns=columns, index=index\n",
    ")\n",
    "\n",
    "elz = pd.DataFrame(\n",
    "    [[(chain['e'][:,0] < 0).mean(), (chain['e'][:,1] < 0).mean()],\n",
    "     [(chain['e'][:,2] < 0).mean(), (chain['e'][:,3] < 0).mean()]],\n",
    "     columns=columns, index=index\n",
    ")\n",
    "\n",
    "print('e > 0')\n",
    "display(egz)\n",
    "\n",
    "print('e < 0')\n",
    "display(elz)"
   ]
  },
  {
   "cell_type": "code",
   "execution_count": null,
   "metadata": {},
   "outputs": [],
   "source": []
  }
 ],
 "metadata": {
  "kernelspec": {
   "display_name": "Python 3",
   "language": "python",
   "name": "python3"
  },
  "language_info": {
   "codemirror_mode": {
    "name": "ipython",
    "version": 3
   },
   "file_extension": ".py",
   "mimetype": "text/x-python",
   "name": "python",
   "nbconvert_exporter": "python",
   "pygments_lexer": "ipython3",
   "version": "3.8.1-final"
  }
 },
 "nbformat": 4,
 "nbformat_minor": 2
}
