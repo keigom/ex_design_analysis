{
 "cells": [
  {
   "cell_type": "markdown",
   "metadata": {},
   "source": [
    "# Adviser for High School Students"
   ]
  },
  {
   "cell_type": "code",
   "execution_count": null,
   "metadata": {},
   "outputs": [],
   "source": [
    "# Enable the commands below when running this program on Google Colab.\n",
    "# !pip install arviz==0.7\n",
    "# !pip install pymc3==3.8\n",
    "# !pip install Theano==1.0.4\n",
    " \n",
    "import numpy as np\n",
    "import pandas as pd\n",
    "from scipy import stats\n",
    "import matplotlib.pyplot as plt\n",
    "import seaborn as sns\n",
    "\n",
    "import pymc3 as pm\n",
    "\n",
    "import math\n",
    "\n",
    "plt.style.use('seaborn-darkgrid')\n",
    "np.set_printoptions(precision=3)\n",
    "pd.set_option('display.precision', 3)"
   ]
  },
  {
   "cell_type": "code",
   "execution_count": null,
   "metadata": {},
   "outputs": [],
   "source": [
    "columns = ['Parent', 'Friend', 'Brother', 'Teacher', 'None', 'Others']\n",
    "data = pd.DataFrame([(30, 12, 4, 20, 22, 8)], columns=columns)\n",
    "display(data)\n",
    "observed = data.values[0]"
   ]
  },
  {
   "cell_type": "code",
   "execution_count": null,
   "metadata": {},
   "outputs": [],
   "source": [
    "with pm.Model() as model:\n",
    "    # Prior distribution\n",
    "    p_ = pm.Uniform('p_', 0, 1, shape=len(columns))\n",
    "    p = pm.Deterministic('p', p_ / pm.math.sum(p_))\n",
    "\n",
    "    # Likelihood\n",
    "    y_pred = pm.Multinomial('y_pred', n=sum(observed), p=p, observed=observed)\n",
    "\n",
    "    trace=pm.sample(21000, chains=5)"
   ]
  },
  {
   "cell_type": "code",
   "execution_count": null,
   "metadata": {},
   "outputs": [],
   "source": [
    "chain = trace[1000:]\n",
    "pm.traceplot(chain)\n",
    "plt.show()"
   ]
  },
  {
   "cell_type": "code",
   "execution_count": null,
   "metadata": {},
   "outputs": [],
   "source": [
    "pm.summary(chain, ['p'])"
   ]
  },
  {
   "cell_type": "markdown",
   "metadata": {},
   "source": [
    "### RQ1: どのカテゴリとどのカテゴリの間に差があるのか？"
   ]
  },
  {
   "cell_type": "code",
   "execution_count": null,
   "metadata": {},
   "outputs": [],
   "source": [
    "# 行の水準が列の水準より大きい確率\n",
    "result = [[(chain['p'][:,i] > chain['p'][:,j]).mean() for j in range(len(columns))] for i in range(len(columns))]\n",
    "\n",
    "print('row (-) > column (|)')\n",
    "comp_table = pd.DataFrame(result, index=columns, columns=columns)\n",
    "display(comp_table)"
   ]
  },
  {
   "cell_type": "markdown",
   "metadata": {},
   "source": [
    "### RQ2: 「親」は他の誰よりも相談される比率が高い"
   ]
  },
  {
   "cell_type": "code",
   "execution_count": null,
   "metadata": {},
   "outputs": [],
   "source": [
    "p = chain['p']\n",
    "p_p = p[:,0]\n",
    "p_f = p[:,1]\n",
    "p_b = p[:,2]\n",
    "p_t = p[:,3]\n",
    "p_n = p[:,4]\n",
    "p_o = p[:,5]"
   ]
  },
  {
   "cell_type": "code",
   "execution_count": null,
   "metadata": {},
   "outputs": [],
   "source": [
    "# Parent > Friend, Brother, Teacher, None, Others\n",
    "val_1 = (p_p > p_f).mean() * (p_p > p_b).mean() * (p_p > p_t).mean() * (p_p > p_n).mean() * (p_p > p_o).mean()\n",
    "print('Parent > Friend, Brother, Teacher, None, Others: {:.3f} %'.format(val_1 * 100))"
   ]
  },
  {
   "cell_type": "markdown",
   "metadata": {},
   "source": [
    "### RQ3: 「相談しない」を除いて、「親」は「友達」「兄弟」「先生」「その他」よりも相談される比率が高い"
   ]
  },
  {
   "cell_type": "code",
   "execution_count": null,
   "metadata": {},
   "outputs": [],
   "source": [
    "# Parent > Friend, Brother, Teacher, Others\n",
    "val_2 = (p_p > p_f).mean() * (p_p > p_b).mean() * (p_p > p_t).mean() * (p_p > p_o).mean()\n",
    "print('Parent > Friend, Brother, Teacher, Others: {:.3f} %'.format(val_2 * 100))"
   ]
  },
  {
   "cell_type": "markdown",
   "metadata": {},
   "source": [
    "### RQ4: 「先生」を除いて、「親」は「友達」「兄弟」「その他」よりも相談される比率が高い"
   ]
  },
  {
   "cell_type": "code",
   "execution_count": null,
   "metadata": {},
   "outputs": [],
   "source": [
    "# Parent > Friend, Brother, Others\n",
    "val_3 = (p_p > p_f).mean() * (p_p > p_b).mean() * (p_p > p_o).mean()\n",
    "print('Parent > Friend, Brother, Others: {:.3f} %'.format(val_3 * 100))"
   ]
  },
  {
   "cell_type": "code",
   "execution_count": null,
   "metadata": {},
   "outputs": [],
   "source": []
  }
 ],
 "metadata": {
  "kernelspec": {
   "display_name": "Python 3",
   "language": "python",
   "name": "python3"
  },
  "language_info": {
   "codemirror_mode": {
    "name": "ipython",
    "version": 3
   },
   "file_extension": ".py",
   "mimetype": "text/x-python",
   "name": "python",
   "nbconvert_exporter": "python",
   "pygments_lexer": "ipython3",
   "version": "3.8.1-final"
  }
 },
 "nbformat": 4,
 "nbformat_minor": 2
}
