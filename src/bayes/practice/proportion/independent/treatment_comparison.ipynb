{
 "cells": [
  {
   "cell_type": "markdown",
   "metadata": {},
   "source": [
    "# Comparison of Effect between Treatment A and B"
   ]
  },
  {
   "cell_type": "code",
   "execution_count": null,
   "metadata": {},
   "outputs": [],
   "source": [
    "# Enable the commands below when running this program on Google Colab.\n",
    "# !pip install arviz==0.7\n",
    "# !pip install pymc3==3.8\n",
    "# !pip install Theano==1.0.4\n",
    " \n",
    "import numpy as np\n",
    "import pandas as pd\n",
    "from scipy import stats\n",
    "import matplotlib.pyplot as plt\n",
    "import seaborn as sns\n",
    "\n",
    "import pymc3 as pm\n",
    "\n",
    "import math\n",
    "\n",
    "plt.style.use('seaborn-darkgrid')\n",
    "np.set_printoptions(precision=3)\n",
    "pd.set_option('display.precision', 3)"
   ]
  },
  {
   "cell_type": "code",
   "execution_count": null,
   "metadata": {},
   "outputs": [],
   "source": [
    "data = pd.DataFrame([[90, 25], [78, 39]], columns=['Effective', 'Not effective'], index=['Treatment A', 'Treatment B'])\n",
    "display(data)"
   ]
  },
  {
   "cell_type": "markdown",
   "metadata": {},
   "source": [
    "## Bayesian analysis"
   ]
  },
  {
   "cell_type": "code",
   "execution_count": null,
   "metadata": {},
   "outputs": [],
   "source": [
    "with pm.Model() as model:\n",
    "    # Prior distribution\n",
    "    p1 = pm.Uniform('p1', 0, 1)\n",
    "    p2 = pm.Uniform('p2', 0, 1)\n",
    "\n",
    "    # Likelihood\n",
    "    y1_pred = pm.Binomial('y1_pred', n=data.loc['Treatment A'].sum(), p=p1, observed=data.loc['Treatment A']['Effective'])\n",
    "    y2_pred = pm.Binomial('y2_pred', n=data.loc['Treatment B'].sum(), p=p1, observed=data.loc['Treatment B']['Effective'])\n",
    "\n",
    "    # Difference of proportions\n",
    "    diff = pm.Deterministic('diff', p1 - p2)\n",
    "\n",
    "    # Ratio of proportions\n",
    "    ratio = pm.Deterministic('ratio', p1 / p2)\n",
    "\n",
    "    # Odds\n",
    "    odds1 = pm.Deterministic('odds1', p1 / (1 - p1))\n",
    "    odds2 = pm.Deterministic('odds2', p2 / (1 - p2))\n",
    "\n",
    "    # Odds ratio\n",
    "    odds_ratio = pm.Deterministic('odds_Ratio', odds1 / odds2)\n",
    "\n",
    "    trace = pm.sample(21000, chains=5)"
   ]
  },
  {
   "cell_type": "code",
   "execution_count": null,
   "metadata": {},
   "outputs": [],
   "source": [
    "chain = trace[1000:]\n",
    "pm.traceplot(chain)\n",
    "plt.show()"
   ]
  },
  {
   "cell_type": "code",
   "execution_count": null,
   "metadata": {},
   "outputs": [],
   "source": [
    "pm.summary(chain)"
   ]
  },
  {
   "cell_type": "code",
   "execution_count": null,
   "metadata": {},
   "outputs": [],
   "source": [
    "print('Effective rate (Treatment A): {:.3f} % ({:.3f})'.format(chain['p1'].mean() * 100, chain['p1'].std()))\n",
    "\n",
    "print('Effective rate (Treatment B): {:.3f} % ({:.3f})'.format(chain['p2'].mean() * 100, chain['p2'].std()))\n",
    "\n",
    "print('Difference: {:.3f} % ({:.3f})'.format(chain['diff'].mean() * 100, chain['diff'].std()))\n"
   ]
  },
  {
   "cell_type": "code",
   "execution_count": null,
   "metadata": {},
   "outputs": [],
   "source": [
    "print('Probability of effective rate of A is 0.1 higher than that of B: {:.3f} %'.format((chain['diff'] > 0.1).mean() * 100))\n",
    "# 比率の差が0.1より大きい確率はそれほど高くないので、「治療法Aの方が効果がある」と断言するのは控えた方が良い"
   ]
  },
  {
   "cell_type": "code",
   "execution_count": null,
   "metadata": {},
   "outputs": [],
   "source": []
  }
 ],
 "metadata": {
  "kernelspec": {
   "display_name": "Python 3",
   "language": "python",
   "name": "python3"
  },
  "language_info": {
   "codemirror_mode": {
    "name": "ipython",
    "version": 3
   },
   "file_extension": ".py",
   "mimetype": "text/x-python",
   "name": "python",
   "nbconvert_exporter": "python",
   "pygments_lexer": "ipython3",
   "version": "3.8.1-final"
  }
 },
 "nbformat": 4,
 "nbformat_minor": 2
}
