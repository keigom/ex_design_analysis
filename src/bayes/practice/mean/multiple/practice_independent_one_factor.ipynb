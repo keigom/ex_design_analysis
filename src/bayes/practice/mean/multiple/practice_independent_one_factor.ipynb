{
 "cells": [
  {
   "cell_type": "markdown",
   "metadata": {},
   "source": [
    "# Practice: Independent One Factor Design"
   ]
  },
  {
   "cell_type": "code",
   "execution_count": null,
   "metadata": {},
   "outputs": [],
   "source": [
    "# Enable the commands below when running this program on Google Colab.\n",
    "# !pip install arviz==0.7\n",
    "# !pip install pymc3==3.8\n",
    "# !pip install Theano==1.0.4\n",
    "\n",
    "import numpy as np\n",
    "import pandas as pd\n",
    "from scipy import stats\n",
    "import matplotlib.pyplot as plt\n",
    "import seaborn as sns\n",
    "\n",
    "import pymc3 as pm\n",
    "\n",
    "plt.style.use('seaborn-darkgrid')\n",
    "np.set_printoptions(precision=3)\n",
    "pd.set_option('display.precision', 3)"
   ]
  },
  {
   "cell_type": "code",
   "execution_count": null,
   "metadata": {},
   "outputs": [],
   "source": [
    "LD_GROUP = [5.02, 6.67, 8.17, 2.79, 8.13, 6.34, 6.32, 3.97]\n",
    "LL_GROUP = [9.89, 9.58, 11.20, 9.05, 12.33, 9.39, 10.88, 9.37, 17.40]\n",
    "DM_GROUP = [10.20, 7.29, 7.57, 3.42, 5.82, 10.92, 5.21, 13.47, 8.64, 6.05]\n",
    "levels = ['LD group', 'LL group', 'DM group']"
   ]
  },
  {
   "cell_type": "code",
   "execution_count": null,
   "metadata": {},
   "outputs": [],
   "source": [
    "# Data visualization\n",
    "plt.boxplot([LD_GROUP, LL_GROUP, DM_GROUP], labels=levels)\n",
    "plt.ylabel('Weight')\n",
    "plt.show()"
   ]
  },
  {
   "cell_type": "code",
   "execution_count": null,
   "metadata": {},
   "outputs": [],
   "source": [
    "# Summary\n",
    "data = pd.DataFrame([LD_GROUP, LL_GROUP, DM_GROUP], index=levels).transpose()\n",
    "data.describe()"
   ]
  },
  {
   "cell_type": "code",
   "execution_count": null,
   "metadata": {},
   "outputs": [],
   "source": [
    "# Unbalanced data, observed data should be formatted\n",
    "observed = np.concatenate([LD_GROUP, LL_GROUP, DM_GROUP])\n",
    "print(observed)\n",
    "idx = [0] * len(LD_GROUP) + [1] * len(LL_GROUP) + [2] * len(DM_GROUP)\n",
    "print(idx)"
   ]
  },
  {
   "cell_type": "markdown",
   "metadata": {},
   "source": [
    "## Bayesian analysis"
   ]
  },
  {
   "cell_type": "code",
   "execution_count": null,
   "metadata": {},
   "outputs": [],
   "source": [
    "with pm.Model() as model:\n",
    "    # Prior distribution\n",
    "    mu = pm.Uniform('mu', 0, 20, shape=len(levels))\n",
    "    sigma = pm.Uniform('sigma', 0, 10)\n",
    "\n",
    "    # Likelihood\n",
    "    y_pred = pm.Normal('y_pred', mu=mu[idx], sigma=sigma, observed=observed)\n",
    "\n",
    "    # Total mean\n",
    "    total_mean = pm.Deterministic('total_mean', (pm.math.sum(mu) / len(levels)))\n",
    "\n",
    "    # Effect of each level\n",
    "    a = pm.Deterministic('a', mu - total_mean)\n",
    "\n",
    "    # Variance of factor (season)\n",
    "    sigma_factor = pm.Deterministic('sigma_factor',\n",
    "                        pm.math.sqrt(pm.math.sum(a**2) / len(levels)))\n",
    "    \n",
    "    # Coefficient of determination\n",
    "    eta_square = pm.Deterministic('eta_square', sigma_factor**2 / (sigma_factor**2 + sigma**2))  \n",
    "\n",
    "    # Effect size\n",
    "    delta = pm.Deterministic('delta', sigma_factor / sigma)\n",
    "\n",
    "    # Post analysis\n",
    "    mu2_mu1 = pm.Deterministic('mu2 - mu1', mu[1] - mu[0])\n",
    "    mu2_mu3 = pm.Deterministic('mu2 - mu3', mu[1] - mu[2])\n",
    "\n",
    "    delta_21 = pm.Deterministic('delta_21', mu2_mu1 / sigma)  # effect size\n",
    "    delta_23 = pm.Deterministic('delta_23', mu2_mu3 / sigma)  # effect size\n",
    "\n",
    "    trace = pm.sample(21000, chains=5)"
   ]
  },
  {
   "cell_type": "code",
   "execution_count": null,
   "metadata": {},
   "outputs": [],
   "source": [
    "chain = trace[1000:]\n",
    "pm.traceplot(chain)\n",
    "plt.show()"
   ]
  },
  {
   "cell_type": "code",
   "execution_count": null,
   "metadata": {},
   "outputs": [],
   "source": [
    "pm.summary(chain)"
   ]
  },
  {
   "cell_type": "code",
   "execution_count": null,
   "metadata": {},
   "outputs": [],
   "source": [
    "plt.boxplot(\n",
    "    [chain['a'][:,i] for i in range(len(levels))],\n",
    "    labels=levels)\n",
    "plt.ylim(-5, 6)\n",
    "plt.xlabel('Effect of level')\n",
    "plt.show()"
   ]
  },
  {
   "cell_type": "markdown",
   "metadata": {},
   "source": [
    "### 水準の効果の有無\n",
    "基準(0)より大きいか小さいか"
   ]
  },
  {
   "cell_type": "code",
   "execution_count": null,
   "metadata": {},
   "outputs": [],
   "source": [
    "print('-- a_j > 0 --')\n",
    "for i in range(len(levels)):\n",
    "    print('{}: {:.3f} %'.format(levels[i], (chain['a'][:,i] > 0).mean() * 100))\n",
    "\n",
    "print()\n",
    "\n",
    "print('-- a_j < 0 --')\n",
    "for i in range(len(levels)):\n",
    "    print('{}: {:.3f} %'.format(levels[i], (chain['a'][:,i] < 0).mean() * 100))"
   ]
  },
  {
   "cell_type": "markdown",
   "metadata": {},
   "source": [
    "### 要因の効果の大きさ"
   ]
  },
  {
   "cell_type": "code",
   "execution_count": null,
   "metadata": {},
   "outputs": [],
   "source": [
    "pm.plot_posterior(chain['eta_square'], credible_interval=0.95, point_estimate='mode')\n",
    "plt.xlabel('Coefficient of determination (CoD)')\n",
    "\n",
    "pm.plot_posterior(chain['delta'], credible_interval=0.95, point_estimate='mode')\n",
    "plt.xlabel('Effect size')\n",
    "\n",
    "plt.show()"
   ]
  },
  {
   "cell_type": "code",
   "execution_count": null,
   "metadata": {},
   "outputs": [],
   "source": [
    "print('Effect (SD) of Factor A: {:.3f} ({:.3f}) [{:.3f}, {:.3f}] = {:.1f} g'.format(chain['sigma_factor'].mean(), chain['sigma_factor'].std(), np.quantile(chain['sigma_factor'], 0.025), np.quantile(chain['sigma_factor'], 0.975), chain['sigma_factor'].mean()))\n",
    "\n",
    "# if CoD = 0 (0%) -> The factor does not explain the observed data at all.\n",
    "# if CoD = 1 (100%)  -> The factor well explains the observed data.\n",
    "print('CoD: {:.3f} ({:.3f}) [{:.3f}, {:.3f}] = {:.1f} %'.format(chain['eta_square'].mean(), chain['eta_square'].std(), np.quantile(chain['eta_square'], 0.025), np.quantile(chain['eta_square'], 0.975), chain['eta_square'].mean() * 100))\n",
    "\n",
    "print('Effect size: {:.3f} ({:.3f}) [{:.3f}, {:.3f}] = {:.1f} %'.format(chain['delta'].mean(), chain['delta'].std(), np.quantile(chain['delta'], 0.025), np.quantile(chain['delta'], 0.975), chain['delta'].mean() * 100))"
   ]
  },
  {
   "cell_type": "markdown",
   "metadata": {},
   "source": [
    "### 水準間の比較"
   ]
  },
  {
   "cell_type": "code",
   "execution_count": null,
   "metadata": {},
   "outputs": [],
   "source": [
    "def compare(a, b):\n",
    "    return (chain['mu'][:,a] - chain['mu'][:,b] > 0).mean()"
   ]
  },
  {
   "cell_type": "code",
   "execution_count": null,
   "metadata": {},
   "outputs": [],
   "source": [
    "# 行iの水準が列jの水準より大きい確率\n",
    "result = pd.DataFrame(\n",
    "    [[0, compare(0, 1), compare(0, 2)],\n",
    "     [compare(1, 0), 0, compare(1, 2)],\n",
    "     [compare(2, 0), compare(2, 1), 0]\n",
    "    ],\n",
    "    columns=levels,\n",
    "    index=levels)\n",
    "display(result)\n",
    "# 95%以上の確率であると「別々に」明言できるのは、\n",
    "# LL group > LD group\n",
    "# LL group > DM group\n",
    "# 「別々に」：同時に成り立つ確率は異なるため"
   ]
  },
  {
   "cell_type": "markdown",
   "metadata": {},
   "source": [
    "### 特に興味のある2水準間の比較"
   ]
  },
  {
   "cell_type": "code",
   "execution_count": null,
   "metadata": {},
   "outputs": [],
   "source": [
    "print('Mouse weight in LL group is average {:.2f} g ({:.3f}) [{:.3f}, {:.3f}] greater than in LD group.'.format(chain['mu2 - mu1'].mean(), chain['mu2 - mu1'].std(), np.quantile(chain['mu2 - mu1'], 0.025), np.quantile(chain['mu2 - mu1'], 0.975)))\n",
    "print('Mouse weight in LL group is average {:.2f} g ({:.3f}) [{:.3f}, {:.3f}] greater than in DM group.'.format(chain['mu2 - mu3'].mean(), chain['mu2 - mu3'].std(), np.quantile(chain['mu2 - mu3'], 0.025), np.quantile(chain['mu2 - mu3'], 0.975)))"
   ]
  },
  {
   "cell_type": "code",
   "execution_count": null,
   "metadata": {},
   "outputs": [],
   "source": []
  }
 ],
 "metadata": {
  "kernelspec": {
   "display_name": "Python 3",
   "language": "python",
   "name": "python3"
  },
  "language_info": {
   "codemirror_mode": {
    "name": "ipython",
    "version": 3
   },
   "file_extension": ".py",
   "mimetype": "text/x-python",
   "name": "python",
   "nbconvert_exporter": "python",
   "pygments_lexer": "ipython3",
   "version": "3.8.1-final"
  }
 },
 "nbformat": 4,
 "nbformat_minor": 2
}
