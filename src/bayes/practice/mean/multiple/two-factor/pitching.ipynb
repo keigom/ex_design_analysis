{
 "cells": [
  {
   "cell_type": "markdown",
   "metadata": {},
   "source": [
    "# Pitching Problem"
   ]
  },
  {
   "cell_type": "code",
   "execution_count": null,
   "metadata": {},
   "outputs": [],
   "source": [
    "# Enable the commands below when running this program on Google Colab.\n",
    "# !pip install arviz==0.7\n",
    "# !pip install pymc3==3.8\n",
    "# !pip install Theano==1.0.4\n",
    "\n",
    "import numpy as np\n",
    "import pandas as pd\n",
    "from scipy import stats\n",
    "import matplotlib.pyplot as plt\n",
    "import seaborn as sns\n",
    "\n",
    "import pymc3 as pm\n",
    "import theano.tensor as tt\n",
    "\n",
    "import statistics\n",
    "import math\n",
    "\n",
    "plt.style.use('seaborn-darkgrid')\n",
    "np.set_printoptions(precision=3)\n",
    "pd.set_option('display.precision', 3)"
   ]
  },
  {
   "cell_type": "code",
   "execution_count": null,
   "metadata": {},
   "outputs": [],
   "source": [
    "# factor_A =  ['with runner', 'withour runner']\n",
    "factor_B = ['straight', 'cut', 'fork', 'change-up', 'slider', 'curve']\n",
    "# columns = ['speed', 'runner', 'pitch']\n",
    "\n",
    "straight_w = [140,146,149,136,147,147,143,143,143,141]\n",
    "cut_w = [139,136,136,140,135,132,140,134]\n",
    "fork_w = [123,127,131,130,138,128,129]\n",
    "change_up_w = [115,120,118,118,121,124,129,119,128]\n",
    "slider_w = [128,124,123,121,122,126,131,122]\n",
    "curve_w = [121,121,120,116,117,113,118]\n",
    "\n",
    "straight_wo = [143,141,142,145,149,145,143,141,142,155]\n",
    "cut_wo = [138,134,142,136,135,136,131,133]\n",
    "fork_wo = [131,128,128,128,127,130,130]\n",
    "change_up_wo = [117,125,132,122,119,122,129,117,127]\n",
    "slider_wo = [117,120,124,122,122,122,118,122]\n",
    "curve_wo = [119,125,122,116,119,113,122]"
   ]
  },
  {
   "cell_type": "code",
   "execution_count": null,
   "metadata": {},
   "outputs": [],
   "source": [
    "# Data visualization\n",
    "plt.boxplot(\n",
    "    [straight_w, cut_w, fork_w, change_up_w, slider_w, curve_w, straight_wo, cut_wo, fork_wo, change_up_wo, slider_wo, curve_wo],\n",
    "    labels=['Straight (w/ runner)', 'Cut (w/ runner)', 'Fork (w/ runner)', 'Change-up (w/ runner)', 'Slider (w/ runner)', 'Curve (w/ runner)', 'Straight (w/o runner)', 'Cut (w/o runner)', 'Fork (w/o runner)', 'Change-up (w/o runner)', 'Slider (w/o runner)', 'Curve (w/o runner)']\n",
    ")\n",
    "\n",
    "plt.xticks(rotation=45)\n",
    "plt.show()"
   ]
  },
  {
   "cell_type": "markdown",
   "metadata": {},
   "source": [
    "## Bayesian analysis"
   ]
  },
  {
   "cell_type": "code",
   "execution_count": null,
   "metadata": {},
   "outputs": [],
   "source": [
    "observed = np.concatenate([\n",
    "    straight_w, cut_w, fork_w, change_up_w, slider_w, curve_w, straight_wo, cut_wo, fork_wo, change_up_wo, slider_wo, curve_wo\n",
    "])\n",
    "print(len(observed))\n",
    "print(observed)\n",
    "\n",
    "id_jk = [0] * len(straight_w) + [1] * len(cut_w) + [2] * len(fork_w) + [3] * len(change_up_w) + [4] * len(slider_w) + [5] * len(curve_w) + [6] * len(straight_wo) + [7] * len(cut_wo) + [8] * len(fork_wo) + [9] * len(change_up_wo) + [10] * len(slider_wo) + [11] * len(curve_wo)\n",
    "print(len(id_jk))\n",
    "print(id_jk)"
   ]
  },
  {
   "cell_type": "code",
   "execution_count": null,
   "metadata": {},
   "outputs": [],
   "source": [
    "with pm.Model() as Model:\n",
    "    # Prior distribution\n",
    "    mu = pm.Uniform('mu', 0, 200)  # total mean\n",
    "    sigma_e = pm.Uniform('sigma', 0, 50)\n",
    "    a1 = pm.Uniform('a1', -100, 100)\n",
    "    a2 = -a1  # a1+a2=0\n",
    "    b1 = pm.Uniform('b1', -100, 100)\n",
    "    b2 = pm.Uniform('b2', -100, 100)\n",
    "    b3 = pm.Uniform('b3', -100, 100)\n",
    "    b4 = pm.Uniform('b4', -100, 100)\n",
    "    b5 = pm.Uniform('b5', -100, 100)\n",
    "    b6 = pm.Deterministic('b6', -1 * (b1 + b2 + b3 + b4 + b5))  # b1+b2+b3+b4+b5+b6=0\n",
    "    ab11 = pm.Uniform('ab11', -100, 100)\n",
    "    ab21 = -ab11  # ab11+ab21=0\n",
    "    ab12 = pm.Uniform('ab12', -100, 100)\n",
    "    ab22 = -ab12  # ab12+ab22=0\n",
    "    ab13 = pm.Uniform('ab13', -100, 100)\n",
    "    ab23 = -ab13  # ab13+ab23=0\n",
    "    ab14 = pm.Uniform('ab14', -100, 100)\n",
    "    ab24 = -ab14  # ab14+ab24=0\n",
    "    ab15 = pm.Uniform('ab15', -100, 100)\n",
    "    ab25 = -ab15  #ab15+ab25=0\n",
    "    ab16 = pm.Deterministic('ab16', -1 * (ab11 + ab12 + ab13 + ab14 + ab15))  #ab11+ab12+ab13+ab14+ab15+ab16=0)\n",
    "    ab26 = -ab16  # ab16+ab26=0\n",
    "\n",
    "    mu_jk = tt.as_tensor_variable([\n",
    "        mu + a1 + b1 + ab11,  # 11\n",
    "        mu + a1 + b2 + ab12,  # 12\n",
    "        mu + a1 + b3 + ab13,  # 13\n",
    "        mu + a1 + b4 + ab14,  # 14\n",
    "        mu + a1 + b5 + ab15,  # 15\n",
    "        mu + a1 + b6 + ab16,  # 16\n",
    "        mu + a2 + b1 + ab21,  # 21\n",
    "        mu + a2 + b2 + ab22,  # 22\n",
    "        mu + a2 + b3 + ab23,  # 23\n",
    "        mu + a2 + b4 + ab24,  # 24\n",
    "        mu + a2 + b5 + ab25,  # 25\n",
    "        mu + a2 + b6 + ab26,  # 26\n",
    "    ])\n",
    "\n",
    "    # Likelihood\n",
    "    y_pred =pm.Normal('y_pred', mu=mu_jk[id_jk], sigma=sigma_e, observed=observed)\n",
    "\n",
    "    # Variance of factors\n",
    "    sigma_a = pm.Deterministic('sigma_a', pm.math.sqrt((a1**2 + a2**2) / 2))\n",
    "    sigma_b = pm.Deterministic('sigma_b', pm.math.sqrt((b1**2 + b2**2 + b3**2 + b4**2 + b5**2 + b6**2) / 6))\n",
    "    sigma_ab = pm.Deterministic('sigma_ab', pm.math.sqrt((ab11**2 + ab12**2 + ab13**2 + ab14**2 + ab15**2 + ab16**2 + ab21**2 + ab22**2 + ab23**2 + ab24**2 + ab25**2 + ab26**2) / (2 * 6)))\n",
    "\n",
    "    # Coefficient of determination\n",
    "    sigma_y_square = sigma_a**2 + sigma_b**2 + sigma_ab**2 + sigma_e**2\n",
    "    eta_a_square = pm.Deterministic('eta_a_square', sigma_a**2 / sigma_y_square)\n",
    "    eta_b_square = pm.Deterministic('eta_b_square', sigma_b**2 / sigma_y_square)\n",
    "    eta_ab_square = pm.Deterministic('eta_ab_square', sigma_ab**2 / sigma_y_square)\n",
    "    eta_t_square = pm.Deterministic('eta_t_square', (sigma_a**2 + sigma_b**2 + sigma_ab**2) / sigma_y_square)\n",
    "\n",
    "    # Effect size\n",
    "    delta_a = pm.Deterministic('delta_a', sigma_a / sigma_e)\n",
    "    delta_b = pm.Deterministic('delta_b', sigma_b / sigma_e)\n",
    "    delta_ab = pm.Deterministic('delta_ab', sigma_ab / sigma_e)\n",
    "\n",
    "    # Average of interaction\n",
    "    mu11 = pm.Deterministic('mu11', mu + a1 + b1 + ab11)\n",
    "    mu12 = pm.Deterministic('mu12', mu + a1 + b2 + ab12)\n",
    "    mu13 = pm.Deterministic('mu13', mu + a1 + b3 + ab13)\n",
    "    mu14 = pm.Deterministic('mu14', mu + a1 + b4 + ab14)\n",
    "    mu15 = pm.Deterministic('mu15', mu + a1 + b5 + ab15)\n",
    "    mu16 = pm.Deterministic('mu16', mu + a1 + b6 + ab16)\n",
    "    \n",
    "    mu21 = pm.Deterministic('mu21', mu + a2 + b1 + ab21)\n",
    "    mu22 = pm.Deterministic('mu22', mu + a2 + b2 + ab22)\n",
    "    mu23 = pm.Deterministic('mu23', mu + a2 + b3 + ab23)\n",
    "    mu24 = pm.Deterministic('mu24', mu + a2 + b4 + ab24)\n",
    "    mu25 = pm.Deterministic('mu25', mu + a2 + b5 + ab25)\n",
    "    mu26 = pm.Deterministic('mu26', mu + a2 + b6 + ab26)\n",
    "\n",
    "    trace = pm.sample(21000, chains=5)"
   ]
  },
  {
   "cell_type": "code",
   "execution_count": null,
   "metadata": {},
   "outputs": [],
   "source": [
    "chain = trace[1000:]\n",
    "pm.traceplot(chain)\n",
    "plt.show()"
   ]
  },
  {
   "cell_type": "code",
   "execution_count": null,
   "metadata": {},
   "outputs": [],
   "source": [
    "pm.summary(chain)"
   ]
  },
  {
   "cell_type": "markdown",
   "metadata": {},
   "source": [
    "### 水準とセルの効果の有無（どの水準が、あるいはどの交互作用項が、ある基準より大きい、または小さいかという確信が持てるか）"
   ]
  },
  {
   "cell_type": "code",
   "execution_count": null,
   "metadata": {},
   "outputs": [],
   "source": [
    "result_df = pd.DataFrame([\n",
    "    [(chain['a1'] > 0).mean(), (chain['b1'] > 0).mean(), (chain['b2'] > 0).mean(), (chain['b3'] > 0).mean(), (chain['b4'] > 0).mean(), (chain['b5'] > 0).mean(), (chain['b6'] > 0).mean(), (chain['ab11'] > 0).mean(), (chain['ab12'] > 0).mean(), (chain['ab13'] > 0).mean(), (chain['ab14'] > 0).mean(), (chain['ab15'] > 0).mean(), (chain['ab16'] > 0).mean()],\n",
    "    [(chain['a1'] < 0).mean(), (chain['b1'] < 0).mean(), (chain['b2'] < 0).mean(), (chain['b3'] < 0).mean(), (chain['b4'] < 0).mean(), (chain['b5'] < 0).mean(), (chain['b6'] < 0).mean(), (chain['ab11'] < 0).mean(), (chain['ab12'] < 0).mean(), (chain['ab13'] < 0).mean(), (chain['ab14'] < 0).mean(), (chain['ab15'] < 0).mean(), (chain['ab16'] < 0).mean()]\n",
    "], index=['0 >', '0 <'], columns=['a1', 'b1', 'b2', 'b3', 'b4', 'b5', 'b6', 'ab11', 'ab12', 'ab13', 'ab14', 'ab15', 'ab16'])\n",
    "display(result_df)\n",
    "# 要因A（走者）の効果a1の確信区間はほぼ0を中心としており、要因Aの効果は確認できない\n",
    "# 一方、要因B（球種）の効果は確認できる"
   ]
  },
  {
   "cell_type": "markdown",
   "metadata": {},
   "source": [
    "### 要因の効果の大きさ（個々の水準の項や交互作用項の効果の有無ではなく、効果の全体的な大きさはどれほどか？）"
   ]
  },
  {
   "cell_type": "code",
   "execution_count": null,
   "metadata": {},
   "outputs": [],
   "source": [
    "print('Effect (SD) of Factor B: {:.3f} ({:.3f}) [{:.3f}, {:.3f}] = {:.1f} km/h'.format(chain['sigma_b'].mean(), chain['sigma_b'].std(), np.quantile(chain['sigma_b'], 0.025), np.quantile(chain['sigma_b'], 0.975), chain['sigma_b'].mean()))\n",
    "\n",
    "# if CoD = 0 (0%) -> The factor does not explain the observed data at all.\n",
    "# if CoD = 1 (100%)  -> The factor well explains the observed data.\n",
    "print('CoD: {:.3f} ({:.3f}) [{:.3f}, {:.3f}] = {:.1f} %'.format(chain['eta_b_square'].mean(), chain['eta_b_square'].std(), np.quantile(chain['eta_b_square'], 0.025), np.quantile(chain['eta_b_square'], 0.975), chain['eta_b_square'].mean() * 100))\n",
    "\n",
    "print('Effect size: {:.3f} ({:.3f}) [{:.3f}, {:.3f}] = {:.1f} %'.format(chain['delta_b'].mean(), chain['delta_b'].std(), np.quantile(chain['delta_b'], 0.025), np.quantile(chain['delta_b'], 0.975), chain['delta_b'].mean() * 100))"
   ]
  },
  {
   "cell_type": "markdown",
   "metadata": {},
   "source": [
    "### 行の水準が列の水準より大きい確率（要因Bに関して）"
   ]
  },
  {
   "cell_type": "code",
   "execution_count": null,
   "metadata": {},
   "outputs": [],
   "source": [
    "# mu1 = (mu11 + mu21) / 2\n",
    "def mu(i):\n",
    "    return (chain['mu1' + str(i)] + chain['mu2' + str(i)]) * 0.5"
   ]
  },
  {
   "cell_type": "code",
   "execution_count": null,
   "metadata": {},
   "outputs": [],
   "source": [
    "def compare(i, j):\n",
    "    return (mu(i + 1) > mu(j + 1)).mean()"
   ]
  },
  {
   "cell_type": "code",
   "execution_count": null,
   "metadata": {},
   "outputs": [],
   "source": [
    "result = pd.DataFrame([[compare(i, j) for j in range(6)] for i in range(6)], index=factor_B, columns=factor_B)\n",
    "display(result)"
   ]
  },
  {
   "cell_type": "markdown",
   "metadata": {},
   "source": [
    "### 特に興味のある2セル間の推測"
   ]
  },
  {
   "cell_type": "code",
   "execution_count": null,
   "metadata": {},
   "outputs": [],
   "source": [
    "# Change-up vs curve\n",
    "print('The speed of change-up is {:.3f} km/h faster than that of curve.'.format((mu(4) - mu(6)).mean()))"
   ]
  },
  {
   "cell_type": "markdown",
   "metadata": {},
   "source": [
    "### RQ1: ストレートは他のどの球種より速い"
   ]
  },
  {
   "cell_type": "code",
   "execution_count": null,
   "metadata": {},
   "outputs": [],
   "source": [
    "val_1 = (mu(1) > mu(2)).mean() * (mu(1) > mu(3)).mean() * (mu(1) > mu(4)).mean() * (mu(1) > mu(5)).mean() * (mu(1) > mu(6)).mean()\n",
    "print('Prob(Straight > other pitch) = {:.3f}'.format(val_1))"
   ]
  },
  {
   "cell_type": "markdown",
   "metadata": {},
   "source": [
    "### RQ2: カットはストレート以外のどの球種よりも速い"
   ]
  },
  {
   "cell_type": "code",
   "execution_count": null,
   "metadata": {},
   "outputs": [],
   "source": [
    "val_2 = (mu(1) > mu(2)).mean() * (mu(2) > mu(3)).mean() * (mu(2) > mu(4)).mean() * (mu(2) > mu(5)).mean() * (mu(2) > mu(6)).mean()\n",
    "print('Prob(Straight > Cut > other pitch) = {:.3f}'.format(val_2))"
   ]
  },
  {
   "cell_type": "markdown",
   "metadata": {},
   "source": [
    "### RQ3: フォーク・カット・ストレートはチェンジアップ・スライダー・カーブよりも速い"
   ]
  },
  {
   "cell_type": "code",
   "execution_count": null,
   "metadata": {},
   "outputs": [],
   "source": [
    "val_3 = (mu(1) > mu(2)).mean() * (mu(2) > mu(3)).mean() * (mu(3) > mu(4)).mean() * (mu(3) > mu(5)).mean() * (mu(3) > mu(6)).mean()\n",
    "print('Prob(Straight > Cut > fork > other pitch) = {:.3f}'.format(val_3))"
   ]
  },
  {
   "cell_type": "code",
   "execution_count": null,
   "metadata": {},
   "outputs": [],
   "source": []
  }
 ],
 "metadata": {
  "kernelspec": {
   "display_name": "Python 3",
   "language": "python",
   "name": "python3"
  },
  "language_info": {
   "codemirror_mode": {
    "name": "ipython",
    "version": 3
   },
   "file_extension": ".py",
   "mimetype": "text/x-python",
   "name": "python",
   "nbconvert_exporter": "python",
   "pygments_lexer": "ipython3",
   "version": "3.8.1-final"
  }
 },
 "nbformat": 4,
 "nbformat_minor": 2
}
