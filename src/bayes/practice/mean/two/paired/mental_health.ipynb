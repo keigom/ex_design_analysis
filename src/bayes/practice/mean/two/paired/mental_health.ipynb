{
 "cells": [
  {
   "cell_type": "markdown",
   "metadata": {},
   "source": [
    "# Mental Health Problem"
   ]
  },
  {
   "cell_type": "code",
   "execution_count": null,
   "metadata": {},
   "outputs": [],
   "source": [
    "# Enable the commands below when running this program on Google Colab.\n",
    "# !pip install arviz==0.7\n",
    "# !pip install pymc3==3.8\n",
    "# !pip install Theano==1.0.4\n",
    "\n",
    "import numpy as np\n",
    "import pandas as pd\n",
    "from scipy import stats\n",
    "import matplotlib.pyplot as plt\n",
    "import seaborn as sns\n",
    "\n",
    "import pymc3 as pm\n",
    "import theano.tensor as tt\n",
    "\n",
    "plt.style.use('seaborn-darkgrid')\n",
    "np.set_printoptions(precision=3)\n",
    "pd.set_option('display.precision', 3)"
   ]
  },
  {
   "cell_type": "code",
   "execution_count": null,
   "metadata": {},
   "outputs": [],
   "source": [
    "AFTER = [73,72,56,58,71,42,78,77,75,72,56,71,69,77,84,51,62,88,56,58,84,91,71,82,81,77,65,78,79,60,66,70,65,57,64,61,56,67,75,64,68,67,80,55,48,85,56,62,65,79]\n",
    "BEFORE = [62,54,19,54,47,22,35,77,64,60,27,41,41,44,57,16,42,89,40,67,69,46,74,62,60,87,32,42,73,25,42,57,31,35,33,38,43,53,55,62,67,56,76,5,31,70,66,65,34,48]"
   ]
  },
  {
   "cell_type": "code",
   "execution_count": null,
   "metadata": {},
   "outputs": [],
   "source": [
    "# Data vsualization\n",
    "plt.boxplot([AFTER, BEFORE], labels=['After', 'Before'])\n",
    "plt.ylabel('Score')\n",
    "plt.show()"
   ]
  },
  {
   "cell_type": "code",
   "execution_count": null,
   "metadata": {},
   "outputs": [],
   "source": [
    "# Summary\n",
    "data = pd.DataFrame([AFTER, BEFORE], index=['After', 'Before']).transpose()\n",
    "data.describe()"
   ]
  },
  {
   "cell_type": "markdown",
   "metadata": {},
   "source": [
    "## Bayesian analysis"
   ]
  },
  {
   "cell_type": "code",
   "execution_count": null,
   "metadata": {},
   "outputs": [],
   "source": [
    "with pm.Model() as model:\n",
    "    # Prior distribution\n",
    "    mu = pm.Normal('mu', 0, 100, shape=2)\n",
    "    sigma = pm.Uniform('sigma', 0, 100, shape=2)\n",
    "\n",
    "    C_triu = pm.LKJCorr('omega', n=2, p=2)\n",
    "    C = tt.fill_diagonal(C_triu[np.zeros((2, 2), dtype=np.int64)], 1)\n",
    "    sigma_diag = tt.nlinalg.diag(sigma)\n",
    "    cov = tt.nlinalg.matrix_dot(sigma_diag, C, sigma_diag)\n",
    "\n",
    "    # Likelihood\n",
    "    y_pred = pm.MvNormal('y_pred', mu=mu, cov=cov, observed=data.values)\n",
    "\n",
    "    # Difference of average values\n",
    "    delta_mu = pm.Deterministic('mu1 - mu2', mu[0] - mu[1])\n",
    "\n",
    "    trace = pm.sample(21000, chains=5)"
   ]
  },
  {
   "cell_type": "code",
   "execution_count": null,
   "metadata": {},
   "outputs": [],
   "source": [
    "chain = trace[1000:]\n",
    "pm.traceplot(chain)\n",
    "plt.show()"
   ]
  },
  {
   "cell_type": "code",
   "execution_count": null,
   "metadata": {},
   "outputs": [],
   "source": [
    "pm.summary(chain)"
   ]
  },
  {
   "cell_type": "markdown",
   "metadata": {},
   "source": [
    "### RQ1: 第1群の平均値が第2群の平均値より高い確率"
   ]
  },
  {
   "cell_type": "code",
   "execution_count": null,
   "metadata": {},
   "outputs": [],
   "source": [
    "print('p(mu1 - mu2 > 0) = {:.3f}'.format((chain['mu'][:,0] - chain['mu'][:,1] > 0).mean()))\n",
    "# 「援助後のメンタルヘルス得点は、援助前のメンタルヘルス得点より高い」という研究仮説が正しい確率は100%"
   ]
  },
  {
   "cell_type": "markdown",
   "metadata": {},
   "source": [
    "### RQ2: 第1群と第2群の平均値の差の点推定、平均値の差の区間推定"
   ]
  },
  {
   "cell_type": "code",
   "execution_count": null,
   "metadata": {},
   "outputs": [],
   "source": [
    "print('Point estimation (difference of mean): {:.3f}'.format(chain['mu1 - mu2'].mean()))\n",
    "# 平均値差に関するEAP推定値\n",
    "hpd_0025 = np.quantile(chain['mu1 - mu2'], 0.025)\n",
    "hpd_0975 = np.quantile(chain['mu1 - mu2'], 0.975)\n",
    "print('Credible Interval (95%): ({:.3f}, {:.3f})'.format(hpd_0025, hpd_0975))\n",
    "# 平均値差は95%の確率で上記の区間に入る"
   ]
  },
  {
   "cell_type": "markdown",
   "metadata": {},
   "source": [
    "### RQ3: 平均値の差の片側区間推定の下限・上限"
   ]
  },
  {
   "cell_type": "code",
   "execution_count": null,
   "metadata": {},
   "outputs": [],
   "source": [
    "hpd_005 = np.quantile(chain['mu1 - mu2'], 0.05)\n",
    "hpd_0950 = np.quantile(chain['mu1 - mu2'], 0.95)\n",
    "print('At most (95%): {:.3f}'.format(hpd_0950))  # 95%の確信で高々これだけの差がある\n",
    "print('At least (95%): {:.3f}'.format(hpd_005))  # 95%の確信で少なくともこれだけの差がある"
   ]
  },
  {
   "cell_type": "markdown",
   "metadata": {},
   "source": [
    "### RQ4: 平均値の差が基準点cより大きい確率"
   ]
  },
  {
   "cell_type": "code",
   "execution_count": null,
   "metadata": {},
   "outputs": [],
   "source": [
    "print('p(mu1 - mu2 > 10) = {:.3f}'.format((chain['mu'][:,0] - chain['mu'][:,1] > 10).mean()))\n",
    "print('p(mu1 - mu2 > 15) = {:.3f}'.format((chain['mu'][:,0] - chain['mu'][:,1] > 12).mean()))\n",
    "print('p(mu1 - mu2 > 20) = {:.3f}'.format((chain['mu'][:,0] - chain['mu'][:,1] > 14).mean()))"
   ]
  },
  {
   "cell_type": "code",
   "execution_count": null,
   "metadata": {},
   "outputs": [],
   "source": []
  }
 ],
 "metadata": {
  "kernelspec": {
   "display_name": "Python 3",
   "language": "python",
   "name": "python3"
  },
  "language_info": {
   "codemirror_mode": {
    "name": "ipython",
    "version": 3
   },
   "file_extension": ".py",
   "mimetype": "text/x-python",
   "name": "python",
   "nbconvert_exporter": "python",
   "pygments_lexer": "ipython3",
   "version": "3.8.1-final"
  }
 },
 "nbformat": 4,
 "nbformat_minor": 2
}
