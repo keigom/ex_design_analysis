{
 "cells": [
  {
   "cell_type": "code",
   "execution_count": null,
   "metadata": {},
   "outputs": [],
   "source": [
    "import pandas as pd\n",
    "import matplotlib.pyplot as plt\n",
    "import seaborn as sns\n",
    "import math\n",
    "import numpy as np\n",
    "from scipy.optimize import fmin\n",
    "import scipy.special as sp\n",
    "\n",
    "import glob\n",
    "import csv\n",
    "\n",
    "plt.style.use('seaborn-darkgrid')"
   ]
  },
  {
   "cell_type": "code",
   "execution_count": null,
   "metadata": {},
   "outputs": [],
   "source": [
    "# You can try the 'method of constant' from the link below:\n",
    "# https://shigeodayo.github.io/PsychophysicsWebExp/index.html\n",
    "CSV_PATH = '../../../data/psychophysics/constant'  # Put the experimental data (CSVs) in this directory.\n",
    "OUTPUT_PATH = 'output/'\n",
    "if not os.path.isdir(OUTPUT_PATH):\n",
    "    os.makedirs(OUTPUT_PATH)\n",
    "# HEADER = ['id', '10', '30', '50', '70', '90']\n",
    "# HEADER = ['id', '10', '20', '30', '40', '50', '60', '70', '80', '90']\n",
    "HEADER = ['id', '30', '35', '40', '45', '50', '55', '60', '65', '70', '75', '80', '85'] # Should be updated depending on the parameters used in the study\n",
    "# HEADER = ['id', '10', '15', '20', '25', '30', '35', '40', '45', '50', '55', '60', '65', '70', '75', '80', '85', '90']\n",
    "REPETITION = 4 # Should be updated depending on the parameters used in the study"
   ]
  },
  {
   "cell_type": "code",
   "execution_count": null,
   "metadata": {
    "tags": []
   },
   "outputs": [],
   "source": [
    "# Read experimental data\n",
    "ans_csvs = glob.glob(CSV_PATH + '/*.csv')\n",
    "print('num of csvs: {}'.format(len(ans_csvs)))"
   ]
  },
  {
   "cell_type": "code",
   "execution_count": null,
   "metadata": {},
   "outputs": [],
   "source": [
    "# Fetch answers and id from a specified csv file\n",
    "def get_ans_series(ans_csv):\n",
    "    with open(ans_csv) as f:\n",
    "        reader = csv.reader(f)\n",
    "        lines = [row for row in reader]\n",
    "        # id = lines[0][1]\n",
    "        ans_dict = {str(HEADER[i + 1]): 0 for i in range(len(HEADER) - 1)}\n",
    "        for i, ans in enumerate(lines[2]):\n",
    "            sample_lightness = lines[1][i]\n",
    "            if ans == 'sample':\n",
    "                ans_dict[sample_lightness] += 1\n",
    "        series = pd.Series(ans_dict)\n",
    "        # print(series)\n",
    "        series['id'] = lines[0][1]\n",
    "    return series"
   ]
  },
  {
   "cell_type": "code",
   "execution_count": null,
   "metadata": {
    "tags": []
   },
   "outputs": [],
   "source": [
    "# Create a dataframe from csvs\n",
    "ans_df = pd.DataFrame(columns=HEADER)\n",
    "for ans_csv in ans_csvs:\n",
    "    ans_series = get_ans_series(ans_csv)\n",
    "    # print(id)\n",
    "    # print(ans_series)\n",
    "    ans_df = ans_df.append(ans_series, ignore_index=True)\n",
    "print(ans_df)"
   ]
  },
  {
   "cell_type": "code",
   "execution_count": null,
   "metadata": {
    "tags": []
   },
   "outputs": [],
   "source": [
    "# Calculate probability from answers\n",
    "X = pd.Series(list(map(lambda x : int(x), HEADER[1:])))\n",
    "Y = [ans_df[x].mean() for x in HEADER[1:]]\n",
    "Y_norm = pd.Series(list(map(lambda x: x / REPETITION, Y)))\n",
    "# print(X)\n",
    "# print(Y_norm)"
   ]
  },
  {
   "cell_type": "code",
   "execution_count": null,
   "metadata": {},
   "outputs": [],
   "source": [
    "# Error function, see below urls for more details:\n",
    "# http://bigface00.hateblo.jp/entry/2018/03/31/170227\n",
    "# http://kaji-lab.jp/kajimoto/ConstantMethodFitting.htm\n",
    "def err(init_vals, x, y):\n",
    "    sigma, mu = init_vals\n",
    "    a = y - 0.5 - 0.5 * sp.erf((x - mu) / (math.sqrt(2) * sigma))\n",
    "    return sum(a**2)"
   ]
  },
  {
   "cell_type": "code",
   "execution_count": null,
   "metadata": {
    "tags": []
   },
   "outputs": [],
   "source": [
    "# Optimization\n",
    "sigma, mu = fmin(err, np.array([1, X.mean()]), args=(X, Y_norm))\n",
    "\n",
    "# fitted curve\n",
    "# curve_x = np.linspace(min(X), max(X), 100)\n",
    "curve_x = np.linspace(0, 100, 100)\n",
    "curve_y = 0.5 + 0.5 * sp.erf((curve_x - mu) / (math.sqrt(2) * sigma))\n",
    "\n",
    "# JND\n",
    "bound25 = sp.erfinv(0.25 * 2 - 1) * math.sqrt(2) * sigma + mu\n",
    "bound75 = sp.erfinv(0.75 * 2 - 1) * math.sqrt(2) * sigma + mu\n",
    "\n",
    "print('PSE = {:.2f}, JND_25 = {:.2f}, JND_75 = {:.2f}'.format(mu, mu - bound25, bound75 - mu))"
   ]
  },
  {
   "cell_type": "code",
   "execution_count": null,
   "metadata": {
    "tags": []
   },
   "outputs": [],
   "source": [
    "plt.figure(figsize=(7, 5))\n",
    "\n",
    "# Plot dots\n",
    "plt.plot(X, Y_norm, 'o')\n",
    "\n",
    "# Plot curve\n",
    "plt.plot(curve_x, curve_y, color='blue')\n",
    "\n",
    "# JND\n",
    "plt.plot([0.0, 100], [0.25, 0.25], linestyle = 'dashed',color=\"green\")\n",
    "plt.plot([0.0, 100], [0.75, 0.75], linestyle = 'dashed',color=\"green\")\n",
    "plt.plot([bound25, bound25], [-0.1, 1.1], linestyle='dashed', color=\"green\")  # 25% threshold\n",
    "plt.plot([bound75, bound75], [-0.1, 1.1], linestyle='dashed', color=\"green\")  # 75% threshold\n",
    "\n",
    "# PSE\n",
    "plt.plot([0.0, 100], [0.50, 0.50], linestyle = 'dashed',color=\"red\")\n",
    "plt.plot([mu, mu], [-0.1, 1.1], linestyle='dashed', color=\"red\")\n",
    "\n",
    "plt.text(75, 0.1, 'PSE={:.2f}\\nJND_25={:.2f}\\nJND_75={:.2f}'.format(mu, mu - bound25, mu - bound75))\n",
    "\n",
    "# Options\n",
    "plt.title('Psychophysical curve', fontsize=14)\n",
    "plt.xlabel('Lightness of sample', fontsize=12)\n",
    "plt.ylabel('Probability of lighenss (sample > reference)', fontsize=12)\n",
    "plt.ylim(-0.1, 1.1)\n",
    "plt.xlim(0, 100)\n",
    "# plt.legend()\n",
    "\n",
    "plt.savefig(os.path.join(OUTPUT_PATH, 'constant.pdf'))\n",
    "plt.show()"
   ]
  },
  {
   "cell_type": "code",
   "execution_count": null,
   "metadata": {},
   "outputs": [],
   "source": []
  }
 ],
 "metadata": {
  "kernelspec": {
   "display_name": "Python 3.7.7 64-bit ('ex_design_analysis': pipenv)",
   "name": "python37764bitexdesignanalysispipenve762470cf6cd419d95b6e1de53c7170b"
  },
  "language_info": {
   "codemirror_mode": {
    "name": "ipython",
    "version": 3
   },
   "file_extension": ".py",
   "mimetype": "text/x-python",
   "name": "python",
   "nbconvert_exporter": "python",
   "pygments_lexer": "ipython3",
   "version": "3.7.7-final"
  }
 },
 "nbformat": 4,
 "nbformat_minor": 2
}
