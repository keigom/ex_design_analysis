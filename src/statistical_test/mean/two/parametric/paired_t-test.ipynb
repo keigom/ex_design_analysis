{
 "cells": [
  {
   "cell_type": "markdown",
   "metadata": {},
   "source": [
    "# paired t-test"
   ]
  },
  {
   "cell_type": "code",
   "execution_count": null,
   "metadata": {},
   "outputs": [],
   "source": [
    "import numpy as np\n",
    "import pandas as pd\n",
    "import scipy.stats as stats\n",
    "import matplotlib.pyplot as plt"
   ]
  },
  {
   "cell_type": "code",
   "execution_count": null,
   "metadata": {},
   "outputs": [],
   "source": [
    "CSV_PATH = '../../../../../data/statistical_test/paired_t_ex_data.csv'\n",
    "ALPHA = 0.05\n",
    "NUM_OF_PARTICIPANTS = 8"
   ]
  },
  {
   "cell_type": "code",
   "execution_count": null,
   "metadata": {},
   "outputs": [],
   "source": [
    "data = pd.read_csv(CSV_PATH, index_col=0)\n",
    "display(data)"
   ]
  },
  {
   "cell_type": "markdown",
   "metadata": {},
   "source": [
    "## Data Visualization"
   ]
  },
  {
   "cell_type": "code",
   "execution_count": null,
   "metadata": {},
   "outputs": [],
   "source": [
    "# Mean\n",
    "control_mu = data['No Prediction'].mean()\n",
    "prediction_mu = data['With Prediction'].mean()\n",
    "\n",
    "# Standard deviation\n",
    "control_sd = data['No Prediction'].std()\n",
    "prediction_sd = data['With Prediction'].std()\n",
    "\n",
    "# Standard error\n",
    "control_se = control_sd / np.sqrt(NUM_OF_PARTICIPANTS)\n",
    "prediction_se = prediction_sd / np.sqrt(NUM_OF_PARTICIPANTS)\n",
    "\n",
    "y = np.array([control_mu, prediction_mu])\n",
    "e = np.array([control_se, prediction_se])\n",
    "\n",
    "x = np.array([\"No Prediction\", 'With Prediction'])\n",
    "x_position = np.arange(len(x))\n",
    "error_bar_set = dict(lw=1, capthik=1, capsize=10)\n",
    "\n",
    "fig = plt.figure(figsize=(6, 6))\n",
    "ax = fig.add_subplot(1, 1, 1)\n",
    "ax.bar(x_position, y, yerr=e, tick_label=x, error_kw=error_bar_set, color=['salmon', 'aqua'])\n",
    "ax.set_xlabel('Conditions', fontsize=14)\n",
    "ax.set_ylabel('Performance', fontsize=14)\n",
    "ax.set_ylim(0, 350)\n",
    "\n",
    "plt.show()# Mean"
   ]
  },
  {
   "cell_type": "markdown",
   "metadata": {},
   "source": [
    "## Statistical analysis (t-test)"
   ]
  },
  {
   "cell_type": "code",
   "execution_count": null,
   "metadata": {},
   "outputs": [],
   "source": [
    "data['With Prediction']"
   ]
  },
  {
   "cell_type": "code",
   "execution_count": null,
   "metadata": {},
   "outputs": [],
   "source": [
    "_, p = stats.ttest_rel(data['No Prediction'], data['With Prediction'])\n",
    "\n",
    "print('No Predicition vs With Predicition: p={:.5f}'.format(p))\n",
    "if p < ALPHA:\n",
    "    print('Significant difference')\n",
    "else:\n",
    "    print('No significant difference')"
   ]
  },
  {
   "cell_type": "code",
   "execution_count": null,
   "metadata": {},
   "outputs": [],
   "source": []
  }
 ],
 "metadata": {
  "kernelspec": {
   "display_name": "Python 3.7.7 64-bit ('ex_design_analysis': pipenv)",
   "language": "python",
   "name": "python37764bitexdesignanalysispipenve762470cf6cd419d95b6e1de53c7170b"
  },
  "language_info": {
   "codemirror_mode": {
    "name": "ipython",
    "version": 3
   },
   "file_extension": ".py",
   "mimetype": "text/x-python",
   "name": "python",
   "nbconvert_exporter": "python",
   "pygments_lexer": "ipython3",
   "version": "3.8.1-final"
  }
 },
 "nbformat": 4,
 "nbformat_minor": 2
}
