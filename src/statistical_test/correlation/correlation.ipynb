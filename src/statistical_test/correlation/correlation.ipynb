{
 "cells": [
  {
   "cell_type": "markdown",
   "metadata": {},
   "source": [
    "# Correlation"
   ]
  },
  {
   "cell_type": "code",
   "execution_count": null,
   "metadata": {},
   "outputs": [],
   "source": [
    "import numpy as np\n",
    "import pandas as pd\n",
    "import scipy.stats as stats\n",
    "import matplotlib.pyplot as plt\n",
    "import seaborn as sns\n",
    "import os\n",
    "\n",
    "plt.style.use('seaborn-darkgrid')"
   ]
  },
  {
   "cell_type": "code",
   "execution_count": null,
   "metadata": {},
   "outputs": [],
   "source": [
    "CSV_PATH = '../../../data/statistical_test/correlation_ex_data.csv'\n",
    "# OUTPUT_PATH = 'output/'\n",
    "# if not os.path.isdir(OUTPUT_PATH):\n",
    "    # os.makedirs(OUTPUT_PATH)"
   ]
  },
  {
   "cell_type": "code",
   "execution_count": null,
   "metadata": {},
   "outputs": [],
   "source": [
    "data = pd.read_csv(CSV_PATH, index_col=0)\n",
    "x = data['Computer Experience']\n",
    "display(data)"
   ]
  },
  {
   "cell_type": "code",
   "execution_count": null,
   "metadata": {
    "tags": []
   },
   "outputs": [],
   "source": [
    "y_s = data['Standard']\n",
    "slope_s, intercept_s, rvalue_s, pvalue_s, stderr_S = stats.linregress(x, y_s)\n",
    "print('r={:.5f}, p={:.5f}'.format(rvalue_s, pvalue_s))"
   ]
  },
  {
   "cell_type": "code",
   "execution_count": null,
   "metadata": {
    "tags": []
   },
   "outputs": [],
   "source": [
    "y_p = data['Prediction']\n",
    "slope_p, intercept_p, rvalue_p, pvalue_p, stderr_p = stats.linregress(x, y_p)\n",
    "print('r={:.5f}, p={:.5f}'.format(rvalue_p, pvalue_p))"
   ]
  },
  {
   "cell_type": "code",
   "execution_count": null,
   "metadata": {},
   "outputs": [],
   "source": [
    "plt.figure(figsize=(7, 5))\n",
    "\n",
    "# Plot data (Standard)\n",
    "plt.plot(x, y_s, 'bo', alpha=0.4)\n",
    "# Regression line\n",
    "plt.plot(x, slope_s * np.array(x) + intercept_s, 'b')\n",
    "\n",
    "# Plot data (Prediction)\n",
    "plt.plot(x, y_p, 'ro', alpha=0.4)\n",
    "# Regression line\n",
    "plt.plot(x, slope_p * np.array(x) + intercept_p, 'r')\n",
    "\n",
    "plt.xlabel('Computer Experience', fontsize=14)\n",
    "plt.ylabel('Performance', fontsize=14)\n",
    "plt.ylim(0, 350)\n",
    "\n",
    "# plt.savefig(os.path.join(OUTPUT_PATH, 'correlation.pdf'))\n",
    "plt.show()"
   ]
  },
  {
   "cell_type": "code",
   "execution_count": null,
   "metadata": {},
   "outputs": [],
   "source": []
  }
 ],
 "metadata": {
  "kernelspec": {
   "display_name": "Python 3.8.1 64-bit ('ex_design_analysis': pipenv)",
   "metadata": {
    "interpreter": {
     "hash": "d93d3809a412eeca67f3d81705e284a9fa16a5e112e379b94b99b867ad05122c"
    }
   },
   "name": "python3"
  },
  "language_info": {
   "codemirror_mode": {
    "name": "ipython",
    "version": 3
   },
   "file_extension": ".py",
   "mimetype": "text/x-python",
   "name": "python",
   "nbconvert_exporter": "python",
   "pygments_lexer": "ipython3",
   "version": "3.8.1-final"
  }
 },
 "nbformat": 4,
 "nbformat_minor": 2
}
