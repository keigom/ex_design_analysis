{
 "cells": [
  {
   "cell_type": "markdown",
   "metadata": {},
   "source": [
    "# Confusion Matrix (PaCaPa: Study 2)\n",
    "Yuqian Sun, Shigeo Yoshida, Takuji Narumi, and Michitaka Hirose. 2019. PaCaPa: A Handheld VR Device for Rendering Size, Shape, and Stiffness of Virtual Objects in Tool-based Interactions. In <i>Proceedings of the 2019 CHI Conference on Human Factors in Computing Systems</i> (<i>CHI '19</i>). Association for Computing Machinery, New York, NY, USA, Paper 452, 1–12. DOI:https://doi.org/10.1145/3290605.3300682"
   ]
  },
  {
   "cell_type": "code",
   "execution_count": null,
   "metadata": {
    "tags": []
   },
   "outputs": [],
   "source": [
    "import numpy as np\n",
    "import pandas as pd\n",
    "import scipy.stats as stats\n",
    "import matplotlib.pyplot as plt\n",
    "import seaborn as sns\n",
    "import os\n",
    "\n",
    "# %matplotlib inline\n",
    "plt.style.use('seaborn-darkgrid')"
   ]
  },
  {
   "cell_type": "code",
   "execution_count": null,
   "metadata": {},
   "outputs": [],
   "source": [
    "CSV_PATH = '../../../../data/statistical_test/examples/pacapa/study-2'\n",
    "NUM_OF_PARTICIPANTS = 12\n",
    "# OUTPUT_PATH = 'output/pacapa/study-2'\n",
    "# if not os.path.isdir(OUTPUT_PATH):\n",
    "    # os.makedirs(OUTPUT_PATH)\n",
    "columns = ['Square (1,1)', 'Square (1.25,0.75)', 'Square (0.75,1.25)',\n",
    "         'Circle (1,1)', 'Circle (1.25,0.75)', 'Circle (0.75,1.25)',\n",
    "         'Triangle (1,1)', 'Triangle (1.25,0.75)', 'Triangle (0.75,1.25)']"
   ]
  },
  {
   "cell_type": "code",
   "execution_count": null,
   "metadata": {},
   "outputs": [],
   "source": [
    "data = pd.DataFrame(columns=columns, index=columns)\n",
    "data = data.fillna(0)\n",
    "# display(data)"
   ]
  },
  {
   "cell_type": "code",
   "execution_count": null,
   "metadata": {},
   "outputs": [],
   "source": [
    "# Read csv files\n",
    "for i in range(NUM_OF_PARTICIPANTS):\n",
    "    p = pd.read_csv(CSV_PATH + '/p' + str(i) + '.csv', index_col=0)\n",
    "    # display(p)\n",
    "    data = data.add(p)\n",
    "display(data)"
   ]
  },
  {
   "cell_type": "code",
   "execution_count": null,
   "metadata": {},
   "outputs": [],
   "source": [
    "data = 100 * data / 12\n",
    "vmin = 0\n",
    "vmax = 100  # 12"
   ]
  },
  {
   "cell_type": "code",
   "execution_count": null,
   "metadata": {},
   "outputs": [],
   "source": [
    "sns.heatmap(data.T, annot=True, cmap='Blues', vmin=vmin, vmax=vmax)\n",
    "plt.ylabel('True shape')\n",
    "plt.xlabel('Predicted shape')\n",
    "\n",
    "# plt.savefig(os.path.join(OUTPUT_PATH, 'pacapa_cm.pdf'), dpi=350, bbox_inches='tight', pad_inches=0.1)\n",
    "plt.show()"
   ]
  },
  {
   "cell_type": "code",
   "execution_count": null,
   "metadata": {},
   "outputs": [],
   "source": []
  }
 ],
 "metadata": {
  "kernelspec": {
   "display_name": "Python 3.8.1 64-bit ('ex_design_analysis': pipenv)",
   "metadata": {
    "interpreter": {
     "hash": "d93d3809a412eeca67f3d81705e284a9fa16a5e112e379b94b99b867ad05122c"
    }
   },
   "name": "python3"
  },
  "language_info": {
   "codemirror_mode": {
    "name": "ipython",
    "version": 3
   },
   "file_extension": ".py",
   "mimetype": "text/x-python",
   "name": "python",
   "nbconvert_exporter": "python",
   "pygments_lexer": "ipython3",
   "version": "3.8.1-final"
  }
 },
 "nbformat": 4,
 "nbformat_minor": 2
}
