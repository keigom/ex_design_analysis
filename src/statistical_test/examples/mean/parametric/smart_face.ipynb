{
 "cells": [
  {
   "cell_type": "markdown",
   "metadata": {},
   "source": [
    "# Parametric analysis with repeated data (ANOVA & Tukey-HSD)\n",
    "Naoto Nakazato, Shigeo Yoshida, Sho Sakurai, Takuji Narumi, Tomohiro Tanikawa, and Michitaka Hirose. 2014. Smart Face: enhancing creativity during video conferences using real-time facial deformation. In <i>Proceedings of the 17th ACM conference on Computer supported cooperative work &amp; social computing</i> (<i>CSCW '14</i>). Association for Computing Machinery, New York, NY, USA, 75–83. DOI:https://doi.org/10.1145/2531602.2531637\n",
    "\n",
    "Within-participant design (3 groups: smiley face, neutral face, sad face)\n",
    "\n",
    "To use ANOVA, you need to make sure that the data fulfill these requirements:\n",
    "- Normality\n",
    "- Homogeneity of variances / Sphericity"
   ]
  },
  {
   "cell_type": "code",
   "execution_count": null,
   "metadata": {},
   "outputs": [],
   "source": [
    "import numpy as np\n",
    "import pandas as pd\n",
    "import scipy.stats as stats\n",
    "from statsmodels.stats.multicomp import pairwise_tukeyhsd\n",
    "import matplotlib.pyplot as plt\n",
    "import seaborn as sns\n",
    "import os\n",
    "\n",
    "# %matplotlib inline\n",
    "plt.style.use('seaborn-darkgrid')"
   ]
  },
  {
   "cell_type": "code",
   "execution_count": null,
   "metadata": {},
   "outputs": [],
   "source": [
    "CSV_PATH = '../../../../../data/statistical_test/examples/smart_face/n_idea.csv'\n",
    "NUM_OF_PARTICIPANTS = 10\n",
    "ALPHA = 0.05\n",
    "# OUTPUT_PATH = 'output/sf'\n",
    "# if not os.path.isdir(OUTPUT_PATH):\n",
    "    # os.makedirs(OUTPUT_PATH)"
   ]
  },
  {
   "cell_type": "code",
   "execution_count": null,
   "metadata": {},
   "outputs": [],
   "source": [
    "data = pd.read_csv(CSV_PATH)\n",
    "print(data)"
   ]
  },
  {
   "cell_type": "markdown",
   "metadata": {},
   "source": [
    "## Normality check"
   ]
  },
  {
   "cell_type": "code",
   "execution_count": null,
   "metadata": {},
   "outputs": [],
   "source": [
    "_, p = stats.shapiro(data['smiley face'])\n",
    "print('p={:.5f}'.format(p))\n",
    "if p > ALPHA:\n",
    "    print('Normality check: passed')\n",
    "else:\n",
    "    print('Normality check: rejected')\n",
    "\n",
    "_, p = stats.shapiro(data['neutral'])\n",
    "print('p={:.5f}'.format(p))\n",
    "if p > ALPHA:\n",
    "    print('Normality check: passed')\n",
    "else:\n",
    "    print('Normality check: rejected')\n",
    "\n",
    "_, p = stats.shapiro(data['sad face'])\n",
    "print('p={:.5f}'.format(p))\n",
    "if p > ALPHA:\n",
    "    print('Normality check: passed')\n",
    "else:\n",
    "    print('Normality check: rejected')"
   ]
  },
  {
   "cell_type": "markdown",
   "metadata": {},
   "source": [
    "## Homogeneity of variances / Sphericity check"
   ]
  },
  {
   "cell_type": "code",
   "execution_count": null,
   "metadata": {},
   "outputs": [],
   "source": [
    "_, p = stats.bartlett(data['smiley face'], data['neutral'], data['sad face'])\n",
    "if p > ALPHA:\n",
    "    print('Sphericity check: passed')\n",
    "else:\n",
    "    print('Sphericity check: rejected')"
   ]
  },
  {
   "cell_type": "markdown",
   "metadata": {},
   "source": [
    "## ANOVA"
   ]
  },
  {
   "cell_type": "code",
   "execution_count": null,
   "metadata": {},
   "outputs": [],
   "source": [
    "_, p = stats.f_oneway(data['smiley face'], data['neutral'], data['sad face'])\n",
    "print('ANOVA: p={:.5f}'.format(p))\n",
    "\n",
    "if p > ALPHA:\n",
    "    print('Same distributions')\n",
    "    exit()\n",
    "else:\n",
    "    print('Different distributions. You can do a post-hoc test.')"
   ]
  },
  {
   "cell_type": "markdown",
   "metadata": {},
   "source": [
    "## Multiple comparisons\n",
    "There are several ways to do a multiple comparision (as a post-hoc test).\n",
    "\n",
    "I use 'Tukey-HSD' and 't-test (with Bonferroni correction)' here.\n",
    "\n",
    "You can use whichever you like.\n"
   ]
  },
  {
   "cell_type": "markdown",
   "metadata": {},
   "source": [
    "### Tukey-HSD"
   ]
  },
  {
   "cell_type": "code",
   "execution_count": null,
   "metadata": {},
   "outputs": [],
   "source": [
    "# https://qiita.com/TaigaU121/items/12c480f51a026ca9f333\n",
    "def tukey_hsd(ind, *args):\n",
    "    data_arr = np.hstack( args ) \n",
    "\n",
    "    ind_arr = np.array([])\n",
    "    for x in range(len(args)):\n",
    "        ind_arr = np.append(ind_arr, np.repeat(ind[x], len(args[x]))) \n",
    "    print(pairwise_tukeyhsd(data_arr,ind_arr))"
   ]
  },
  {
   "cell_type": "code",
   "execution_count": null,
   "metadata": {},
   "outputs": [],
   "source": [
    "tukey_hsd(['smiley face', 'neutral face', 'sad face'], data['smiley face'], data['neutral'], data['sad face'])"
   ]
  },
  {
   "cell_type": "markdown",
   "metadata": {},
   "source": [
    "### t-test (with Bonferroni correction)"
   ]
  },
  {
   "cell_type": "code",
   "execution_count": null,
   "metadata": {},
   "outputs": [],
   "source": [
    "# Smiley face vs Neutral face\n",
    "_, p = stats.ttest_rel(data['smiley face'], data['neutral'])\n",
    "print('smile vs neutral: p={:.5f}'.format(p * 3))  # Bonferroni correction\n",
    "\n",
    "# Neutral face vs Sad face\n",
    "_, p = stats.ttest_rel(data['neutral'], data['sad face'])\n",
    "print('neutral vs sad: p={:.5f}'.format(p * 3))  # Bonferroni correction\n",
    "\n",
    "# Sad faec vs Smiley face\n",
    "_, p = stats.ttest_rel(data['sad face'], data['smiley face'])\n",
    "print('sad vs smile: p={:.5f}'.format(p * 3))  # Bonferroni correction"
   ]
  },
  {
   "cell_type": "markdown",
   "metadata": {},
   "source": [
    "## Visualization\n",
    "3 different data visualizations (Bar plot, Box plot, Violin plot)"
   ]
  },
  {
   "cell_type": "markdown",
   "metadata": {},
   "source": [
    "### Bar plot (average & standard error)\n",
    "pros: easy to compare multiple data (average)\n",
    "\n",
    "cons: less informative (average and standard error)"
   ]
  },
  {
   "cell_type": "code",
   "execution_count": null,
   "metadata": {},
   "outputs": [],
   "source": [
    "# Mean\n",
    "smile_mu = data['smiley face'].mean()\n",
    "neutral_mu = data['neutral'].mean()\n",
    "sad_mu = data['sad face'].mean()\n",
    "\n",
    "# Standard deviation\n",
    "smile_sd = data['smiley face'].std()\n",
    "neutral_sd = data['neutral'].std()\n",
    "sad_sd = data['sad face'].std()\n",
    "\n",
    "# Standard error\n",
    "smile_se = smile_sd / np.sqrt(NUM_OF_PARTICIPANTS)\n",
    "neutral_se = neutral_sd / np.sqrt(NUM_OF_PARTICIPANTS)\n",
    "sad_se = sad_sd / np.sqrt(NUM_OF_PARTICIPANTS)\n",
    "\n",
    "y = np.array([smile_mu, neutral_mu, sad_mu])\n",
    "e = np.array([smile_se, neutral_se, sad_se])\n",
    "\n",
    "x = np.array([\"Smiley face\", 'Neutral face', 'Sad face'])\n",
    "x_position = np.arange(len(x))\n",
    "error_bar_set = dict(lw=1, capthik=1, capsize=10)\n",
    "\n",
    "fig = plt.figure(figsize=(10, 6))\n",
    "ax = fig.add_subplot(1, 1, 1)\n",
    "ax.bar(x_position, y, yerr=e, tick_label=x, error_kw=error_bar_set, color=['salmon', 'palegreen', 'aqua'])\n",
    "ax.set_xlabel('Facial expression', fontsize=14)\n",
    "ax.set_ylabel('Number of ideas', fontsize=14)\n",
    "ax.set_ylim(0, 18)\n",
    "\n",
    "# plt.savefig(os.path.join(OUTPUT_PATH, 'sf_bar.pdf'))\n",
    "plt.show()"
   ]
  },
  {
   "cell_type": "markdown",
   "metadata": {},
   "source": [
    "### Boxplot\n",
    "pros:\n",
    "more informative than bar plot\n",
    "\n",
    "cons:\n",
    "unable to understand the data distribution (box plot only show summary statistics)"
   ]
  },
  {
   "cell_type": "code",
   "execution_count": null,
   "metadata": {},
   "outputs": [],
   "source": [
    "# error bar: min/max\n",
    "# box: 25/50(median)/75 percentile\n",
    "# circle: outlier (1.5 times bigger/smaller than box)\n",
    "fig = plt.figure(figsize=(10, 6))\n",
    "ax = fig.add_subplot(1, 1, 1)\n",
    "ax.boxplot([data['smiley face'], data['neutral'], data['sad face']], labels=['Smiley face', 'Neutral face', 'Sad face'])\n",
    "ax.set_xlabel('Facial expression', fontsize=14)\n",
    "ax.set_ylabel('Number of ideas', fontsize=14)\n",
    "ax.set_ylim(0, 18)\n",
    "\n",
    "# plt.savefig(os.path.join(OUTPUT_PATH, 'sf_box.pdf'))\n",
    "plt.show()"
   ]
  },
  {
   "cell_type": "markdown",
   "metadata": {},
   "source": [
    "### Violin plot\n",
    "pros: more informative than box plot (beacuse violin plot represents data distribution)\n",
    "\n",
    "cons:less popular (their meaning can be harder to grasp for many readers not familiar with the violin plot representation)### Violin plot"
   ]
  },
  {
   "cell_type": "code",
   "execution_count": null,
   "metadata": {},
   "outputs": [],
   "source": [
    "# Similar to box plot, but also represents kernel density estimation (estimated distribution of data)\n",
    "fig = plt.figure(figsize=(10, 6))\n",
    "ax = fig.add_subplot(1, 1, 1)\n",
    "sns.violinplot(data=[data['smiley face'], data['neutral'], data['sad face']], palette=['salmon', 'palegreen', 'aqua'])\n",
    "ax.set_xticklabels(['Smiley face', 'Neutral face', 'Sad face'])\n",
    "ax.set_xlabel('Facial expression', fontsize=14)\n",
    "ax.set_ylabel('Number of ideas', fontsize=14)\n",
    "ax.set_ylim(0, 18)\n",
    "\n",
    "# plt.savefig(os.path.join(OUTPUT_PATH, 'sf_violin.pdf'))\n",
    "plt.show()"
   ]
  },
  {
   "cell_type": "code",
   "execution_count": null,
   "metadata": {},
   "outputs": [],
   "source": []
  }
 ],
 "metadata": {
  "kernelspec": {
   "display_name": "Python 3.7.7 64-bit ('ex_design_analysis': pipenv)",
   "language": "python",
   "name": "python37764bitexdesignanalysispipenve762470cf6cd419d95b6e1de53c7170b"
  },
  "language_info": {
   "codemirror_mode": {
    "name": "ipython",
    "version": 3
   },
   "file_extension": ".py",
   "mimetype": "text/x-python",
   "name": "python",
   "nbconvert_exporter": "python",
   "pygments_lexer": "ipython3",
   "version": "3.8.1-final"
  }
 },
 "nbformat": 4,
 "nbformat_minor": 2
}
