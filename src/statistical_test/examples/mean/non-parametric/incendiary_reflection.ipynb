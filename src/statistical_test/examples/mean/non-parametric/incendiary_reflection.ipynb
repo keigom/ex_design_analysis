{
 "cells": [
  {
   "cell_type": "markdown",
   "metadata": {},
   "source": [
    "# Non-parametric analysis with repeated data (Friedman & Wilcoxon)\n",
    "吉田成朗、鳴海拓志、櫻井翔、谷川智洋、廣瀬通孝：リアルタイムな表情変形フィードバックによる感情体験の操作、ヒューマンインタフェース学会論文誌、Vol.17 No.1、2015年2月 https://doi.org/10.11184/his.17.1_15\n",
    "\n",
    "Within-participant design (3 groups: smiley face, neutral face, sad face)"
   ]
  },
  {
   "cell_type": "code",
   "execution_count": null,
   "metadata": {},
   "outputs": [],
   "source": [
    "import numpy as np\n",
    "import pandas as pd\n",
    "import scipy.stats as stats\n",
    "import matplotlib.pyplot as plt\n",
    "import seaborn as sns\n",
    "import os\n",
    "\n",
    "# %matplotlib inline\n",
    "plt.style.use('seaborn-darkgrid')"
   ]
  },
  {
   "cell_type": "code",
   "execution_count": null,
   "metadata": {},
   "outputs": [],
   "source": [
    "CSV_PATH = '../../../../../data/statistical_test/examples/incendiary_reflection/mean_comparison'\n",
    "NUM_OF_PARTICIPANTS = 20\n",
    "ALPHA = 0.05\n",
    "# OUTPUT_PATH = 'output/ir'\n",
    "# if not os.path.isdir(OUTPUT_PATH):\n",
    "    # os.makedirs(OUTPUT_PATH)"
   ]
  },
  {
   "cell_type": "code",
   "execution_count": null,
   "metadata": {},
   "outputs": [],
   "source": [
    "smile_pos = []\n",
    "neutral_pos = []\n",
    "sad_pos = []\n",
    "\n",
    "smile_neg = []\n",
    "neutral_neg = []\n",
    "sad_neg = []"
   ]
  },
  {
   "cell_type": "code",
   "execution_count": null,
   "metadata": {},
   "outputs": [],
   "source": [
    "for i in range(NUM_OF_PARTICIPANTS):\n",
    "    data = pd.read_csv(CSV_PATH + '/p' + str(i) + '.csv')\n",
    "\n",
    "    # Calculate sum of positive/negative values of each participant, then append the sum to list\n",
    "    smile_pos.append(data['smiley face'][:10].sum())\n",
    "    neutral_pos.append(data['neutral'][:10].sum())\n",
    "    sad_pos.append(data['sad face'][:10].sum())\n",
    "\n",
    "    smile_neg.append(data['smiley face'][10:].sum())\n",
    "    neutral_neg.append(data['neutral'][10:].sum())\n",
    "    sad_neg.append(data['sad face'][10:].sum())"
   ]
  },
  {
   "cell_type": "markdown",
   "metadata": {},
   "source": [
    "## Positive affect"
   ]
  },
  {
   "cell_type": "markdown",
   "metadata": {},
   "source": [
    "### Friedman test"
   ]
  },
  {
   "cell_type": "code",
   "execution_count": null,
   "metadata": {},
   "outputs": [],
   "source": []
  },
  {
   "cell_type": "code",
   "execution_count": null,
   "metadata": {},
   "outputs": [],
   "source": [
    "# Compare groups\n",
    "_, p = stats.friedmanchisquare(smile_pos, neutral_pos, sad_pos)\n",
    "print('p={:.5f}'.format(p))\n",
    "\n",
    "if p > ALPHA:\n",
    "    print('Same distributions')\n",
    "    exit()\n",
    "else:\n",
    "    print('Different distributions. You can do a post-hoc test.')"
   ]
  },
  {
   "cell_type": "markdown",
   "metadata": {},
   "source": [
    "### Wilcoxon test (as a post-hoc test)"
   ]
  },
  {
   "cell_type": "code",
   "execution_count": null,
   "metadata": {},
   "outputs": [],
   "source": [
    "# Smiley face vs Neutral face\n",
    "_, p = stats.wilcoxon(smile_pos, neutral_pos)\n",
    "print('smile vs neutral: p={:.5f}'.format(p * 3))  # Bonferroni correction\n",
    "\n",
    "# Neutral face vs Sad face\n",
    "_, p = stats.wilcoxon(neutral_pos, sad_pos)\n",
    "print('neutral vs sad: p={:.5f}'.format(p * 3))  # Bonferroni correction\n",
    "\n",
    "# Sad face vs Smiley face\n",
    "_, p = stats.wilcoxon(sad_pos, smile_pos)\n",
    "print('sad vs smile: p={:.5f}'.format(p * 3))  # Bonferroni correction"
   ]
  },
  {
   "cell_type": "markdown",
   "metadata": {},
   "source": [
    "## Negative affect"
   ]
  },
  {
   "cell_type": "markdown",
   "metadata": {},
   "source": [
    "### Friedman test"
   ]
  },
  {
   "cell_type": "code",
   "execution_count": null,
   "metadata": {},
   "outputs": [],
   "source": [
    "# Compare groups\n",
    "_, p = stats.friedmanchisquare(smile_neg, neutral_neg, sad_neg)\n",
    "print('p={:.5f}'.format(p))\n",
    "\n",
    "if p > ALPHA:\n",
    "    print('Same distributions')\n",
    "    exit()\n",
    "else:\n",
    "    print('Different distributions. You can do a post-hoc test.')"
   ]
  },
  {
   "cell_type": "markdown",
   "metadata": {},
   "source": [
    "### Wilcoxon test (as a post-hoc test)"
   ]
  },
  {
   "cell_type": "code",
   "execution_count": null,
   "metadata": {},
   "outputs": [],
   "source": [
    "# Smiley face vs Neutral face\n",
    "s, p = stats.wilcoxon(smile_neg, neutral_neg)\n",
    "print('smile vs neutral: p={:.5f}'.format(p * 3))  # Bonferroni correction\n",
    "print(s)\n",
    "\n",
    "# Neutral face vs Sad face\n",
    "_, p = stats.wilcoxon(neutral_neg, sad_neg)\n",
    "print('neutral vs sad: p={:.5f}'.format(p * 3))  # Bonferroni correction\n",
    "\n",
    "# Sad face vs Smiley face\n",
    "_, p = stats.wilcoxon(sad_neg, smile_neg)\n",
    "print('sad vs smile: p={:.5f}'.format(p * 3))  # Bonferroni correction"
   ]
  },
  {
   "cell_type": "markdown",
   "metadata": {},
   "source": [
    "## Visualization\n",
    "3 different data visualizations (Bar plot, Box plot, Violin plot)"
   ]
  },
  {
   "cell_type": "markdown",
   "metadata": {},
   "source": [
    "### Bar plot (average & standard error)\n",
    "pros: easy to compare multiple data (average)\n",
    "\n",
    "cons: less informative (average and standard error)"
   ]
  },
  {
   "cell_type": "code",
   "execution_count": null,
   "metadata": {},
   "outputs": [],
   "source": [
    "# Convert array to numpy array\n",
    "smile_pos_np = np.array(smile_pos)\n",
    "neutral_pos_np = np.array(neutral_pos)\n",
    "sad_pos_np = np.array(sad_pos)\n",
    "smile_neg_np = np.array(smile_neg)\n",
    "neutral_neg_np = np.array(neutral_neg)\n",
    "sad_neg_np = np.array(sad_neg)\n",
    "\n",
    "# Mean\n",
    "smile_pos_mu = smile_pos_np.mean()\n",
    "neutral_pos_mu = neutral_pos_np.mean()\n",
    "sad_pos_mu = sad_pos_np.mean()\n",
    "smile_neg_mu = smile_neg_np.mean()\n",
    "neutral_neg_mu = neutral_neg_np.mean()\n",
    "sad_neg_mu = sad_neg_np.mean()\n",
    "\n",
    "# Standard deviation\n",
    "smile_pos_sd = smile_pos_np.std()\n",
    "neutral_pos_sd = neutral_pos_np.std()\n",
    "sad_pos_sd = sad_pos_np.std()\n",
    "smile_neg_sd = smile_neg_np.std()\n",
    "neutral_neg_sd = neutral_neg_np.std()\n",
    "sad_neg_sd = sad_neg_np.std()\n",
    "\n",
    "# Standard error\n",
    "smile_pos_se = smile_pos_sd / np.sqrt(len(smile_pos))\n",
    "neutral_pos_se = neutral_pos_sd / np.sqrt(len(neutral_pos))\n",
    "sad_pos_se = sad_pos_sd / np.sqrt(len(sad_pos))\n",
    "smile_neg_se = smile_neg_sd / np.sqrt(len(smile_neg))\n",
    "neutral_neg_se = neutral_neg_sd / np.sqrt(len(neutral_neg))\n",
    "sad_neg_se = sad_neg_sd / np.sqrt(len(sad_neg))\n",
    "\n",
    "y_pos = np.array([smile_pos_mu, neutral_pos_mu, sad_pos_mu])\n",
    "e_pos = np.array([smile_pos_se, neutral_pos_se, sad_pos_se])\n",
    "y_neg = np.array([smile_neg_mu, neutral_neg_mu, sad_neg_mu])\n",
    "e_neg = np.array([smile_neg_se, neutral_neg_se, sad_neg_se])\n",
    "\n",
    "x = np.array([\"Smiley face\", 'Neutral face', 'Sad face'])\n",
    "x_position = np.arange(len(x))\n",
    "error_bar_set = dict(lw=1, capthik=1, capsize=10)\n",
    "\n",
    "fig = plt.figure(figsize=(12, 6))\n",
    "ax = fig.add_subplot(1, 2, 1)\n",
    "ax.bar(x_position, y_pos, yerr=e_pos, tick_label=x, error_kw=error_bar_set, color=['salmon', 'palegreen', 'aqua'])\n",
    "ax.set_xlabel('Facial expression', fontsize=14)\n",
    "ax.set_ylabel('Positive affect', fontsize=14)\n",
    "ax.set_ylim(10, 50)\n",
    "\n",
    "ax = fig.add_subplot(1, 2, 2)\n",
    "ax.bar(x_position, y_neg, yerr=e_neg, tick_label=x, error_kw=error_bar_set, color=['salmon', 'palegreen', 'aqua'])\n",
    "ax.set_xlabel('Facial expression', fontsize=14)\n",
    "ax.set_ylabel('Negative affect', fontsize=14)\n",
    "ax.set_ylim(10, 50)\n",
    "\n",
    "# plt.savefig(os.path.join(OUTPUT_PATH, 'ir_bar.pdf'))\n",
    "plt.show()"
   ]
  },
  {
   "cell_type": "markdown",
   "metadata": {},
   "source": [
    "### Box plot\n",
    "pros:\n",
    "more informative than bar plot\n",
    "\n",
    "cons:\n",
    "unable to understand the data distribution (box plot only show summary statistics)"
   ]
  },
  {
   "cell_type": "code",
   "execution_count": null,
   "metadata": {},
   "outputs": [],
   "source": [
    "# error bar: min/max\n",
    "# box: 25/50(median)/75 percentile\n",
    "# circle: outlier (1.5 times bigger/smaller than box)\n",
    "fig = plt.figure(figsize=(12, 6))\n",
    "ax = fig.add_subplot(1, 2, 1)\n",
    "ax.boxplot([smile_pos, neutral_pos, sad_pos], labels=['Smiley face', 'Neutral face', 'Sad face'])\n",
    "ax.set_xlabel('Facial expression', fontsize=14)\n",
    "ax.set_ylabel('Positive affect', fontsize=14)\n",
    "ax.set_ylim(10, 50)\n",
    "\n",
    "ax = fig.add_subplot(1, 2, 2)\n",
    "ax.boxplot([smile_neg, neutral_neg, sad_neg], labels=['Smiley face', 'Neutral face', 'Sad face'])\n",
    "ax.set_xlabel('Facial expression', fontsize=14)\n",
    "ax.set_ylabel('Negative affect', fontsize=14)\n",
    "ax.set_ylim(10, 50)\n",
    "\n",
    "# plt.savefig(os.path.join(OUTPUT_PATH, 'ir_box.pdf'))\n",
    "plt.show()"
   ]
  },
  {
   "cell_type": "markdown",
   "metadata": {},
   "source": [
    "### Violin plot\n",
    "pros: more informative than box plot (beacuse violin plot represents data distribution)\n",
    "\n",
    "cons:less popular (their meaning can be harder to grasp for many readers not familiar with the violin plot representation)\n"
   ]
  },
  {
   "cell_type": "code",
   "execution_count": null,
   "metadata": {},
   "outputs": [],
   "source": [
    "# Similar to box plot, but also represents kernel density estimation (estimated distribution of data)\n",
    "fig = plt.figure(figsize=(12, 6))\n",
    "ax = fig.add_subplot(1, 2, 1)\n",
    "sns.violinplot(data=[smile_pos, neutral_pos, sad_pos], palette=['salmon', 'palegreen', 'aqua'])\n",
    "ax.set_xticklabels(['Smiley face', 'Neutral face', 'Sad face'])\n",
    "ax.set_xlabel('Facial expression', fontsize=14)\n",
    "ax.set_ylabel('Positive affect', fontsize=14)\n",
    "ax.set_ylim(10, 50)\n",
    "\n",
    "ax = fig.add_subplot(1, 2, 2)\n",
    "sns.violinplot(data=[smile_neg, neutral_neg, sad_neg], palette=['salmon', 'palegreen', 'aqua'])\n",
    "ax.set_xticklabels(['Smiley face', 'Neutral face', 'Sad face'])\n",
    "ax.set_xlabel('Facial expression', fontsize=14)\n",
    "ax.set_ylabel('Negative affect', fontsize=14)\n",
    "ax.set_ylim(10, 50)\n",
    "\n",
    "# plt.savefig(os.path.join(OUTPUT_PATH, 'ir_violin.pdf'))\n",
    "plt.show()"
   ]
  },
  {
   "cell_type": "code",
   "execution_count": null,
   "metadata": {},
   "outputs": [],
   "source": []
  }
 ],
 "metadata": {
  "kernelspec": {
   "display_name": "Python 3.8.1 64-bit ('ex_design_analysis': pipenv)",
   "metadata": {
    "interpreter": {
     "hash": "d93d3809a412eeca67f3d81705e284a9fa16a5e112e379b94b99b867ad05122c"
    }
   },
   "name": "python3"
  },
  "language_info": {
   "codemirror_mode": {
    "name": "ipython",
    "version": 3
   },
   "file_extension": ".py",
   "mimetype": "text/x-python",
   "name": "python",
   "nbconvert_exporter": "python",
   "pygments_lexer": "ipython3",
   "version": "3.8.1-final"
  }
 },
 "nbformat": 4,
 "nbformat_minor": 2
}
