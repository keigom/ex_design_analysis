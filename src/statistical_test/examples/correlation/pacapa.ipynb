{
 "cells": [
  {
   "cell_type": "markdown",
   "metadata": {},
   "source": [
    "# Correlation (PaCaPa: Study 1)\n",
    "Yuqian Sun, Shigeo Yoshida, Takuji Narumi, and Michitaka Hirose. 2019. PaCaPa: A Handheld VR Device for Rendering Size, Shape, and Stiffness of Virtual Objects in Tool-based Interactions. In <i>Proceedings of the 2019 CHI Conference on Human Factors in Computing Systems</i> (<i>CHI '19</i>). Association for Computing Machinery, New York, NY, USA, Paper 452, 1–12. DOI:https://doi.org/10.1145/3290605.3300682"
   ]
  },
  {
   "cell_type": "code",
   "execution_count": null,
   "metadata": {},
   "outputs": [],
   "source": [
    "import numpy as np\n",
    "import pandas as pd\n",
    "import scipy.stats as stats\n",
    "import matplotlib.pyplot as plt\n",
    "import seaborn as sns\n",
    "import os\n",
    "\n",
    "plt.style.use('seaborn-darkgrid')"
   ]
  },
  {
   "cell_type": "code",
   "execution_count": null,
   "metadata": {},
   "outputs": [],
   "source": [
    "CSV_PATH = '../../../../data/statistical_test/examples/pacapa/study-1'\n",
    "NUM_OF_PARTICIPANTS = 18\n",
    "NUM_OF_TRIALS = 2\n",
    "# OUTPUT_PATH = 'output/pacapa/study-1'\n",
    "# if not os.path.isdir(OUTPUT_PATH):\n",
    "    # os.makedirs(OUTPUT_PATH)\n",
    "x = [0.5, 0.75, 1.0, 1.25, 1.5]\n",
    "y = []"
   ]
  },
  {
   "cell_type": "code",
   "execution_count": null,
   "metadata": {},
   "outputs": [],
   "source": [
    "for i in range(NUM_OF_PARTICIPANTS):\n",
    "    p = pd.read_csv(os.path.join(CSV_PATH, 'p' + str(i) + '.csv'), index_col=0)\n",
    "    # display(p)\n",
    "    sum = [0] * len(x)\n",
    "    for j in range(NUM_OF_TRIALS):\n",
    "        sum += p['trial-' + str(j)]\n",
    "    y.extend(sum / NUM_OF_TRIALS)\n",
    "    # print(x)\n",
    "# print(y)\n",
    "# print(len(x))"
   ]
  },
  {
   "cell_type": "code",
   "execution_count": null,
   "metadata": {
    "tags": []
   },
   "outputs": [],
   "source": [
    "# Effect size of 'r'\n",
    "# small size : 0.1\n",
    "# medium size: 0.3\n",
    "# large size : 0.5\n",
    "slope, intercept, rvalue, pvalue, stderr = stats.linregress(x * NUM_OF_PARTICIPANTS, y)\n",
    "print('r={:.5f}, p={:.5f}'.format(rvalue, pvalue))"
   ]
  },
  {
   "cell_type": "code",
   "execution_count": null,
   "metadata": {},
   "outputs": [],
   "source": [
    "plt.figure(figsize=(7, 5))\n",
    "\n",
    "# Plot data\n",
    "plt.plot(x * NUM_OF_PARTICIPANTS, y, 'o', alpha=0.4)\n",
    "plt.xlabel('Cube size', fontsize=14)\n",
    "plt.ylabel('Perceived size', fontsize=14)\n",
    "\n",
    "# Regression line\n",
    "plt.plot(x, slope * np.array(x) + intercept, 'k')\n",
    "\n",
    "plt.ylim(0, 2.0)\n",
    "\n",
    "# plt.savefig(os.path.join(OUTPUT_PATH, 'pacapa_crr.pdf'))\n",
    "plt.show()"
   ]
  },
  {
   "cell_type": "code",
   "execution_count": null,
   "metadata": {},
   "outputs": [],
   "source": []
  }
 ],
 "metadata": {
  "kernelspec": {
   "display_name": "Python 3.8.1 64-bit ('ex_design_analysis': pipenv)",
   "metadata": {
    "interpreter": {
     "hash": "d93d3809a412eeca67f3d81705e284a9fa16a5e112e379b94b99b867ad05122c"
    }
   },
   "name": "python3"
  },
  "language_info": {
   "codemirror_mode": {
    "name": "ipython",
    "version": 3
   },
   "file_extension": ".py",
   "mimetype": "text/x-python",
   "name": "python",
   "nbconvert_exporter": "python",
   "pygments_lexer": "ipython3",
   "version": "3.8.1-final"
  }
 },
 "nbformat": 4,
 "nbformat_minor": 2
}
