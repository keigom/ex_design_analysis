{
 "cells": [
  {
   "cell_type": "markdown",
   "metadata": {},
   "source": [
    "# Chi^2 test\n",
    "吉田成朗、鳴海拓志、櫻井翔、谷川智洋、廣瀬通孝：リアルタイムな表情変形フィードバックによる感情体験の操作、ヒューマンインタフェース学会論文誌、Vol.17 No.1、2015年2月 https://doi.org/10.11184/his.17.1_15"
   ]
  },
  {
   "cell_type": "code",
   "execution_count": null,
   "metadata": {},
   "outputs": [],
   "source": [
    "import numpy as np\n",
    "import pandas as pd\n",
    "import scipy.stats as stats\n",
    "import os"
   ]
  },
  {
   "cell_type": "code",
   "execution_count": null,
   "metadata": {},
   "outputs": [],
   "source": [
    "CSV_PATH = '../../../../data/statistical_test/examples/incendiary_reflection/chi-square/classified_face.csv'\n",
    "NUM_OF_CLASSIFIED = 200\n",
    "ALPHA = 0.05\n",
    "columns = ['smiley face mirror', 'sad face mirror']\n",
    "index = ['smile', 'neutral', 'sad']"
   ]
  },
  {
   "cell_type": "code",
   "execution_count": null,
   "metadata": {},
   "outputs": [],
   "source": [
    "data = pd.read_csv(CSV_PATH, index_col=0)\n",
    "display(data.head())"
   ]
  },
  {
   "cell_type": "code",
   "execution_count": null,
   "metadata": {
    "tags": []
   },
   "outputs": [],
   "source": [
    "smile_mirror_count = data['smiley face mirror'].value_counts()\n",
    "sad_mirror_count = data['sad face mirror'].value_counts()\n",
    "print(smile_mirror_count)\n",
    "print(sad_mirror_count)"
   ]
  },
  {
   "cell_type": "code",
   "execution_count": null,
   "metadata": {
    "tags": []
   },
   "outputs": [],
   "source": [
    "cross_data = pd.DataFrame(columns=columns, index=index)\n",
    "cross_data[columns[0]] = [smile_mirror_count[1], \n",
    "                          smile_mirror_count[0],\n",
    "                          smile_mirror_count[2]]\n",
    "cross_data[columns[1]] = [sad_mirror_count[2], \n",
    "                          sad_mirror_count[0],\n",
    "                          sad_mirror_count[1]]\n",
    "print(cross_data)"
   ]
  },
  {
   "cell_type": "code",
   "execution_count": null,
   "metadata": {
    "tags": []
   },
   "outputs": [],
   "source": [
    "result = stats.chi2_contingency(cross_data, correction=False)\n",
    "print('chi^2({},N={})={:.2f}, p={:.5f}'.format(result[2], 20, result[0], result[1]))"
   ]
  },
  {
   "cell_type": "code",
   "execution_count": null,
   "metadata": {},
   "outputs": [],
   "source": []
  }
 ],
 "metadata": {
  "kernelspec": {
   "display_name": "Python 3.8.1 64-bit ('ex_design_analysis': pipenv)",
   "metadata": {
    "interpreter": {
     "hash": "d93d3809a412eeca67f3d81705e284a9fa16a5e112e379b94b99b867ad05122c"
    }
   },
   "name": "python3"
  },
  "language_info": {
   "codemirror_mode": {
    "name": "ipython",
    "version": 3
   },
   "file_extension": ".py",
   "mimetype": "text/x-python",
   "name": "python",
   "nbconvert_exporter": "python",
   "pygments_lexer": "ipython3",
   "version": "3.8.1-final"
  }
 },
 "nbformat": 4,
 "nbformat_minor": 2
}
